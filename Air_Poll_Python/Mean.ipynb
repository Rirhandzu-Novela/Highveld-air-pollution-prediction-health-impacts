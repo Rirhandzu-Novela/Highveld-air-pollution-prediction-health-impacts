{
 "cells": [
  {
   "cell_type": "code",
   "execution_count": 1,
   "id": "26c17080",
   "metadata": {},
   "outputs": [],
   "source": [
    "import numpy as np # linear algebra\n",
    "import pandas as pd # data processing, CSV file I/O (e.g. pd.read_csv)\n",
    "import matplotlib.pyplot as plt\n",
    "from scipy import stats"
   ]
  },
  {
   "cell_type": "code",
   "execution_count": 3,
   "id": "cd38051d",
   "metadata": {},
   "outputs": [],
   "source": [
    "df = pd.read_csv('AveragesDaily.csv', sep =';', header=0, index_col=0)"
   ]
  },
  {
   "cell_type": "code",
   "execution_count": 4,
   "id": "fe235d2a",
   "metadata": {
    "scrolled": false
   },
   "outputs": [
    {
     "data": {
      "text/html": [
       "<div>\n",
       "<style scoped>\n",
       "    .dataframe tbody tr th:only-of-type {\n",
       "        vertical-align: middle;\n",
       "    }\n",
       "\n",
       "    .dataframe tbody tr th {\n",
       "        vertical-align: top;\n",
       "    }\n",
       "\n",
       "    .dataframe thead th {\n",
       "        text-align: right;\n",
       "    }\n",
       "</style>\n",
       "<table border=\"1\" class=\"dataframe\">\n",
       "  <thead>\n",
       "    <tr style=\"text-align: right;\">\n",
       "      <th></th>\n",
       "      <th>PM2.5</th>\n",
       "      <th>PM10</th>\n",
       "      <th>SO2</th>\n",
       "      <th>NO2</th>\n",
       "      <th>NO</th>\n",
       "      <th>Nox</th>\n",
       "      <th>O3</th>\n",
       "      <th>CO</th>\n",
       "      <th>Wind.Speed</th>\n",
       "      <th>Wind.direction</th>\n",
       "      <th>Temperature</th>\n",
       "      <th>Humidity</th>\n",
       "      <th>Pressure</th>\n",
       "    </tr>\n",
       "  </thead>\n",
       "  <tbody>\n",
       "    <tr>\n",
       "      <th>count</th>\n",
       "      <td>3652.000000</td>\n",
       "      <td>3652.000000</td>\n",
       "      <td>3652.000000</td>\n",
       "      <td>3652.000000</td>\n",
       "      <td>3652.000000</td>\n",
       "      <td>3652.000000</td>\n",
       "      <td>3652.000000</td>\n",
       "      <td>3652.000000</td>\n",
       "      <td>3652.000000</td>\n",
       "      <td>3652.000000</td>\n",
       "      <td>3652.000000</td>\n",
       "      <td>3652.000000</td>\n",
       "      <td>3652.000000</td>\n",
       "    </tr>\n",
       "    <tr>\n",
       "      <th>mean</th>\n",
       "      <td>23.114175</td>\n",
       "      <td>46.883238</td>\n",
       "      <td>11.052370</td>\n",
       "      <td>13.861017</td>\n",
       "      <td>10.318732</td>\n",
       "      <td>23.701167</td>\n",
       "      <td>27.709427</td>\n",
       "      <td>9.659670</td>\n",
       "      <td>2.182425</td>\n",
       "      <td>173.412582</td>\n",
       "      <td>16.071882</td>\n",
       "      <td>63.203188</td>\n",
       "      <td>844.575290</td>\n",
       "    </tr>\n",
       "    <tr>\n",
       "      <th>std</th>\n",
       "      <td>13.563029</td>\n",
       "      <td>28.292762</td>\n",
       "      <td>5.315205</td>\n",
       "      <td>6.139741</td>\n",
       "      <td>7.901103</td>\n",
       "      <td>12.818088</td>\n",
       "      <td>7.450728</td>\n",
       "      <td>62.183766</td>\n",
       "      <td>0.734620</td>\n",
       "      <td>41.580538</td>\n",
       "      <td>3.808428</td>\n",
       "      <td>14.339956</td>\n",
       "      <td>3.360956</td>\n",
       "    </tr>\n",
       "    <tr>\n",
       "      <th>min</th>\n",
       "      <td>1.391483</td>\n",
       "      <td>2.059708</td>\n",
       "      <td>1.361603</td>\n",
       "      <td>2.626025</td>\n",
       "      <td>0.774194</td>\n",
       "      <td>5.165669</td>\n",
       "      <td>9.599887</td>\n",
       "      <td>0.013208</td>\n",
       "      <td>0.594833</td>\n",
       "      <td>56.022167</td>\n",
       "      <td>2.434842</td>\n",
       "      <td>17.199667</td>\n",
       "      <td>762.019437</td>\n",
       "    </tr>\n",
       "    <tr>\n",
       "      <th>25%</th>\n",
       "      <td>13.693427</td>\n",
       "      <td>26.639799</td>\n",
       "      <td>7.502995</td>\n",
       "      <td>9.531878</td>\n",
       "      <td>5.533200</td>\n",
       "      <td>14.996418</td>\n",
       "      <td>22.730916</td>\n",
       "      <td>0.254512</td>\n",
       "      <td>1.650515</td>\n",
       "      <td>140.202628</td>\n",
       "      <td>13.052645</td>\n",
       "      <td>53.658203</td>\n",
       "      <td>842.558801</td>\n",
       "    </tr>\n",
       "    <tr>\n",
       "      <th>50%</th>\n",
       "      <td>19.165502</td>\n",
       "      <td>38.224838</td>\n",
       "      <td>9.958130</td>\n",
       "      <td>12.380730</td>\n",
       "      <td>7.626405</td>\n",
       "      <td>19.718022</td>\n",
       "      <td>26.976597</td>\n",
       "      <td>0.541080</td>\n",
       "      <td>2.067103</td>\n",
       "      <td>175.843363</td>\n",
       "      <td>16.806121</td>\n",
       "      <td>65.041352</td>\n",
       "      <td>844.338721</td>\n",
       "    </tr>\n",
       "    <tr>\n",
       "      <th>75%</th>\n",
       "      <td>29.272716</td>\n",
       "      <td>61.579020</td>\n",
       "      <td>13.305939</td>\n",
       "      <td>16.851480</td>\n",
       "      <td>11.835661</td>\n",
       "      <td>28.081712</td>\n",
       "      <td>31.788202</td>\n",
       "      <td>2.240086</td>\n",
       "      <td>2.594726</td>\n",
       "      <td>205.791656</td>\n",
       "      <td>18.923276</td>\n",
       "      <td>73.801294</td>\n",
       "      <td>846.577590</td>\n",
       "    </tr>\n",
       "    <tr>\n",
       "      <th>max</th>\n",
       "      <td>105.656977</td>\n",
       "      <td>217.917603</td>\n",
       "      <td>40.919633</td>\n",
       "      <td>55.559742</td>\n",
       "      <td>69.119122</td>\n",
       "      <td>96.504478</td>\n",
       "      <td>62.948261</td>\n",
       "      <td>988.249312</td>\n",
       "      <td>6.144667</td>\n",
       "      <td>294.070060</td>\n",
       "      <td>26.495167</td>\n",
       "      <td>99.464000</td>\n",
       "      <td>856.973602</td>\n",
       "    </tr>\n",
       "  </tbody>\n",
       "</table>\n",
       "</div>"
      ],
      "text/plain": [
       "             PM2.5         PM10          SO2          NO2           NO  \\\n",
       "count  3652.000000  3652.000000  3652.000000  3652.000000  3652.000000   \n",
       "mean     23.114175    46.883238    11.052370    13.861017    10.318732   \n",
       "std      13.563029    28.292762     5.315205     6.139741     7.901103   \n",
       "min       1.391483     2.059708     1.361603     2.626025     0.774194   \n",
       "25%      13.693427    26.639799     7.502995     9.531878     5.533200   \n",
       "50%      19.165502    38.224838     9.958130    12.380730     7.626405   \n",
       "75%      29.272716    61.579020    13.305939    16.851480    11.835661   \n",
       "max     105.656977   217.917603    40.919633    55.559742    69.119122   \n",
       "\n",
       "               Nox           O3           CO   Wind.Speed  Wind.direction  \\\n",
       "count  3652.000000  3652.000000  3652.000000  3652.000000     3652.000000   \n",
       "mean     23.701167    27.709427     9.659670     2.182425      173.412582   \n",
       "std      12.818088     7.450728    62.183766     0.734620       41.580538   \n",
       "min       5.165669     9.599887     0.013208     0.594833       56.022167   \n",
       "25%      14.996418    22.730916     0.254512     1.650515      140.202628   \n",
       "50%      19.718022    26.976597     0.541080     2.067103      175.843363   \n",
       "75%      28.081712    31.788202     2.240086     2.594726      205.791656   \n",
       "max      96.504478    62.948261   988.249312     6.144667      294.070060   \n",
       "\n",
       "       Temperature     Humidity     Pressure  \n",
       "count  3652.000000  3652.000000  3652.000000  \n",
       "mean     16.071882    63.203188   844.575290  \n",
       "std       3.808428    14.339956     3.360956  \n",
       "min       2.434842    17.199667   762.019437  \n",
       "25%      13.052645    53.658203   842.558801  \n",
       "50%      16.806121    65.041352   844.338721  \n",
       "75%      18.923276    73.801294   846.577590  \n",
       "max      26.495167    99.464000   856.973602  "
      ]
     },
     "execution_count": 4,
     "metadata": {},
     "output_type": "execute_result"
    }
   ],
   "source": [
    "df.describe()"
   ]
  },
  {
   "cell_type": "code",
   "execution_count": 5,
   "id": "20eeb1f8",
   "metadata": {},
   "outputs": [
    {
     "data": {
      "text/plain": [
       "PM2.5             0\n",
       "PM10              0\n",
       "SO2               0\n",
       "NO2               0\n",
       "NO                0\n",
       "Nox               0\n",
       "O3                0\n",
       "CO                0\n",
       "Wind.Speed        0\n",
       "Wind.direction    0\n",
       "Temperature       0\n",
       "Humidity          0\n",
       "Pressure          0\n",
       "Rain              0\n",
       "dtype: int64"
      ]
     },
     "execution_count": 5,
     "metadata": {},
     "output_type": "execute_result"
    }
   ],
   "source": [
    "df.isnull().sum()"
   ]
  },
  {
   "cell_type": "code",
   "execution_count": 6,
   "id": "406f483a",
   "metadata": {
    "scrolled": true
   },
   "outputs": [
    {
     "name": "stdout",
     "output_type": "stream",
     "text": [
      "Count of values greater than 40 in Column B :  427\n"
     ]
    }
   ],
   "source": [
    "limit = 40\n",
    "column_name = 'PM2.5'\n",
    "count = (df[column_name] > limit).sum()\n",
    "print('Count of values greater than 40 in Column B : ', count)"
   ]
  },
  {
   "cell_type": "code",
   "execution_count": 7,
   "id": "b8c9f66e",
   "metadata": {},
   "outputs": [
    {
     "name": "stdout",
     "output_type": "stream",
     "text": [
      "2482\n"
     ]
    }
   ],
   "source": [
    "limit = 15\n",
    "column_name = 'PM2.5'\n",
    "column = df[column_name]\n",
    "count = column[column > limit].count()\n",
    "print(count)"
   ]
  },
  {
   "cell_type": "code",
   "execution_count": 8,
   "id": "f9836766",
   "metadata": {},
   "outputs": [
    {
     "name": "stdout",
     "output_type": "stream",
     "text": [
      "Count of values greater than 75 in Column B :  578\n"
     ]
    }
   ],
   "source": [
    "limit = 75\n",
    "column_name = 'PM10'\n",
    "count = (df[column_name] > limit).sum()\n",
    "print('Count of values greater than 75 in Column B : ', count)"
   ]
  },
  {
   "cell_type": "code",
   "execution_count": 9,
   "id": "8085b6b1",
   "metadata": {},
   "outputs": [
    {
     "name": "stdout",
     "output_type": "stream",
     "text": [
      "1499\n"
     ]
    }
   ],
   "source": [
    "limit = 45\n",
    "column_name = 'PM10'\n",
    "column = df[column_name]\n",
    "count = column[column > limit].count()\n",
    "print(count)"
   ]
  },
  {
   "cell_type": "code",
   "execution_count": 10,
   "id": "370253b8",
   "metadata": {},
   "outputs": [
    {
     "name": "stdout",
     "output_type": "stream",
     "text": [
      "Count of values greater than 125 in Column B :  0\n"
     ]
    }
   ],
   "source": [
    "limit = 44\n",
    "column_name = 'SO2'\n",
    "count = (df[column_name] > limit).sum()\n",
    "print('Count of values greater than 125 in Column B : ', count)"
   ]
  },
  {
   "cell_type": "code",
   "execution_count": 11,
   "id": "4eec08c3",
   "metadata": {},
   "outputs": [
    {
     "name": "stdout",
     "output_type": "stream",
     "text": [
      "782\n"
     ]
    }
   ],
   "source": [
    "limit = 14\n",
    "column_name = 'SO2'\n",
    "column = df[column_name]\n",
    "count = column[column > limit].count()\n",
    "print(count)"
   ]
  },
  {
   "cell_type": "code",
   "execution_count": 12,
   "id": "ade759bd",
   "metadata": {},
   "outputs": [
    {
     "name": "stdout",
     "output_type": "stream",
     "text": [
      "Count of values greater than 125 in Column B :  0\n"
     ]
    }
   ],
   "source": [
    "limit = 92\n",
    "column_name = 'NO2'\n",
    "count = (df[column_name] > limit).sum()\n",
    "print('Count of values greater than 125 in Column B : ', count)"
   ]
  },
  {
   "cell_type": "code",
   "execution_count": 13,
   "id": "4f277739",
   "metadata": {},
   "outputs": [
    {
     "name": "stdout",
     "output_type": "stream",
     "text": [
      "1912\n"
     ]
    }
   ],
   "source": [
    "limit = 12\n",
    "column_name = 'NO2'\n",
    "column = df[column_name]\n",
    "count = column[column > limit].count()\n",
    "print(count)"
   ]
  },
  {
   "cell_type": "code",
   "execution_count": null,
   "id": "7ed48c46",
   "metadata": {},
   "outputs": [],
   "source": [
    "df = pd.read_csv('ErmeloDaily.csv', sep =';', header=0, index_col=0)"
   ]
  },
  {
   "cell_type": "code",
   "execution_count": null,
   "id": "60d517dc",
   "metadata": {},
   "outputs": [],
   "source": [
    "df.describe()"
   ]
  },
  {
   "cell_type": "code",
   "execution_count": null,
   "id": "a7c2666b",
   "metadata": {},
   "outputs": [],
   "source": [
    "limit = 40\n",
    "column_name = 'PM2.5'\n",
    "count = (df[column_name] > limit).sum()\n",
    "print('Count of values greater than 40 in Column B : ', count)"
   ]
  },
  {
   "cell_type": "code",
   "execution_count": null,
   "id": "08a687d9",
   "metadata": {},
   "outputs": [],
   "source": [
    "limit = 15\n",
    "column_name = 'PM2.5'\n",
    "column = df[column_name]\n",
    "count = column[column > limit].count()\n",
    "print(count)"
   ]
  },
  {
   "cell_type": "code",
   "execution_count": null,
   "id": "97b95918",
   "metadata": {},
   "outputs": [],
   "source": [
    "limit = 75\n",
    "column_name = 'PM10'\n",
    "count = (df[column_name] > limit).sum()\n",
    "print('Count of values greater than 75 in Column B : ', count)"
   ]
  },
  {
   "cell_type": "code",
   "execution_count": null,
   "id": "a57d7a63",
   "metadata": {},
   "outputs": [],
   "source": [
    "limit = 45\n",
    "column_name = 'PM10'\n",
    "column = df[column_name]\n",
    "count = column[column > limit].count()\n",
    "print(count)"
   ]
  },
  {
   "cell_type": "code",
   "execution_count": null,
   "id": "db263646",
   "metadata": {},
   "outputs": [],
   "source": [
    "limit = 44\n",
    "column_name = 'SO2'\n",
    "count = (df[column_name] > limit).sum()\n",
    "print('Count of values greater than 125 in Column B : ', count)"
   ]
  },
  {
   "cell_type": "code",
   "execution_count": null,
   "id": "7f55fec1",
   "metadata": {},
   "outputs": [],
   "source": [
    "limit = 14\n",
    "column_name = 'SO2'\n",
    "column = df[column_name]\n",
    "count = column[column > limit].count()\n",
    "print(count)"
   ]
  },
  {
   "cell_type": "code",
   "execution_count": null,
   "id": "6931730e",
   "metadata": {},
   "outputs": [],
   "source": [
    "limit = 92\n",
    "column_name = 'NO2'\n",
    "count = (df[column_name] > limit).sum()\n",
    "print('Count of values greater than 125 in Column B : ', count)"
   ]
  },
  {
   "cell_type": "code",
   "execution_count": null,
   "id": "1921ae61",
   "metadata": {},
   "outputs": [],
   "source": [
    "limit = 12\n",
    "column_name = 'NO2'\n",
    "column = df[column_name]\n",
    "count = column[column > limit].count()\n",
    "print(count)"
   ]
  },
  {
   "cell_type": "code",
   "execution_count": null,
   "id": "4b011a23",
   "metadata": {},
   "outputs": [],
   "source": [
    "df = pd.read_csv('HendrinaDaily.csv', sep =';', header=0, index_col=0)"
   ]
  },
  {
   "cell_type": "code",
   "execution_count": null,
   "id": "338b6ef0",
   "metadata": {},
   "outputs": [],
   "source": [
    "df.describe()"
   ]
  },
  {
   "cell_type": "code",
   "execution_count": null,
   "id": "ec868a39",
   "metadata": {},
   "outputs": [],
   "source": [
    "limit = 40\n",
    "column_name = 'PM2.5'\n",
    "count = (df[column_name] > limit).sum()\n",
    "print('Count of values greater than 40 in Column B : ', count)"
   ]
  },
  {
   "cell_type": "code",
   "execution_count": null,
   "id": "166cc64a",
   "metadata": {},
   "outputs": [],
   "source": [
    "limit = 15\n",
    "column_name = 'PM2.5'\n",
    "column = df[column_name]\n",
    "count = column[column > limit].count()\n",
    "print(count)"
   ]
  },
  {
   "cell_type": "code",
   "execution_count": null,
   "id": "acb30c26",
   "metadata": {},
   "outputs": [],
   "source": [
    "limit = 75\n",
    "column_name = 'PM10'\n",
    "count = (df[column_name] > limit).sum()\n",
    "print('Count of values greater than 75 in Column B : ', count)"
   ]
  },
  {
   "cell_type": "code",
   "execution_count": null,
   "id": "c89b7bc2",
   "metadata": {},
   "outputs": [],
   "source": [
    "limit = 45\n",
    "column_name = 'PM10'\n",
    "column = df[column_name]\n",
    "count = column[column > limit].count()\n",
    "print(count)"
   ]
  },
  {
   "cell_type": "code",
   "execution_count": null,
   "id": "e532d37b",
   "metadata": {},
   "outputs": [],
   "source": [
    "limit = 44\n",
    "column_name = 'SO2'\n",
    "count = (df[column_name] > limit).sum()\n",
    "print('Count of values greater than 125 in Column B : ', count)"
   ]
  },
  {
   "cell_type": "code",
   "execution_count": null,
   "id": "7164736e",
   "metadata": {},
   "outputs": [],
   "source": [
    "limit = 14\n",
    "column_name = 'SO2'\n",
    "column = df[column_name]\n",
    "count = column[column > limit].count()\n",
    "print(count)"
   ]
  },
  {
   "cell_type": "code",
   "execution_count": null,
   "id": "88ab8ed5",
   "metadata": {},
   "outputs": [],
   "source": [
    "limit = 92\n",
    "column_name = 'NO2'\n",
    "count = (df[column_name] > limit).sum()\n",
    "print('Count of values greater than 125 in Column B : ', count)"
   ]
  },
  {
   "cell_type": "code",
   "execution_count": null,
   "id": "cc831810",
   "metadata": {},
   "outputs": [],
   "source": [
    "limit = 12\n",
    "column_name = 'NO2'\n",
    "column = df[column_name]\n",
    "count = column[column > limit].count()\n",
    "print(count)"
   ]
  },
  {
   "cell_type": "code",
   "execution_count": null,
   "id": "834eccce",
   "metadata": {},
   "outputs": [],
   "source": [
    "df = pd.read_csv('MiddelburgDaily.csv', sep =';', header=0, index_col=0)"
   ]
  },
  {
   "cell_type": "code",
   "execution_count": null,
   "id": "e9700cdf",
   "metadata": {},
   "outputs": [],
   "source": [
    "df.describe()"
   ]
  },
  {
   "cell_type": "code",
   "execution_count": null,
   "id": "a37b8908",
   "metadata": {},
   "outputs": [],
   "source": [
    "limit = 40\n",
    "column_name = 'PM2.5'\n",
    "count = (df[column_name] > limit).sum()\n",
    "print('Count of values greater than 40 in Column B : ', count)"
   ]
  },
  {
   "cell_type": "code",
   "execution_count": null,
   "id": "5f80fbcd",
   "metadata": {},
   "outputs": [],
   "source": [
    "limit = 15\n",
    "column_name = 'PM2.5'\n",
    "column = df[column_name]\n",
    "count = column[column > limit].count()\n",
    "print(count)"
   ]
  },
  {
   "cell_type": "code",
   "execution_count": null,
   "id": "2c3412a9",
   "metadata": {},
   "outputs": [],
   "source": [
    "limit = 75\n",
    "column_name = 'PM10'\n",
    "count = (df[column_name] > limit).sum()\n",
    "print('Count of values greater than 75 in Column B : ', count)"
   ]
  },
  {
   "cell_type": "code",
   "execution_count": null,
   "id": "847e659b",
   "metadata": {},
   "outputs": [],
   "source": [
    "limit = 45\n",
    "column_name = 'PM10'\n",
    "column = df[column_name]\n",
    "count = column[column > limit].count()\n",
    "print(count)"
   ]
  },
  {
   "cell_type": "code",
   "execution_count": null,
   "id": "aeffb1e8",
   "metadata": {},
   "outputs": [],
   "source": [
    "limit = 44\n",
    "column_name = 'SO2'\n",
    "count = (df[column_name] > limit).sum()\n",
    "print('Count of values greater than 125 in Column B : ', count)"
   ]
  },
  {
   "cell_type": "code",
   "execution_count": null,
   "id": "bd4f5305",
   "metadata": {},
   "outputs": [],
   "source": [
    "limit = 14\n",
    "column_name = 'SO2'\n",
    "column = df[column_name]\n",
    "count = column[column > limit].count()\n",
    "print(count)"
   ]
  },
  {
   "cell_type": "code",
   "execution_count": null,
   "id": "534b4a80",
   "metadata": {},
   "outputs": [],
   "source": [
    "limit = 92\n",
    "column_name = 'NO2'\n",
    "count = (df[column_name] > limit).sum()\n",
    "print('Count of values greater than 125 in Column B : ', count)"
   ]
  },
  {
   "cell_type": "code",
   "execution_count": null,
   "id": "0b983c50",
   "metadata": {},
   "outputs": [],
   "source": [
    "limit = 12\n",
    "column_name = 'NO2'\n",
    "column = df[column_name]\n",
    "count = column[column > limit].count()\n",
    "print(count)"
   ]
  },
  {
   "cell_type": "code",
   "execution_count": null,
   "id": "dc159440",
   "metadata": {},
   "outputs": [],
   "source": [
    "df = pd.read_csv('SecundaDaily.csv', sep =';', header=0, index_col=0)"
   ]
  },
  {
   "cell_type": "code",
   "execution_count": null,
   "id": "514670dc",
   "metadata": {},
   "outputs": [],
   "source": [
    "df.describe()"
   ]
  },
  {
   "cell_type": "code",
   "execution_count": null,
   "id": "70ca3847",
   "metadata": {},
   "outputs": [],
   "source": [
    "limit = 40\n",
    "column_name = 'PM2.5'\n",
    "count = (df[column_name] > limit).sum()\n",
    "print('Count of values greater than 40 in Column B : ', count)"
   ]
  },
  {
   "cell_type": "code",
   "execution_count": null,
   "id": "20a8eae1",
   "metadata": {},
   "outputs": [],
   "source": [
    "limit = 15\n",
    "column_name = 'PM2.5'\n",
    "column = df[column_name]\n",
    "count = column[column > limit].count()\n",
    "print(count)"
   ]
  },
  {
   "cell_type": "code",
   "execution_count": null,
   "id": "eb9776e4",
   "metadata": {},
   "outputs": [],
   "source": [
    "limit = 75\n",
    "column_name = 'PM10'\n",
    "count = (df[column_name] > limit).sum()\n",
    "print('Count of values greater than 75 in Column B : ', count)"
   ]
  },
  {
   "cell_type": "code",
   "execution_count": null,
   "id": "7a97e727",
   "metadata": {},
   "outputs": [],
   "source": [
    "limit = 45\n",
    "column_name = 'PM10'\n",
    "column = df[column_name]\n",
    "count = column[column > limit].count()\n",
    "print(count)"
   ]
  },
  {
   "cell_type": "code",
   "execution_count": null,
   "id": "e129ad1a",
   "metadata": {},
   "outputs": [],
   "source": [
    "limit = 44\n",
    "column_name = 'SO2'\n",
    "count = (df[column_name] > limit).sum()\n",
    "print('Count of values greater than 125 in Column B : ', count)"
   ]
  },
  {
   "cell_type": "code",
   "execution_count": null,
   "id": "c8338534",
   "metadata": {},
   "outputs": [],
   "source": [
    "limit = 14\n",
    "column_name = 'SO2'\n",
    "column = df[column_name]\n",
    "count = column[column > limit].count()\n",
    "print(count)"
   ]
  },
  {
   "cell_type": "code",
   "execution_count": null,
   "id": "aceaffdc",
   "metadata": {},
   "outputs": [],
   "source": [
    "limit = 92\n",
    "column_name = 'NO2'\n",
    "count = (df[column_name] > limit).sum()\n",
    "print('Count of values greater than 125 in Column B : ', count)"
   ]
  },
  {
   "cell_type": "code",
   "execution_count": null,
   "id": "0801c6e5",
   "metadata": {},
   "outputs": [],
   "source": [
    "limit = 12\n",
    "column_name = 'NO2'\n",
    "column = df[column_name]\n",
    "count = column[column > limit].count()\n",
    "print(count)"
   ]
  },
  {
   "cell_type": "code",
   "execution_count": null,
   "id": "acb3c050",
   "metadata": {},
   "outputs": [],
   "source": []
  }
 ],
 "metadata": {
  "kernelspec": {
   "display_name": "Python 3 (ipykernel)",
   "language": "python",
   "name": "python3"
  },
  "language_info": {
   "codemirror_mode": {
    "name": "ipython",
    "version": 3
   },
   "file_extension": ".py",
   "mimetype": "text/x-python",
   "name": "python",
   "nbconvert_exporter": "python",
   "pygments_lexer": "ipython3",
   "version": "3.9.7"
  }
 },
 "nbformat": 4,
 "nbformat_minor": 5
}
