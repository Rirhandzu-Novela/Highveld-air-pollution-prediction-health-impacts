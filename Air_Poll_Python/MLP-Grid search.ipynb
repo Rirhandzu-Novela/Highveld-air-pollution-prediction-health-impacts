{
 "cells": [
  {
   "cell_type": "markdown",
   "id": "196c63f2",
   "metadata": {},
   "source": [
    "# Import"
   ]
  },
  {
   "cell_type": "code",
   "execution_count": 1,
   "id": "8468f4ae",
   "metadata": {},
   "outputs": [
    {
     "name": "stdout",
     "output_type": "stream",
     "text": [
      "2.9.1\n"
     ]
    }
   ],
   "source": [
    "import numpy as np\n",
    "from scikeras.wrappers import KerasRegressor\n",
    "from sklearn.model_selection import GridSearchCV\n",
    "from keras.preprocessing.text import Tokenizer\n",
    "from keras.models import Sequential\n",
    "from keras.layers import Dense\n",
    "import pandas as pd\n",
    "import math\n",
    "import matplotlib.pyplot as plt\n",
    "from sklearn.preprocessing import MinMaxScaler\n",
    "from sklearn.preprocessing import LabelEncoder\n",
    "from sklearn.model_selection import train_test_split\n",
    "from sklearn.metrics import mean_squared_error\n",
    "from sklearn.metrics import mean_absolute_error\n",
    "from keras.layers import Flatten\n",
    "from keras.layers.convolutional import Conv1D\n",
    "from keras.layers.convolutional import MaxPooling1D\n",
    "\n",
    "%matplotlib inline\n",
    "#%tensorflow_version 1.x\n",
    "import tensorflow as tf\n",
    "print(tf.__version__)\n"
   ]
  },
  {
   "cell_type": "markdown",
   "id": "0e491d36",
   "metadata": {},
   "source": [
    "## load dataset"
   ]
  },
  {
   "cell_type": "code",
   "execution_count": 2,
   "id": "51f8628e",
   "metadata": {},
   "outputs": [],
   "source": [
    "dataset = pd.read_csv('eMalahleniIM.csv', sep =';', header=0, index_col=0)\n",
    "values = dataset.values"
   ]
  },
  {
   "cell_type": "code",
   "execution_count": 3,
   "id": "ec628f50",
   "metadata": {},
   "outputs": [
    {
     "data": {
      "text/html": [
       "<div>\n",
       "<style scoped>\n",
       "    .dataframe tbody tr th:only-of-type {\n",
       "        vertical-align: middle;\n",
       "    }\n",
       "\n",
       "    .dataframe tbody tr th {\n",
       "        vertical-align: top;\n",
       "    }\n",
       "\n",
       "    .dataframe thead th {\n",
       "        text-align: right;\n",
       "    }\n",
       "</style>\n",
       "<table border=\"1\" class=\"dataframe\">\n",
       "  <thead>\n",
       "    <tr style=\"text-align: right;\">\n",
       "      <th></th>\n",
       "      <th>PM2.5</th>\n",
       "      <th>PM10</th>\n",
       "      <th>SO2</th>\n",
       "      <th>NO2</th>\n",
       "      <th>NO</th>\n",
       "      <th>NOx</th>\n",
       "      <th>O3</th>\n",
       "      <th>CO</th>\n",
       "      <th>Amb Wspeed</th>\n",
       "      <th>Amb WDirection</th>\n",
       "      <th>Temperature</th>\n",
       "      <th>Amb RelHum</th>\n",
       "      <th>Amb Pressure</th>\n",
       "      <th>Rain</th>\n",
       "    </tr>\n",
       "  </thead>\n",
       "  <tbody>\n",
       "    <tr>\n",
       "      <th>count</th>\n",
       "      <td>87647.000000</td>\n",
       "      <td>87647.000000</td>\n",
       "      <td>87647.000000</td>\n",
       "      <td>87647.000000</td>\n",
       "      <td>87647.000000</td>\n",
       "      <td>87647.000000</td>\n",
       "      <td>87647.000000</td>\n",
       "      <td>87647.000000</td>\n",
       "      <td>87647.000000</td>\n",
       "      <td>87647.000000</td>\n",
       "      <td>87647.000000</td>\n",
       "      <td>87647.000000</td>\n",
       "      <td>87647.000000</td>\n",
       "      <td>87647.000000</td>\n",
       "    </tr>\n",
       "    <tr>\n",
       "      <th>mean</th>\n",
       "      <td>26.007116</td>\n",
       "      <td>50.166071</td>\n",
       "      <td>17.720752</td>\n",
       "      <td>16.288917</td>\n",
       "      <td>11.762961</td>\n",
       "      <td>27.630757</td>\n",
       "      <td>27.538466</td>\n",
       "      <td>0.660224</td>\n",
       "      <td>2.092284</td>\n",
       "      <td>160.094147</td>\n",
       "      <td>17.408327</td>\n",
       "      <td>58.940236</td>\n",
       "      <td>852.985732</td>\n",
       "      <td>0.184568</td>\n",
       "    </tr>\n",
       "    <tr>\n",
       "      <th>std</th>\n",
       "      <td>29.926293</td>\n",
       "      <td>53.579022</td>\n",
       "      <td>24.914745</td>\n",
       "      <td>13.323128</td>\n",
       "      <td>22.380156</td>\n",
       "      <td>31.800506</td>\n",
       "      <td>16.573805</td>\n",
       "      <td>3.221007</td>\n",
       "      <td>1.295440</td>\n",
       "      <td>91.054771</td>\n",
       "      <td>5.549513</td>\n",
       "      <td>23.445677</td>\n",
       "      <td>6.826341</td>\n",
       "      <td>2.108697</td>\n",
       "    </tr>\n",
       "    <tr>\n",
       "      <th>min</th>\n",
       "      <td>0.000000</td>\n",
       "      <td>0.000000</td>\n",
       "      <td>0.000000</td>\n",
       "      <td>0.000000</td>\n",
       "      <td>0.000000</td>\n",
       "      <td>0.000000</td>\n",
       "      <td>0.000000</td>\n",
       "      <td>0.000000</td>\n",
       "      <td>0.000000</td>\n",
       "      <td>0.000000</td>\n",
       "      <td>-8.760000</td>\n",
       "      <td>0.000000</td>\n",
       "      <td>0.000000</td>\n",
       "      <td>0.000000</td>\n",
       "    </tr>\n",
       "    <tr>\n",
       "      <th>25%</th>\n",
       "      <td>10.053500</td>\n",
       "      <td>19.683000</td>\n",
       "      <td>5.592100</td>\n",
       "      <td>7.247000</td>\n",
       "      <td>3.335000</td>\n",
       "      <td>11.144300</td>\n",
       "      <td>16.316000</td>\n",
       "      <td>0.176000</td>\n",
       "      <td>1.140000</td>\n",
       "      <td>85.360000</td>\n",
       "      <td>14.450000</td>\n",
       "      <td>41.670000</td>\n",
       "      <td>850.810000</td>\n",
       "      <td>0.000000</td>\n",
       "    </tr>\n",
       "    <tr>\n",
       "      <th>50%</th>\n",
       "      <td>18.051200</td>\n",
       "      <td>38.749800</td>\n",
       "      <td>11.867000</td>\n",
       "      <td>13.645000</td>\n",
       "      <td>6.345000</td>\n",
       "      <td>19.939400</td>\n",
       "      <td>27.149912</td>\n",
       "      <td>0.379000</td>\n",
       "      <td>2.090472</td>\n",
       "      <td>150.190000</td>\n",
       "      <td>17.315102</td>\n",
       "      <td>56.954836</td>\n",
       "      <td>852.991724</td>\n",
       "      <td>0.000000</td>\n",
       "    </tr>\n",
       "    <tr>\n",
       "      <th>75%</th>\n",
       "      <td>27.096303</td>\n",
       "      <td>54.428000</td>\n",
       "      <td>18.014874</td>\n",
       "      <td>19.776000</td>\n",
       "      <td>11.894929</td>\n",
       "      <td>28.843500</td>\n",
       "      <td>36.024000</td>\n",
       "      <td>0.681963</td>\n",
       "      <td>2.770000</td>\n",
       "      <td>236.914000</td>\n",
       "      <td>20.650000</td>\n",
       "      <td>78.348000</td>\n",
       "      <td>855.095000</td>\n",
       "      <td>0.000000</td>\n",
       "    </tr>\n",
       "    <tr>\n",
       "      <th>max</th>\n",
       "      <td>1286.000000</td>\n",
       "      <td>1382.099000</td>\n",
       "      <td>776.503000</td>\n",
       "      <td>323.752000</td>\n",
       "      <td>696.770000</td>\n",
       "      <td>951.648000</td>\n",
       "      <td>203.450000</td>\n",
       "      <td>658.800000</td>\n",
       "      <td>9.630000</td>\n",
       "      <td>360.000000</td>\n",
       "      <td>34.990000</td>\n",
       "      <td>100.450000</td>\n",
       "      <td>866.940000</td>\n",
       "      <td>159.730000</td>\n",
       "    </tr>\n",
       "  </tbody>\n",
       "</table>\n",
       "</div>"
      ],
      "text/plain": [
       "              PM2.5          PM10           SO2           NO2            NO  \\\n",
       "count  87647.000000  87647.000000  87647.000000  87647.000000  87647.000000   \n",
       "mean      26.007116     50.166071     17.720752     16.288917     11.762961   \n",
       "std       29.926293     53.579022     24.914745     13.323128     22.380156   \n",
       "min        0.000000      0.000000      0.000000      0.000000      0.000000   \n",
       "25%       10.053500     19.683000      5.592100      7.247000      3.335000   \n",
       "50%       18.051200     38.749800     11.867000     13.645000      6.345000   \n",
       "75%       27.096303     54.428000     18.014874     19.776000     11.894929   \n",
       "max     1286.000000   1382.099000    776.503000    323.752000    696.770000   \n",
       "\n",
       "                NOx            O3            CO    Amb Wspeed  Amb WDirection  \\\n",
       "count  87647.000000  87647.000000  87647.000000  87647.000000    87647.000000   \n",
       "mean      27.630757     27.538466      0.660224      2.092284      160.094147   \n",
       "std       31.800506     16.573805      3.221007      1.295440       91.054771   \n",
       "min        0.000000      0.000000      0.000000      0.000000        0.000000   \n",
       "25%       11.144300     16.316000      0.176000      1.140000       85.360000   \n",
       "50%       19.939400     27.149912      0.379000      2.090472      150.190000   \n",
       "75%       28.843500     36.024000      0.681963      2.770000      236.914000   \n",
       "max      951.648000    203.450000    658.800000      9.630000      360.000000   \n",
       "\n",
       "        Temperature    Amb RelHum  Amb Pressure          Rain  \n",
       "count  87647.000000  87647.000000  87647.000000  87647.000000  \n",
       "mean      17.408327     58.940236    852.985732      0.184568  \n",
       "std        5.549513     23.445677      6.826341      2.108697  \n",
       "min       -8.760000      0.000000      0.000000      0.000000  \n",
       "25%       14.450000     41.670000    850.810000      0.000000  \n",
       "50%       17.315102     56.954836    852.991724      0.000000  \n",
       "75%       20.650000     78.348000    855.095000      0.000000  \n",
       "max       34.990000    100.450000    866.940000    159.730000  "
      ]
     },
     "execution_count": 3,
     "metadata": {},
     "output_type": "execute_result"
    }
   ],
   "source": [
    "dataset.describe()"
   ]
  },
  {
   "cell_type": "markdown",
   "id": "4ba64023",
   "metadata": {},
   "source": [
    "## Plot pm2.5"
   ]
  },
  {
   "cell_type": "code",
   "execution_count": 4,
   "id": "a5279d95",
   "metadata": {
    "scrolled": true
   },
   "outputs": [
    {
     "data": {
      "image/png": "[encoded data removed]",
      "text/plain": [
       "<Figure size 432x288 with 1 Axes>"
      ]
     },
     "metadata": {
      "needs_background": "light"
     },
     "output_type": "display_data"
    }
   ],
   "source": [
    "plt.plot(values[:,0])\n",
    "plt.ylabel(dataset.columns[0])\n",
    "plt.show()"
   ]
  },
  {
   "cell_type": "markdown",
   "id": "9c24073a",
   "metadata": {},
   "source": [
    "## Data preparation\n",
    "\n",
    "We need a way to prepare the data for whatever way we would like to formulate the problem.\n",
    "\n",
    "In this case we are formulating it such that we take in 1 time step input (14 variables) and output 1 time step output (1 variable). In other words we are trying to solve the following question: given the pollution and weather conditions of the previous hour, can we predict the PM2.5 level for the next hour.\n",
    "\n",
    "The single variable we are outputing is the PM2.5 level. Note we also use PM2.5 level in our input.\n",
    "\n",
    "Credit for this code: https://machinelearningmastery.com/convert-time-series-supervised-learning-problem-python/"
   ]
  },
  {
   "cell_type": "code",
   "execution_count": 5,
   "id": "dd5c2777",
   "metadata": {},
   "outputs": [],
   "source": [
    "def series_to_supervised(data, n_in=1, n_out=1, dropnan=True):\n",
    "    n_vars = 1 if type(data) is list else data.shape[1]\n",
    "    df = pd.DataFrame(data)\n",
    "    cols, names = list(), list()\n",
    "    # input sequence (t-n, ... t-1)\n",
    "    for i in range(n_in, 0, -1):\n",
    "        cols.append(df.shift(i))\n",
    "        names += [('var%d(t-%d)' % (j+1, i)) for j in range(n_vars)]\n",
    "    # forecast sequence (t, t+1, ... t+n)\n",
    "    for i in range(0, n_out):\n",
    "        cols.append(df.shift(-i))\n",
    "        if i == 0:\n",
    "            names += [('var%d(t)' % (j+1)) for j in range(n_vars)]\n",
    "        else:\n",
    "            names += [('var%d(t+%d)' % (j+1, i)) for j in range(n_vars)]\n",
    "    # put it all together\n",
    "    agg = pd.concat(cols, axis=1)\n",
    "    agg.columns = names\n",
    "    # drop rows with NaN values\n",
    "    if dropnan:\n",
    "        agg.dropna(inplace=True)\n",
    "    return agg"
   ]
  },
  {
   "cell_type": "markdown",
   "id": "8fbbb702",
   "metadata": {},
   "source": [
    "## Get column names"
   ]
  },
  {
   "cell_type": "code",
   "execution_count": 6,
   "id": "bbfc14ab",
   "metadata": {},
   "outputs": [
    {
     "data": {
      "text/plain": [
       "Index(['PM2.5', 'PM10', 'SO2', 'NO2', 'NO', 'NOx', 'O3', 'CO', 'Amb Wspeed',\n",
       "       'Amb WDirection', 'Temperature', 'Amb RelHum', 'Amb Pressure', 'Rain'],\n",
       "      dtype='object')"
      ]
     },
     "execution_count": 6,
     "metadata": {},
     "output_type": "execute_result"
    }
   ],
   "source": [
    "dataset.columns"
   ]
  },
  {
   "cell_type": "markdown",
   "id": "6b6cd649",
   "metadata": {},
   "source": [
    "##Actually perform the data preparation\n",
    "\n",
    "We scale the values between 0 and 1.\n",
    "\n",
    "The code which converts the data into the suitable way we want, in this case, will produce 14 output variables. In our case we only want to predict PM2.5, that is why we drop the other collumns from the dataframe.\n",
    "\n",
    "Credit for this code: https://machinelearningmastery.com/multivariate-time-series-forecasting-lstms-keras/"
   ]
  },
  {
   "cell_type": "code",
   "execution_count": 7,
   "id": "68094b1e",
   "metadata": {},
   "outputs": [],
   "source": [
    "# ensure all data is float\n",
    "values = values.astype('float32')\n",
    "\n",
    "# normalize features\n",
    "scaler = MinMaxScaler(feature_range=(0, 1))\n",
    "scaled = scaler.fit_transform(values)\n",
    "\n",
    "# frame as supervised learning\n",
    "reframed = series_to_supervised(scaled, 1, 1)\n",
    "\n",
    "# drop columns we don't want to predict\n",
    "# We drop these because we are only interested in predicting for a single variable (pollution).\n",
    "# If we don't drop, then we will be predicting for all the variables too!\n",
    "reframed.drop(reframed.columns[[15, 16, 17, 18, 19, 20, 21, 22, 23, 24, 25, 26, 27]], axis=1, inplace=True)\n",
    "values = reframed.values"
   ]
  },
  {
   "cell_type": "markdown",
   "id": "52d5bbb8",
   "metadata": {},
   "source": [
    "## View the data"
   ]
  },
  {
   "cell_type": "code",
   "execution_count": 8,
   "id": "44d39eda",
   "metadata": {
    "scrolled": true
   },
   "outputs": [
    {
     "data": {
      "text/html": [
       "<div>\n",
       "<style scoped>\n",
       "    .dataframe tbody tr th:only-of-type {\n",
       "        vertical-align: middle;\n",
       "    }\n",
       "\n",
       "    .dataframe tbody tr th {\n",
       "        vertical-align: top;\n",
       "    }\n",
       "\n",
       "    .dataframe thead th {\n",
       "        text-align: right;\n",
       "    }\n",
       "</style>\n",
       "<table border=\"1\" class=\"dataframe\">\n",
       "  <thead>\n",
       "    <tr style=\"text-align: right;\">\n",
       "      <th></th>\n",
       "      <th>var1(t-1)</th>\n",
       "      <th>var2(t-1)</th>\n",
       "      <th>var3(t-1)</th>\n",
       "      <th>var4(t-1)</th>\n",
       "      <th>var5(t-1)</th>\n",
       "      <th>var6(t-1)</th>\n",
       "      <th>var7(t-1)</th>\n",
       "      <th>var8(t-1)</th>\n",
       "      <th>var9(t-1)</th>\n",
       "      <th>var10(t-1)</th>\n",
       "      <th>var11(t-1)</th>\n",
       "      <th>var12(t-1)</th>\n",
       "      <th>var13(t-1)</th>\n",
       "      <th>var14(t-1)</th>\n",
       "      <th>var1(t)</th>\n",
       "    </tr>\n",
       "  </thead>\n",
       "  <tbody>\n",
       "    <tr>\n",
       "      <th>1</th>\n",
       "      <td>0.007294</td>\n",
       "      <td>0.009453</td>\n",
       "      <td>0.006847</td>\n",
       "      <td>0.009761</td>\n",
       "      <td>0.004123</td>\n",
       "      <td>0.006336</td>\n",
       "      <td>0.187196</td>\n",
       "      <td>0.000071</td>\n",
       "      <td>0.488058</td>\n",
       "      <td>0.493500</td>\n",
       "      <td>0.592229</td>\n",
       "      <td>0.837531</td>\n",
       "      <td>0.980956</td>\n",
       "      <td>0.033369</td>\n",
       "      <td>0.010048</td>\n",
       "    </tr>\n",
       "    <tr>\n",
       "      <th>2</th>\n",
       "      <td>0.010048</td>\n",
       "      <td>0.009666</td>\n",
       "      <td>0.026619</td>\n",
       "      <td>0.037195</td>\n",
       "      <td>0.003581</td>\n",
       "      <td>0.015276</td>\n",
       "      <td>0.164478</td>\n",
       "      <td>0.000061</td>\n",
       "      <td>0.455867</td>\n",
       "      <td>0.539833</td>\n",
       "      <td>0.553829</td>\n",
       "      <td>0.944052</td>\n",
       "      <td>0.982502</td>\n",
       "      <td>0.244162</td>\n",
       "      <td>0.014699</td>\n",
       "    </tr>\n",
       "    <tr>\n",
       "      <th>3</th>\n",
       "      <td>0.014699</td>\n",
       "      <td>0.014032</td>\n",
       "      <td>0.040193</td>\n",
       "      <td>0.051299</td>\n",
       "      <td>0.004753</td>\n",
       "      <td>0.020932</td>\n",
       "      <td>0.110602</td>\n",
       "      <td>0.000369</td>\n",
       "      <td>0.373832</td>\n",
       "      <td>0.403778</td>\n",
       "      <td>0.546514</td>\n",
       "      <td>0.918666</td>\n",
       "      <td>0.982652</td>\n",
       "      <td>0.160709</td>\n",
       "      <td>0.005892</td>\n",
       "    </tr>\n",
       "    <tr>\n",
       "      <th>4</th>\n",
       "      <td>0.005892</td>\n",
       "      <td>0.005570</td>\n",
       "      <td>0.013477</td>\n",
       "      <td>0.005693</td>\n",
       "      <td>0.002923</td>\n",
       "      <td>0.004080</td>\n",
       "      <td>0.212254</td>\n",
       "      <td>0.000337</td>\n",
       "      <td>0.505711</td>\n",
       "      <td>0.313139</td>\n",
       "      <td>0.544229</td>\n",
       "      <td>0.860627</td>\n",
       "      <td>0.980541</td>\n",
       "      <td>0.056345</td>\n",
       "      <td>0.003906</td>\n",
       "    </tr>\n",
       "    <tr>\n",
       "      <th>5</th>\n",
       "      <td>0.003906</td>\n",
       "      <td>0.003912</td>\n",
       "      <td>0.008607</td>\n",
       "      <td>0.011296</td>\n",
       "      <td>0.003721</td>\n",
       "      <td>0.006565</td>\n",
       "      <td>0.200885</td>\n",
       "      <td>0.000096</td>\n",
       "      <td>0.280374</td>\n",
       "      <td>0.275417</td>\n",
       "      <td>0.562971</td>\n",
       "      <td>0.794724</td>\n",
       "      <td>0.979422</td>\n",
       "      <td>0.006261</td>\n",
       "      <td>0.008862</td>\n",
       "    </tr>\n",
       "  </tbody>\n",
       "</table>\n",
       "</div>"
      ],
      "text/plain": [
       "   var1(t-1)  var2(t-1)  var3(t-1)  var4(t-1)  var5(t-1)  var6(t-1)  \\\n",
       "1   0.007294   0.009453   0.006847   0.009761   0.004123   0.006336   \n",
       "2   0.010048   0.009666   0.026619   0.037195   0.003581   0.015276   \n",
       "3   0.014699   0.014032   0.040193   0.051299   0.004753   0.020932   \n",
       "4   0.005892   0.005570   0.013477   0.005693   0.002923   0.004080   \n",
       "5   0.003906   0.003912   0.008607   0.011296   0.003721   0.006565   \n",
       "\n",
       "   var7(t-1)  var8(t-1)  var9(t-1)  var10(t-1)  var11(t-1)  var12(t-1)  \\\n",
       "1   0.187196   0.000071   0.488058    0.493500    0.592229    0.837531   \n",
       "2   0.164478   0.000061   0.455867    0.539833    0.553829    0.944052   \n",
       "3   0.110602   0.000369   0.373832    0.403778    0.546514    0.918666   \n",
       "4   0.212254   0.000337   0.505711    0.313139    0.544229    0.860627   \n",
       "5   0.200885   0.000096   0.280374    0.275417    0.562971    0.794724   \n",
       "\n",
       "   var13(t-1)  var14(t-1)   var1(t)  \n",
       "1    0.980956    0.033369  0.010048  \n",
       "2    0.982502    0.244162  0.014699  \n",
       "3    0.982652    0.160709  0.005892  \n",
       "4    0.980541    0.056345  0.003906  \n",
       "5    0.979422    0.006261  0.008862  "
      ]
     },
     "execution_count": 8,
     "metadata": {},
     "output_type": "execute_result"
    }
   ],
   "source": [
    "reframed.head()"
   ]
  },
  {
   "cell_type": "markdown",
   "id": "704a993d",
   "metadata": {},
   "source": [
    "## Create X and Y variables"
   ]
  },
  {
   "cell_type": "code",
   "execution_count": 9,
   "id": "cf58ef07",
   "metadata": {},
   "outputs": [
    {
     "data": {
      "text/plain": [
       "(87646, 15)"
      ]
     },
     "execution_count": 9,
     "metadata": {},
     "output_type": "execute_result"
    }
   ],
   "source": [
    "values.shape"
   ]
  },
  {
   "cell_type": "code",
   "execution_count": 10,
   "id": "ca1e4b00",
   "metadata": {},
   "outputs": [],
   "source": [
    "X = values[:,:-1]"
   ]
  },
  {
   "cell_type": "code",
   "execution_count": 11,
   "id": "6788de1c",
   "metadata": {},
   "outputs": [],
   "source": [
    "Y = values[:,-1]"
   ]
  },
  {
   "cell_type": "markdown",
   "id": "5c46a655",
   "metadata": {},
   "source": [
    "## Check the shapes"
   ]
  },
  {
   "cell_type": "code",
   "execution_count": 12,
   "id": "b733065b",
   "metadata": {},
   "outputs": [
    {
     "data": {
      "text/plain": [
       "(87646, 14)"
      ]
     },
     "execution_count": 12,
     "metadata": {},
     "output_type": "execute_result"
    }
   ],
   "source": [
    "X.shape"
   ]
  },
  {
   "cell_type": "code",
   "execution_count": 13,
   "id": "37c2a082",
   "metadata": {},
   "outputs": [
    {
     "data": {
      "text/plain": [
       "(87646,)"
      ]
     },
     "execution_count": 13,
     "metadata": {},
     "output_type": "execute_result"
    }
   ],
   "source": [
    "Y.shape"
   ]
  },
  {
   "cell_type": "markdown",
   "id": "5a310b70",
   "metadata": {},
   "source": [
    "## Reshaping\n",
    "\n",
    "The format that Keras expects is [batches, timesteps, features]"
   ]
  },
  {
   "cell_type": "code",
   "execution_count": 14,
   "id": "9e57a19a",
   "metadata": {},
   "outputs": [],
   "source": [
    "X = X.reshape(X.shape[0],X.shape[1])"
   ]
  },
  {
   "cell_type": "code",
   "execution_count": 15,
   "id": "d9f99572",
   "metadata": {},
   "outputs": [
    {
     "data": {
      "text/plain": [
       "(87646, 14)"
      ]
     },
     "execution_count": 15,
     "metadata": {},
     "output_type": "execute_result"
    }
   ],
   "source": [
    "X.shape"
   ]
  },
  {
   "cell_type": "markdown",
   "id": "33e67507",
   "metadata": {},
   "source": [
    "## Training, validation and testing split"
   ]
  },
  {
   "cell_type": "code",
   "execution_count": 16,
   "id": "754e3096",
   "metadata": {},
   "outputs": [],
   "source": [
    "X_train, X_test, Y_train, Y_test = train_test_split(X, Y, test_size=0.20, random_state=42)\n",
    "X_train, X_val, Y_train, Y_val = train_test_split(X_train, Y_train, test_size=0.20, random_state=42)"
   ]
  },
  {
   "cell_type": "markdown",
   "id": "6a0feae7",
   "metadata": {},
   "source": [
    "## Check the shape"
   ]
  },
  {
   "cell_type": "code",
   "execution_count": 17,
   "id": "0f4a829a",
   "metadata": {},
   "outputs": [
    {
     "name": "stdout",
     "output_type": "stream",
     "text": [
      "X_train: (56092, 14)\n",
      "Y_train: (56092,)\n",
      "\n",
      "X_val: (14024, 14)\n",
      "Y_val: (14024,)\n",
      "\n",
      "X_test: (17530, 14)\n",
      "Y_test: (17530,)\n"
     ]
    }
   ],
   "source": [
    "print ('X_train:',X_train.shape)\n",
    "print ('Y_train:',Y_train.shape)\n",
    "print ()\n",
    "print ('X_val:',X_val.shape)\n",
    "print ('Y_val:',Y_val.shape)\n",
    "print ()\n",
    "print ('X_test:',X_test.shape)\n",
    "print ('Y_test:',Y_test.shape)"
   ]
  },
  {
   "cell_type": "markdown",
   "id": "b5beac5d",
   "metadata": {},
   "source": [
    "## Define a model"
   ]
  },
  {
   "cell_type": "code",
   "execution_count": null,
   "id": "a8120938",
   "metadata": {},
   "outputs": [],
   "source": [
    "def create_model():\n",
    "    model = Sequential()\n",
    "    model.add(Dense(28, activation=\"relu\", input_dim = 14))\n",
    "    model.add(Dense(1, activation = 'sigmoid'))\n",
    "    model.compile(loss='mse', optimizer='adam')\n",
    "    return model"
   ]
  },
  {
   "cell_type": "markdown",
   "id": "7ff7cc20",
   "metadata": {},
   "source": [
    "# param Grid Batch size and epoch"
   ]
  },
  {
   "cell_type": "code",
   "execution_count": null,
   "id": "2bf5f21f",
   "metadata": {},
   "outputs": [],
   "source": [
    "model = KerasRegressor(model=create_model, verbose=0)\n",
    "# define the grid search parameters\n",
    "epochs = [20, 30, 40, 50, 60]\n",
    "batch_size = [16, 32, 64,128, 256]\n",
    "param_grid = dict( epochs=epochs, batch_size=batch_size)\n",
    "grid = GridSearchCV(estimator=model, param_grid=param_grid, n_jobs=-1, cv=3)\n",
    "grid_result = grid.fit(X_train, Y_train)"
   ]
  },
  {
   "cell_type": "code",
   "execution_count": null,
   "id": "debfba4c",
   "metadata": {},
   "outputs": [],
   "source": [
    "# summarize results\n",
    "print(\"Best: %f using %s\" % (grid_result.best_score_, grid_result.best_params_))\n",
    "means = grid_result.cv_results_['mean_test_score']\n",
    "stds = grid_result.cv_results_['std_test_score']\n",
    "params = grid_result.cv_results_['params']\n",
    "for mean, stdev, param in zip(means, stds, params):\n",
    "    print(\"%f (%f) with: %r\" % (mean, stdev, param))"
   ]
  },
  {
   "cell_type": "code",
   "execution_count": null,
   "id": "6b0a0277",
   "metadata": {},
   "outputs": [],
   "source": [
    "pd.DataFrame(grid.cv_results_)[['mean_test_score', 'std_test_score', 'params']].to_csv('GridOptimization.csv')"
   ]
  },
  {
   "cell_type": "markdown",
   "id": "fd23a187",
   "metadata": {},
   "source": [
    "# Param Neurons"
   ]
  },
  {
   "cell_type": "code",
   "execution_count": 18,
   "id": "48d891ee",
   "metadata": {},
   "outputs": [],
   "source": [
    "def create_model(neurons):\n",
    "    model = Sequential()\n",
    "    model.add(Dense(neurons, activation=\"relu\", input_dim = 14))\n",
    "    model.add(Dense(1, activation = 'sigmoid'))\n",
    "    model.compile(loss='mse', optimizer='adam')\n",
    "    return model"
   ]
  },
  {
   "cell_type": "code",
   "execution_count": 19,
   "id": "938f58c6",
   "metadata": {},
   "outputs": [],
   "source": [
    "model = KerasRegressor(model=create_model, loss=\"mse\", epochs=50, batch_size=16, verbose=0)\n",
    "# define the grid search parameters\n",
    "neurons = ['28', '56', '112', '224', '448']\n",
    "param_grid = dict(model__neurons=neurons)\n",
    "grid = GridSearchCV(estimator=model, param_grid=param_grid, n_jobs=-1, cv=3)\n",
    "grid_result = grid.fit(X_train, Y_train)\n"
   ]
  },
  {
   "cell_type": "code",
   "execution_count": 20,
   "id": "32899621",
   "metadata": {
    "scrolled": true
   },
   "outputs": [
    {
     "name": "stdout",
     "output_type": "stream",
     "text": [
      "Best: 0.614691 using {'model__neurons': '448'}\n",
      "0.596931 (0.049828) with: {'model__neurons': '28'}\n",
      "0.611202 (0.049649) with: {'model__neurons': '56'}\n",
      "0.611459 (0.053606) with: {'model__neurons': '112'}\n",
      "0.612625 (0.048820) with: {'model__neurons': '224'}\n",
      "0.614691 (0.055311) with: {'model__neurons': '448'}\n"
     ]
    }
   ],
   "source": [
    "# summarize results\n",
    "print(\"Best: %f using %s\" % (grid_result.best_score_, grid_result.best_params_))\n",
    "means = grid_result.cv_results_['mean_test_score']\n",
    "stds = grid_result.cv_results_['std_test_score']\n",
    "params = grid_result.cv_results_['params']\n",
    "for mean, stdev, param in zip(means, stds, params):\n",
    "    print(\"%f (%f) with: %r\" % (mean, stdev, param))"
   ]
  },
  {
   "cell_type": "code",
   "execution_count": null,
   "id": "5178168a",
   "metadata": {},
   "outputs": [],
   "source": []
  }
 ],
 "metadata": {
  "kernelspec": {
   "display_name": "Python 3 (ipykernel)",
   "language": "python",
   "name": "python3"
  },
  "language_info": {
   "codemirror_mode": {
    "name": "ipython",
    "version": 3
   },
   "file_extension": ".py",
   "mimetype": "text/x-python",
   "name": "python",
   "nbconvert_exporter": "python",
   "pygments_lexer": "ipython3",
   "version": "3.9.7"
  }
 },
 "nbformat": 4,
 "nbformat_minor": 5
}
