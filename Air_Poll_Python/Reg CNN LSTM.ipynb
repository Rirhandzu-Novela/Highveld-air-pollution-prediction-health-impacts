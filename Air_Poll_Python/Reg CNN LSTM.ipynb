{
 "cells": [
  {
   "cell_type": "markdown",
   "id": "ec1d9733",
   "metadata": {},
   "source": [
    "# Import"
   ]
  },
  {
   "cell_type": "code",
   "execution_count": 1,
   "id": "8468f4ae",
   "metadata": {},
   "outputs": [
    {
     "name": "stdout",
     "output_type": "stream",
     "text": [
      "2.9.1\n"
     ]
    }
   ],
   "source": [
    "import numpy as np\n",
    "import pandas as pd\n",
    "from math import sqrt \n",
    "import matplotlib.pyplot as plt \n",
    "from matplotlib import rcParams\n",
    "from keras.layers import Dense\n",
    "from keras.layers import LSTM\n",
    "from keras.layers import Flatten\n",
    "from keras.layers import Dropout\n",
    "from keras.layers import GaussianNoise\n",
    "from keras.layers import TimeDistributed\n",
    "from keras.models import Sequential\n",
    "from keras.layers.convolutional import Conv1D\n",
    "from keras.layers.convolutional import MaxPooling1D\n",
    "from sklearn.metrics import r2_score\n",
    "from sklearn.metrics import mean_squared_error\n",
    "from sklearn.metrics import mean_absolute_error\n",
    "from sklearn.preprocessing import MinMaxScaler\n",
    "from sklearn.model_selection import train_test_split\n",
    "\n",
    "\n",
    "%matplotlib inline\n",
    "#%tensorflow_version 1.x\n",
    "import tensorflow as tf\n",
    "print(tf.__version__)\n"
   ]
  },
  {
   "cell_type": "markdown",
   "id": "b66744f0",
   "metadata": {},
   "source": [
    "## load dataset"
   ]
  },
  {
   "cell_type": "code",
   "execution_count": 2,
   "id": "51f8628e",
   "metadata": {},
   "outputs": [],
   "source": [
    "dataset = pd.read_csv('SecundaIMNO2.csv', sep =';', header=0, index_col=0)\n",
    "values = dataset.values"
   ]
  },
  {
   "cell_type": "markdown",
   "id": "cd04efa7",
   "metadata": {},
   "source": [
    "## Plot pm2.5"
   ]
  },
  {
   "cell_type": "code",
   "execution_count": 3,
   "id": "a5279d95",
   "metadata": {},
   "outputs": [
    {
     "data": {
      "image/png": "[encoded data removed]",
      "text/plain": [
       "<Figure size 432x288 with 1 Axes>"
      ]
     },
     "metadata": {
      "needs_background": "light"
     },
     "output_type": "display_data"
    }
   ],
   "source": [
    "plt.plot(values[:,0])\n",
    "plt.ylabel(dataset.columns[0])\n",
    "plt.show()"
   ]
  },
  {
   "cell_type": "markdown",
   "id": "abb7c362",
   "metadata": {},
   "source": [
    "## Data preparation\n",
    "\n",
    "We need a way to prepare the data for whatever way we would like to formulate the problem.\n",
    "\n",
    "In this case we are formulating it such that we take in 1 time step input (14 variables) and output 1 time step output (1 variable). In other words we are trying to solve the following question: given the pollution and weather conditions of the previous hour, can we predict the PM2.5 level for the next hour.\n",
    "\n",
    "The single variable we are outputing is the PM2.5 level. Note we also use PM2.5 level in our input.\n",
    "\n",
    "Credit for this code: https://machinelearningmastery.com/convert-time-series-supervised-learning-problem-python/"
   ]
  },
  {
   "cell_type": "code",
   "execution_count": 4,
   "id": "dd5c2777",
   "metadata": {},
   "outputs": [],
   "source": [
    "def series_to_supervised(data, n_in=1, n_out=1, dropnan=True):\n",
    "    n_vars = 1 if type(data) is list else data.shape[1]\n",
    "    df = pd.DataFrame(data)\n",
    "    cols, names = list(), list()\n",
    "    # input sequence (t-n, ... t-1)\n",
    "    for i in range(n_in, 0, -1):\n",
    "        cols.append(df.shift(i))\n",
    "        names += [('var%d(t-%d)' % (j+1, i)) for j in range(n_vars)]\n",
    "    # forecast sequence (t, t+1, ... t+n)\n",
    "    for i in range(0, n_out):\n",
    "        cols.append(df.shift(-i))\n",
    "        if i == 0:\n",
    "            names += [('var%d(t)' % (j+1)) for j in range(n_vars)]\n",
    "        else:\n",
    "            names += [('var%d(t+%d)' % (j+1, i)) for j in range(n_vars)]\n",
    "    # put it all together\n",
    "    agg = pd.concat(cols, axis=1)\n",
    "    agg.columns = names\n",
    "    # drop rows with NaN values\n",
    "    if dropnan:\n",
    "        agg.dropna(inplace=True)\n",
    "    return agg"
   ]
  },
  {
   "cell_type": "markdown",
   "id": "c262f072",
   "metadata": {},
   "source": [
    "## Get column names"
   ]
  },
  {
   "cell_type": "code",
   "execution_count": 5,
   "id": "bbfc14ab",
   "metadata": {},
   "outputs": [
    {
     "data": {
      "text/plain": [
       "Index(['no2', 'so2', 'pm2.5', 'pm10', 'no', 'nox', 'o3', 'co', 'ws', 'wd',\n",
       "       'temp', 'relHum', 'pressure'],\n",
       "      dtype='object')"
      ]
     },
     "execution_count": 5,
     "metadata": {},
     "output_type": "execute_result"
    }
   ],
   "source": [
    "dataset.columns"
   ]
  },
  {
   "cell_type": "markdown",
   "id": "5a628c1d",
   "metadata": {},
   "source": [
    "##Actually perform the data preparation\n",
    "\n",
    "We scale the values between 0 and 1.\n",
    "\n",
    "The code which converts the data into the suitable way we want, in this case, will produce 14 output variables. In our case we only want to predict PM2.5, that is why we drop the other collumns from the dataframe.\n",
    "\n",
    "Credit for this code: https://machinelearningmastery.com/multivariate-time-series-forecasting-lstms-keras/"
   ]
  },
  {
   "cell_type": "code",
   "execution_count": 6,
   "id": "68094b1e",
   "metadata": {},
   "outputs": [],
   "source": [
    "# ensure all data is float\n",
    "values = values.astype('float32')\n",
    "\n",
    "# normalize features\n",
    "scaler = MinMaxScaler(feature_range=(0, 1))\n",
    "scaled = scaler.fit_transform(values)\n",
    "\n",
    "# frame as supervised learning\n",
    "reframed = series_to_supervised(scaled, 1, 1)\n",
    "\n",
    "# drop columns we don't want to predict\n",
    "# We drop these because we are only interested in predicting for a single variable (PM2.5).\n",
    "# If we don't drop, then we will be predicting for all the variables too!\n",
    "reframed.drop(reframed.columns[[14, 15, 16, 17, 18, 19, 20, 21, 22, 23, 24, 25]], axis=1, inplace=True)\n",
    "values = reframed.values"
   ]
  },
  {
   "cell_type": "markdown",
   "id": "8ee9522d",
   "metadata": {},
   "source": [
    "## View the data"
   ]
  },
  {
   "cell_type": "code",
   "execution_count": 7,
   "id": "44d39eda",
   "metadata": {},
   "outputs": [
    {
     "data": {
      "text/html": [
       "<div>\n",
       "<style scoped>\n",
       "    .dataframe tbody tr th:only-of-type {\n",
       "        vertical-align: middle;\n",
       "    }\n",
       "\n",
       "    .dataframe tbody tr th {\n",
       "        vertical-align: top;\n",
       "    }\n",
       "\n",
       "    .dataframe thead th {\n",
       "        text-align: right;\n",
       "    }\n",
       "</style>\n",
       "<table border=\"1\" class=\"dataframe\">\n",
       "  <thead>\n",
       "    <tr style=\"text-align: right;\">\n",
       "      <th></th>\n",
       "      <th>var1(t-1)</th>\n",
       "      <th>var2(t-1)</th>\n",
       "      <th>var3(t-1)</th>\n",
       "      <th>var4(t-1)</th>\n",
       "      <th>var5(t-1)</th>\n",
       "      <th>var6(t-1)</th>\n",
       "      <th>var7(t-1)</th>\n",
       "      <th>var8(t-1)</th>\n",
       "      <th>var9(t-1)</th>\n",
       "      <th>var10(t-1)</th>\n",
       "      <th>var11(t-1)</th>\n",
       "      <th>var12(t-1)</th>\n",
       "      <th>var13(t-1)</th>\n",
       "      <th>var1(t)</th>\n",
       "    </tr>\n",
       "  </thead>\n",
       "  <tbody>\n",
       "    <tr>\n",
       "      <th>1</th>\n",
       "      <td>0.092911</td>\n",
       "      <td>0.023296</td>\n",
       "      <td>0.011986</td>\n",
       "      <td>0.006100</td>\n",
       "      <td>0.004285</td>\n",
       "      <td>0.008461</td>\n",
       "      <td>0.112376</td>\n",
       "      <td>0.002042</td>\n",
       "      <td>0.090452</td>\n",
       "      <td>0.590283</td>\n",
       "      <td>0.402746</td>\n",
       "      <td>0.963322</td>\n",
       "      <td>0.439276</td>\n",
       "      <td>0.092911</td>\n",
       "    </tr>\n",
       "    <tr>\n",
       "      <th>2</th>\n",
       "      <td>0.092911</td>\n",
       "      <td>0.023639</td>\n",
       "      <td>0.006124</td>\n",
       "      <td>0.002865</td>\n",
       "      <td>0.003727</td>\n",
       "      <td>0.008961</td>\n",
       "      <td>0.112376</td>\n",
       "      <td>0.001518</td>\n",
       "      <td>0.132328</td>\n",
       "      <td>0.354881</td>\n",
       "      <td>0.388917</td>\n",
       "      <td>0.963322</td>\n",
       "      <td>0.433491</td>\n",
       "      <td>0.092911</td>\n",
       "    </tr>\n",
       "    <tr>\n",
       "      <th>3</th>\n",
       "      <td>0.092911</td>\n",
       "      <td>0.021446</td>\n",
       "      <td>0.013940</td>\n",
       "      <td>0.006125</td>\n",
       "      <td>0.005609</td>\n",
       "      <td>0.027036</td>\n",
       "      <td>0.112376</td>\n",
       "      <td>0.002042</td>\n",
       "      <td>0.251256</td>\n",
       "      <td>0.194289</td>\n",
       "      <td>0.386283</td>\n",
       "      <td>0.914322</td>\n",
       "      <td>0.387226</td>\n",
       "      <td>0.092911</td>\n",
       "    </tr>\n",
       "    <tr>\n",
       "      <th>4</th>\n",
       "      <td>0.092911</td>\n",
       "      <td>0.030219</td>\n",
       "      <td>0.011498</td>\n",
       "      <td>0.005003</td>\n",
       "      <td>0.004982</td>\n",
       "      <td>0.034272</td>\n",
       "      <td>0.112376</td>\n",
       "      <td>0.001518</td>\n",
       "      <td>0.263819</td>\n",
       "      <td>0.164342</td>\n",
       "      <td>0.392868</td>\n",
       "      <td>0.852513</td>\n",
       "      <td>0.354538</td>\n",
       "      <td>0.092911</td>\n",
       "    </tr>\n",
       "    <tr>\n",
       "      <th>5</th>\n",
       "      <td>0.092911</td>\n",
       "      <td>0.026175</td>\n",
       "      <td>0.008492</td>\n",
       "      <td>0.003967</td>\n",
       "      <td>0.005121</td>\n",
       "      <td>0.023401</td>\n",
       "      <td>0.112376</td>\n",
       "      <td>0.000995</td>\n",
       "      <td>0.187605</td>\n",
       "      <td>0.205595</td>\n",
       "      <td>0.408015</td>\n",
       "      <td>0.784106</td>\n",
       "      <td>0.329393</td>\n",
       "      <td>0.092911</td>\n",
       "    </tr>\n",
       "  </tbody>\n",
       "</table>\n",
       "</div>"
      ],
      "text/plain": [
       "   var1(t-1)  var2(t-1)  var3(t-1)  var4(t-1)  var5(t-1)  var6(t-1)  \\\n",
       "1   0.092911   0.023296   0.011986   0.006100   0.004285   0.008461   \n",
       "2   0.092911   0.023639   0.006124   0.002865   0.003727   0.008961   \n",
       "3   0.092911   0.021446   0.013940   0.006125   0.005609   0.027036   \n",
       "4   0.092911   0.030219   0.011498   0.005003   0.004982   0.034272   \n",
       "5   0.092911   0.026175   0.008492   0.003967   0.005121   0.023401   \n",
       "\n",
       "   var7(t-1)  var8(t-1)  var9(t-1)  var10(t-1)  var11(t-1)  var12(t-1)  \\\n",
       "1   0.112376   0.002042   0.090452    0.590283    0.402746    0.963322   \n",
       "2   0.112376   0.001518   0.132328    0.354881    0.388917    0.963322   \n",
       "3   0.112376   0.002042   0.251256    0.194289    0.386283    0.914322   \n",
       "4   0.112376   0.001518   0.263819    0.164342    0.392868    0.852513   \n",
       "5   0.112376   0.000995   0.187605    0.205595    0.408015    0.784106   \n",
       "\n",
       "   var13(t-1)   var1(t)  \n",
       "1    0.439276  0.092911  \n",
       "2    0.433491  0.092911  \n",
       "3    0.387226  0.092911  \n",
       "4    0.354538  0.092911  \n",
       "5    0.329393  0.092911  "
      ]
     },
     "execution_count": 7,
     "metadata": {},
     "output_type": "execute_result"
    }
   ],
   "source": [
    "reframed.head()"
   ]
  },
  {
   "cell_type": "markdown",
   "id": "f3e625c4",
   "metadata": {},
   "source": [
    "## Create X and Y variables"
   ]
  },
  {
   "cell_type": "code",
   "execution_count": 8,
   "id": "cf58ef07",
   "metadata": {},
   "outputs": [
    {
     "data": {
      "text/plain": [
       "(87646, 14)"
      ]
     },
     "execution_count": 8,
     "metadata": {},
     "output_type": "execute_result"
    }
   ],
   "source": [
    "values.shape"
   ]
  },
  {
   "cell_type": "code",
   "execution_count": 9,
   "id": "ca1e4b00",
   "metadata": {},
   "outputs": [],
   "source": [
    "X = values[:,:-1]"
   ]
  },
  {
   "cell_type": "code",
   "execution_count": 10,
   "id": "6788de1c",
   "metadata": {},
   "outputs": [],
   "source": [
    "Y = values[:,-1]"
   ]
  },
  {
   "cell_type": "markdown",
   "id": "c8d52993",
   "metadata": {},
   "source": [
    "## Check the shapes"
   ]
  },
  {
   "cell_type": "code",
   "execution_count": 11,
   "id": "b733065b",
   "metadata": {},
   "outputs": [
    {
     "data": {
      "text/plain": [
       "(87646, 13)"
      ]
     },
     "execution_count": 11,
     "metadata": {},
     "output_type": "execute_result"
    }
   ],
   "source": [
    "X.shape"
   ]
  },
  {
   "cell_type": "code",
   "execution_count": 12,
   "id": "37c2a082",
   "metadata": {},
   "outputs": [
    {
     "data": {
      "text/plain": [
       "(87646,)"
      ]
     },
     "execution_count": 12,
     "metadata": {},
     "output_type": "execute_result"
    }
   ],
   "source": [
    "Y.shape"
   ]
  },
  {
   "cell_type": "markdown",
   "id": "bd4541a1",
   "metadata": {},
   "source": [
    "## Reshaping\n",
    "\n",
    "reshape from [samples, timesteps] into [samples, subsequences, timesteps, features]"
   ]
  },
  {
   "cell_type": "code",
   "execution_count": 13,
   "id": "9e57a19a",
   "metadata": {},
   "outputs": [],
   "source": [
    "X = X.reshape(X.shape[0],1,1,X.shape[1])"
   ]
  },
  {
   "cell_type": "code",
   "execution_count": 14,
   "id": "d9f99572",
   "metadata": {},
   "outputs": [
    {
     "data": {
      "text/plain": [
       "(87646, 1, 1, 13)"
      ]
     },
     "execution_count": 14,
     "metadata": {},
     "output_type": "execute_result"
    }
   ],
   "source": [
    "X.shape"
   ]
  },
  {
   "cell_type": "markdown",
   "id": "9a1b9489",
   "metadata": {},
   "source": [
    "## Training, validation and testing split"
   ]
  },
  {
   "cell_type": "code",
   "execution_count": 15,
   "id": "754e3096",
   "metadata": {},
   "outputs": [],
   "source": [
    "X_train, X_test, Y_train, Y_test = train_test_split(X, Y, test_size=0.20, random_state=42)\n",
    "X_train, X_val, Y_train, Y_val = train_test_split(X_train, Y_train, test_size=0.20, random_state=42)"
   ]
  },
  {
   "cell_type": "markdown",
   "id": "36c7c079",
   "metadata": {},
   "source": [
    "## Check the shape"
   ]
  },
  {
   "cell_type": "code",
   "execution_count": 16,
   "id": "0f4a829a",
   "metadata": {},
   "outputs": [
    {
     "name": "stdout",
     "output_type": "stream",
     "text": [
      "X_train: (56092, 1, 1, 13)\n",
      "Y_train: (56092,)\n",
      "\n",
      "X_val: (14024, 1, 1, 13)\n",
      "Y_val: (14024,)\n",
      "\n",
      "X_test: (17530, 1, 1, 13)\n",
      "Y_test: (17530,)\n"
     ]
    }
   ],
   "source": [
    "print ('X_train:',X_train.shape)\n",
    "print ('Y_train:',Y_train.shape)\n",
    "print ()\n",
    "print ('X_val:',X_val.shape)\n",
    "print ('Y_val:',Y_val.shape)\n",
    "print ()\n",
    "print ('X_test:',X_test.shape)\n",
    "print ('Y_test:',Y_test.shape)"
   ]
  },
  {
   "cell_type": "markdown",
   "id": "fdb0fac1",
   "metadata": {},
   "source": [
    "## Define a model\n",
    "Credit for this code: https://machinelearningmastery.com/how-to-develop-lstm-models-for-time-series-forecasting/"
   ]
  },
  {
   "cell_type": "markdown",
   "id": "9989b1c3",
   "metadata": {},
   "source": [
    "## Print summary"
   ]
  },
  {
   "cell_type": "code",
   "execution_count": 17,
   "id": "a8120938",
   "metadata": {},
   "outputs": [],
   "source": [
    "model = Sequential()\n",
    "model.add(TimeDistributed(Conv1D(filters=64, kernel_size=1, activation='relu'), input_shape=(None, 1, 13)))\n",
    "model.add(TimeDistributed(MaxPooling1D(pool_size=1)))\n",
    "model.add(Dropout(0.2))\n",
    "model.add(TimeDistributed(Conv1D(filters=64, kernel_size=1, activation='relu')))\n",
    "model.add(TimeDistributed(MaxPooling1D(pool_size=1)))\n",
    "model.add(Dropout(0.2))\n",
    "model.add(TimeDistributed(Conv1D(filters=64, kernel_size=1, activation='relu')))\n",
    "model.add(TimeDistributed(MaxPooling1D(pool_size=1)))\n",
    "model.add(Dropout(0.2))\n",
    "model.add(TimeDistributed(Flatten()))\n",
    "model.add(LSTM(56, input_shape=(1, 13)))\n",
    "model.add(Dense(56, activation=\"relu\"))\n",
    "model.add(Dense(56, activation=\"relu\"))\n",
    "model.add(Dense(56, activation=\"relu\"))\n",
    "model.add(Dense(1, activation = 'sigmoid'))\n",
    "model.compile(loss='mse', optimizer='adam')"
   ]
  },
  {
   "cell_type": "code",
   "execution_count": 18,
   "id": "3bbad727",
   "metadata": {},
   "outputs": [
    {
     "name": "stdout",
     "output_type": "stream",
     "text": [
      "Model: \"sequential\"\n",
      "_________________________________________________________________\n",
      " Layer (type)                Output Shape              Param #   \n",
      "=================================================================\n",
      " time_distributed (TimeDistr  (None, None, 1, 64)      896       \n",
      " ibuted)                                                         \n",
      "                                                                 \n",
      " time_distributed_1 (TimeDis  (None, None, 1, 64)      0         \n",
      " tributed)                                                       \n",
      "                                                                 \n",
      " dropout (Dropout)           (None, None, 1, 64)       0         \n",
      "                                                                 \n",
      " time_distributed_2 (TimeDis  (None, None, 1, 64)      4160      \n",
      " tributed)                                                       \n",
      "                                                                 \n",
      " time_distributed_3 (TimeDis  (None, None, 1, 64)      0         \n",
      " tributed)                                                       \n",
      "                                                                 \n",
      " dropout_1 (Dropout)         (None, None, 1, 64)       0         \n",
      "                                                                 \n",
      " time_distributed_4 (TimeDis  (None, None, 1, 64)      4160      \n",
      " tributed)                                                       \n",
      "                                                                 \n",
      " time_distributed_5 (TimeDis  (None, None, 1, 64)      0         \n",
      " tributed)                                                       \n",
      "                                                                 \n",
      " dropout_2 (Dropout)         (None, None, 1, 64)       0         \n",
      "                                                                 \n",
      " time_distributed_6 (TimeDis  (None, None, 64)         0         \n",
      " tributed)                                                       \n",
      "                                                                 \n",
      " lstm (LSTM)                 (None, 56)                27104     \n",
      "                                                                 \n",
      " dense (Dense)               (None, 56)                3192      \n",
      "                                                                 \n",
      " dense_1 (Dense)             (None, 56)                3192      \n",
      "                                                                 \n",
      " dense_2 (Dense)             (None, 56)                3192      \n",
      "                                                                 \n",
      " dense_3 (Dense)             (None, 1)                 57        \n",
      "                                                                 \n",
      "=================================================================\n",
      "Total params: 45,953\n",
      "Trainable params: 45,953\n",
      "Non-trainable params: 0\n",
      "_________________________________________________________________\n"
     ]
    }
   ],
   "source": [
    "model.summary()"
   ]
  },
  {
   "cell_type": "markdown",
   "id": "5028cba3",
   "metadata": {},
   "source": [
    "## Training"
   ]
  },
  {
   "cell_type": "code",
   "execution_count": 19,
   "id": "1873ce48",
   "metadata": {},
   "outputs": [
    {
     "name": "stdout",
     "output_type": "stream",
     "text": [
      "Epoch 1/40\n",
      "1753/1753 [==============================] - 74s 40ms/step - loss: 0.0038 - val_loss: 9.8638e-04\n",
      "Epoch 2/40\n",
      "1753/1753 [==============================] - 70s 40ms/step - loss: 0.0012 - val_loss: 9.1387e-04\n",
      "Epoch 3/40\n",
      "1753/1753 [==============================] - 68s 39ms/step - loss: 0.0010 - val_loss: 8.7658e-04\n",
      "Epoch 4/40\n",
      "1753/1753 [==============================] - 68s 39ms/step - loss: 9.9386e-04 - val_loss: 8.2785e-04\n",
      "Epoch 5/40\n",
      "1753/1753 [==============================] - 68s 39ms/step - loss: 9.5103e-04 - val_loss: 9.5697e-04\n",
      "Epoch 6/40\n",
      "1753/1753 [==============================] - 67s 38ms/step - loss: 9.1205e-04 - val_loss: 8.7080e-04\n",
      "Epoch 7/40\n",
      "1753/1753 [==============================] - 67s 38ms/step - loss: 9.0467e-04 - val_loss: 8.3178e-04\n",
      "Epoch 8/40\n",
      "1753/1753 [==============================] - 67s 38ms/step - loss: 8.8710e-04 - val_loss: 8.4422e-04\n",
      "Epoch 9/40\n",
      "1753/1753 [==============================] - 67s 38ms/step - loss: 9.0177e-04 - val_loss: 8.6170e-04\n",
      "Epoch 10/40\n",
      "1753/1753 [==============================] - 66s 38ms/step - loss: 8.7997e-04 - val_loss: 8.1036e-04\n",
      "Epoch 11/40\n",
      "1753/1753 [==============================] - 67s 38ms/step - loss: 8.7880e-04 - val_loss: 9.3371e-04\n",
      "Epoch 12/40\n",
      "1753/1753 [==============================] - 63s 36ms/step - loss: 8.6671e-04 - val_loss: 8.0614e-04\n",
      "Epoch 13/40\n",
      "1753/1753 [==============================] - 65s 37ms/step - loss: 8.6682e-04 - val_loss: 8.7534e-04\n",
      "Epoch 14/40\n",
      "1753/1753 [==============================] - 62s 35ms/step - loss: 8.7075e-04 - val_loss: 8.3171e-04\n",
      "Epoch 15/40\n",
      "1753/1753 [==============================] - 60s 34ms/step - loss: 8.6594e-04 - val_loss: 8.3031e-04\n",
      "Epoch 16/40\n",
      "1753/1753 [==============================] - 61s 35ms/step - loss: 8.5924e-04 - val_loss: 8.2757e-04\n",
      "Epoch 17/40\n",
      "1753/1753 [==============================] - 66s 38ms/step - loss: 8.4322e-04 - val_loss: 8.0033e-04\n",
      "Epoch 18/40\n",
      "1753/1753 [==============================] - 71s 41ms/step - loss: 8.4268e-04 - val_loss: 8.3918e-04\n",
      "Epoch 19/40\n",
      "1753/1753 [==============================] - 69s 39ms/step - loss: 8.5107e-04 - val_loss: 8.0651e-04\n",
      "Epoch 20/40\n",
      "1753/1753 [==============================] - 68s 39ms/step - loss: 8.4404e-04 - val_loss: 8.7050e-04\n",
      "Epoch 21/40\n",
      "1753/1753 [==============================] - 74s 42ms/step - loss: 8.3162e-04 - val_loss: 8.0504e-04\n",
      "Epoch 22/40\n",
      "1753/1753 [==============================] - 72s 41ms/step - loss: 8.4043e-04 - val_loss: 7.9888e-04\n",
      "Epoch 23/40\n",
      "1753/1753 [==============================] - 73s 41ms/step - loss: 8.3275e-04 - val_loss: 8.1334e-04\n",
      "Epoch 24/40\n",
      "1753/1753 [==============================] - 69s 39ms/step - loss: 8.2402e-04 - val_loss: 8.2269e-04\n",
      "Epoch 25/40\n",
      "1753/1753 [==============================] - 69s 39ms/step - loss: 8.3441e-04 - val_loss: 8.0372e-04\n",
      "Epoch 26/40\n",
      "1753/1753 [==============================] - 70s 40ms/step - loss: 8.2872e-04 - val_loss: 8.1361e-04\n",
      "Epoch 27/40\n",
      "1753/1753 [==============================] - 69s 39ms/step - loss: 8.2476e-04 - val_loss: 8.4107e-04\n",
      "Epoch 28/40\n",
      "1753/1753 [==============================] - 83s 48ms/step - loss: 8.2319e-04 - val_loss: 8.6904e-04\n",
      "Epoch 29/40\n",
      "1753/1753 [==============================] - 69s 39ms/step - loss: 8.2657e-04 - val_loss: 8.9376e-04\n",
      "Epoch 30/40\n",
      "1753/1753 [==============================] - 70s 40ms/step - loss: 8.2367e-04 - val_loss: 8.0611e-04\n",
      "Epoch 31/40\n",
      "1753/1753 [==============================] - 68s 39ms/step - loss: 8.0597e-04 - val_loss: 8.0530e-04\n",
      "Epoch 32/40\n",
      "1753/1753 [==============================] - 69s 39ms/step - loss: 8.1013e-04 - val_loss: 7.9080e-04\n",
      "Epoch 33/40\n",
      "1753/1753 [==============================] - 75s 43ms/step - loss: 8.0775e-04 - val_loss: 8.2175e-04\n",
      "Epoch 34/40\n",
      "1753/1753 [==============================] - 69s 40ms/step - loss: 8.0924e-04 - val_loss: 8.0520e-04\n",
      "Epoch 35/40\n",
      "1753/1753 [==============================] - 69s 39ms/step - loss: 8.1676e-04 - val_loss: 7.9121e-04\n",
      "Epoch 36/40\n",
      "1753/1753 [==============================] - 69s 39ms/step - loss: 8.1310e-04 - val_loss: 8.0346e-04\n",
      "Epoch 37/40\n",
      "1753/1753 [==============================] - 70s 40ms/step - loss: 8.0330e-04 - val_loss: 8.3708e-04\n",
      "Epoch 38/40\n",
      "1753/1753 [==============================] - 70s 40ms/step - loss: 7.9482e-04 - val_loss: 8.2444e-04\n",
      "Epoch 39/40\n",
      "1753/1753 [==============================] - 74s 42ms/step - loss: 8.0673e-04 - val_loss: 8.4356e-04\n",
      "Epoch 40/40\n",
      "1753/1753 [==============================] - 71s 40ms/step - loss: 8.0158e-04 - val_loss: 8.4320e-04\n"
     ]
    }
   ],
   "source": [
    "history = model.fit(X_train, Y_train, validation_data=(X_val, Y_val), epochs=40, batch_size=32, verbose=1)"
   ]
  },
  {
   "cell_type": "markdown",
   "id": "a2cc8acd",
   "metadata": {},
   "source": [
    "## Predict"
   ]
  },
  {
   "cell_type": "code",
   "execution_count": 20,
   "id": "bf2a8a86",
   "metadata": {},
   "outputs": [
    {
     "name": "stdout",
     "output_type": "stream",
     "text": [
      "548/548 [==============================] - 3s 3ms/step\n"
     ]
    }
   ],
   "source": [
    "prediction = model.predict(X_test)"
   ]
  },
  {
   "cell_type": "code",
   "execution_count": 21,
   "id": "705a9414",
   "metadata": {},
   "outputs": [],
   "source": [
    "def unscale(scaled_value):\n",
    "    # if target variable is the first column, then, data_max_[0]\n",
    "    unscaled_value = scaled_value * (scaler.data_max_[0] - scaler.data_min_[0]) + (scaler.data_min_[0])\n",
    "    return unscaled_value"
   ]
  },
  {
   "cell_type": "code",
   "execution_count": 22,
   "id": "a8ec3337",
   "metadata": {},
   "outputs": [],
   "source": [
    "predictions = unscale(prediction)"
   ]
  },
  {
   "cell_type": "code",
   "execution_count": 23,
   "id": "2a1dc557",
   "metadata": {},
   "outputs": [],
   "source": [
    "Y_tests = unscale(Y_test)"
   ]
  },
  {
   "cell_type": "markdown",
   "id": "78ec4d0f",
   "metadata": {},
   "source": [
    "# Plot the performance"
   ]
  },
  {
   "cell_type": "code",
   "execution_count": 24,
   "id": "acaae5cc",
   "metadata": {},
   "outputs": [
    {
     "data": {
      "text/plain": [
       "2.6209967"
      ]
     },
     "execution_count": 24,
     "metadata": {},
     "output_type": "execute_result"
    }
   ],
   "source": [
    "mean_absolute_error(Y_tests, predictions)"
   ]
  },
  {
   "cell_type": "code",
   "execution_count": 25,
   "id": "96dab236",
   "metadata": {},
   "outputs": [
    {
     "name": "stdout",
     "output_type": "stream",
     "text": [
      "4.929169786354985\n"
     ]
    }
   ],
   "source": [
    "rmse = sqrt(mean_squared_error(Y_tests, predictions))\n",
    "print(rmse)"
   ]
  },
  {
   "cell_type": "code",
   "execution_count": 26,
   "id": "7cbb0c79",
   "metadata": {},
   "outputs": [
    {
     "data": {
      "text/plain": [
       "0.9337535908107187"
      ]
     },
     "execution_count": 26,
     "metadata": {},
     "output_type": "execute_result"
    }
   ],
   "source": [
    "r2_score(Y_tests, predictions)"
   ]
  },
  {
   "cell_type": "code",
   "execution_count": 27,
   "id": "c84d50d5",
   "metadata": {},
   "outputs": [
    {
     "name": "stdout",
     "output_type": "stream",
     "text": [
      "accuracy testing = 7\n"
     ]
    }
   ],
   "source": [
    "print('accuracy testing = {}'.format(np.sum(prediction==Y_test)) )"
   ]
  },
  {
   "cell_type": "markdown",
   "id": "da65206b",
   "metadata": {},
   "source": [
    "## Compare prediction and testing data"
   ]
  },
  {
   "cell_type": "code",
   "execution_count": null,
   "id": "f721486e",
   "metadata": {},
   "outputs": [],
   "source": [
    "rcParams['font.weight'] = 'bold'\n",
    "plt.plot(Y_tests[0:240], color='blue', label = 'Observed')\n",
    "plt.plot(predictions[0:240], color='red', label = 'Predicted')\n",
    "plt.ylabel('SO2', fontname=\"Times New Roman\", size=20,fontweight=\"bold\")\n",
    "plt.xlabel('Time(Hrs)', fontname=\"Times New Roman\", size=20,fontweight=\"bold\")\n",
    "plt.title('Secunda CNN-LSTM', fontname=\"Times New Roman\", size=28,fontweight=\"bold\")\n",
    "legend_properties = {'weight':'bold'}\n",
    "plt.legend(prop=legend_properties)\n",
    "plt.show()"
   ]
  },
  {
   "cell_type": "markdown",
   "id": "20d26e22",
   "metadata": {},
   "source": [
    "# Test"
   ]
  },
  {
   "cell_type": "code",
   "execution_count": null,
   "id": "e8c1aadb",
   "metadata": {},
   "outputs": [],
   "source": [
    "errors = predictions.flatten() - Y_tests\n",
    "\n",
    "# Calculate quantiles based on actual values\n",
    "quantiles, bins = pd.qcut(Y_tests, q=10, duplicates='drop', retbins=True)\n",
    "\n",
    "# Calculate average error for each quantile\n",
    "quantile_errors = []\n",
    "for i in range(len(bins) - 1):\n",
    "    group_indices = np.where((Y_tests >= bins[i]) & (Y_tests < bins[i+1]))[0]\n",
    "    quantile_errors.append(errors[group_indices].mean())\n",
    "\n",
    "# Round the bin edges for better readability\n",
    "rounded_bins = np.round(bins, decimals=3)\n",
    "\n",
    "# Plot quantiles vs. average errors\n",
    "rcParams['font.weight'] = 'bold'\n",
    "plt.figure(figsize=(8, 6))\n",
    "plt.plot(range(1, len(quantiles.categories) + 1), quantile_errors, marker='o')\n",
    "plt.xlabel('Quantile', fontname=\"Times New Roman\", size=20, fontweight=\"bold\")\n",
    "plt.ylabel('Average Error', fontname=\"Times New Roman\", size=20, fontweight=\"bold\")\n",
    "plt.title('Quantile Analysis', fontname=\"Times New Roman\", size=28, fontweight=\"bold\")\n",
    "plt.xticks(range(1, len(quantiles.categories) + 1), [f'{rounded_bins[i]:.3f} - {rounded_bins[i+1]:.3f}' for i in range(len(rounded_bins) - 1)], rotation=45)\n",
    "plt.grid(True)\n",
    "plt.show()"
   ]
  },
  {
   "cell_type": "markdown",
   "id": "36b7ae1c",
   "metadata": {},
   "source": [
    "# SAVE MODEL"
   ]
  },
  {
   "cell_type": "code",
   "execution_count": null,
   "id": "120ebf8d",
   "metadata": {},
   "outputs": [],
   "source": [
    "# eMalahleni PM2.5\n",
    "#model.save('cnn_lstm_model.h5')\n",
    "model.save('cnn_lstm_modelPM1.h5')"
   ]
  },
  {
   "cell_type": "code",
   "execution_count": null,
   "id": "b875c078",
   "metadata": {},
   "outputs": [],
   "source": [
    "# Ermelo PM2.5\n",
    "#model.save('cnn_lstm_modelEPM2.h5')\n",
    "model.save('cnn_lstm_modelEPM1.h5')"
   ]
  },
  {
   "cell_type": "code",
   "execution_count": null,
   "id": "8fc0d61b",
   "metadata": {},
   "outputs": [],
   "source": [
    "# Hendrina PM2.5\n",
    "#model.save('cnn_lstm_modelHPM2.h5')\n",
    "model.save('cnn_lstm_modelHPM1.h5')"
   ]
  },
  {
   "cell_type": "code",
   "execution_count": null,
   "id": "72f4ccaa",
   "metadata": {},
   "outputs": [],
   "source": [
    "# Middelburg PM2.5\n",
    "#model.save('cnn_lstm_modelMPM2.h5')\n",
    "model.save('cnn_lstm_modelMPM1.h5')"
   ]
  },
  {
   "cell_type": "code",
   "execution_count": null,
   "id": "deea80ef",
   "metadata": {},
   "outputs": [],
   "source": [
    "# Secunda PM2.5\n",
    "#model.save('cnn_lstm_modelSPM2.h5')\n",
    "model.save('cnn_lstm_modelSPM1.h5')"
   ]
  }
 ],
 "metadata": {
  "kernelspec": {
   "display_name": "Python 3 (ipykernel)",
   "language": "python",
   "name": "python3"
  },
  "language_info": {
   "codemirror_mode": {
    "name": "ipython",
    "version": 3
   },
   "file_extension": ".py",
   "mimetype": "text/x-python",
   "name": "python",
   "nbconvert_exporter": "python",
   "pygments_lexer": "ipython3",
   "version": "3.9.7"
  }
 },
 "nbformat": 4,
 "nbformat_minor": 5
}
