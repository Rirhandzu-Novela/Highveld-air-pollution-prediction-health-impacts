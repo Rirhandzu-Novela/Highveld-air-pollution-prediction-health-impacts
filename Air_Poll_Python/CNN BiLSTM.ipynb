{
 "cells": [
  {
   "cell_type": "markdown",
   "id": "ec1d9733",
   "metadata": {},
   "source": [
    "# Import"
   ]
  },
  {
   "cell_type": "code",
   "execution_count": 1,
   "id": "8468f4ae",
   "metadata": {},
   "outputs": [
    {
     "name": "stdout",
     "output_type": "stream",
     "text": [
      "2.9.1\n"
     ]
    }
   ],
   "source": [
    "import numpy as np\n",
    "from keras.preprocessing.text import Tokenizer\n",
    "from keras.models import Sequential\n",
    "from keras.layers import Dense\n",
    "from keras.layers import LSTM\n",
    "from keras.layers import Flatten\n",
    "from keras.layers import TimeDistributed\n",
    "from keras.layers.convolutional import Conv1D\n",
    "from keras.layers.convolutional import MaxPooling1D\n",
    "import pandas as pd\n",
    "import matplotlib.pyplot as plt\n",
    "from sklearn.preprocessing import MinMaxScaler\n",
    "from sklearn.preprocessing import LabelEncoder\n",
    "from sklearn.model_selection import train_test_split\n",
    "from sklearn.metrics import mean_squared_error\n",
    "\n",
    "%matplotlib inline\n",
    "#%tensorflow_version 1.x\n",
    "import tensorflow as tf\n",
    "print(tf.__version__)\n"
   ]
  },
  {
   "cell_type": "markdown",
   "id": "b66744f0",
   "metadata": {},
   "source": [
    "## load dataset"
   ]
  },
  {
   "cell_type": "code",
   "execution_count": 2,
   "id": "51f8628e",
   "metadata": {},
   "outputs": [],
   "source": [
    "dataset = pd.read_csv('eMalahleniIM.csv', sep =';', header=0, index_col=0)\n",
    "values = dataset.values"
   ]
  },
  {
   "cell_type": "markdown",
   "id": "cd04efa7",
   "metadata": {},
   "source": [
    "## Plot pm2.5"
   ]
  },
  {
   "cell_type": "code",
   "execution_count": 3,
   "id": "a5279d95",
   "metadata": {},
   "outputs": [
    {
     "data": {
      "image/png": "[encoded data removed]",
      "text/plain": [
       "<Figure size 432x288 with 1 Axes>"
      ]
     },
     "metadata": {
      "needs_background": "light"
     },
     "output_type": "display_data"
    }
   ],
   "source": [
    "plt.plot(values[:,0])\n",
    "plt.ylabel(dataset.columns[0])\n",
    "plt.show()"
   ]
  },
  {
   "cell_type": "markdown",
   "id": "abb7c362",
   "metadata": {},
   "source": [
    "## Data preparation\n",
    "\n",
    "We need a way to prepare the data for whatever way we would like to formulate the problem.\n",
    "\n",
    "In this case we are formulating it such that we take in 1 time step input (14 variables) and output 1 time step output (1 variable). In other words we are trying to solve the following question: given the pollution and weather conditions of the previous hour, can we predict the PM2.5 level for the next hour.\n",
    "\n",
    "The single variable we are outputing is the PM2.5 level. Note we also use PM2.5 level in our input.\n",
    "\n",
    "Credit for this code: https://machinelearningmastery.com/convert-time-series-supervised-learning-problem-python/"
   ]
  },
  {
   "cell_type": "code",
   "execution_count": 4,
   "id": "dd5c2777",
   "metadata": {},
   "outputs": [],
   "source": [
    "def series_to_supervised(data, n_in=1, n_out=1, dropnan=True):\n",
    "    n_vars = 1 if type(data) is list else data.shape[1]\n",
    "    df = pd.DataFrame(data)\n",
    "    cols, names = list(), list()\n",
    "    # input sequence (t-n, ... t-1)\n",
    "    for i in range(n_in, 0, -1):\n",
    "        cols.append(df.shift(i))\n",
    "        names += [('var%d(t-%d)' % (j+1, i)) for j in range(n_vars)]\n",
    "    # forecast sequence (t, t+1, ... t+n)\n",
    "    for i in range(0, n_out):\n",
    "        cols.append(df.shift(-i))\n",
    "        if i == 0:\n",
    "            names += [('var%d(t)' % (j+1)) for j in range(n_vars)]\n",
    "        else:\n",
    "            names += [('var%d(t+%d)' % (j+1, i)) for j in range(n_vars)]\n",
    "    # put it all together\n",
    "    agg = pd.concat(cols, axis=1)\n",
    "    agg.columns = names\n",
    "    # drop rows with NaN values\n",
    "    if dropnan:\n",
    "        agg.dropna(inplace=True)\n",
    "    return agg"
   ]
  },
  {
   "cell_type": "markdown",
   "id": "c262f072",
   "metadata": {},
   "source": [
    "## Get column names"
   ]
  },
  {
   "cell_type": "code",
   "execution_count": 5,
   "id": "bbfc14ab",
   "metadata": {},
   "outputs": [
    {
     "data": {
      "text/plain": [
       "Index(['pm2.5', 'pm10', 'so2', 'no2', 'no', 'nox', 'o3', 'co', 'ws', 'wd',\n",
       "       'temp', 'relHum', 'pressure'],\n",
       "      dtype='object')"
      ]
     },
     "execution_count": 5,
     "metadata": {},
     "output_type": "execute_result"
    }
   ],
   "source": [
    "dataset.columns"
   ]
  },
  {
   "cell_type": "markdown",
   "id": "5a628c1d",
   "metadata": {},
   "source": [
    "##Actually perform the data preparation\n",
    "\n",
    "We scale the values between 0 and 1.\n",
    "\n",
    "The code which converts the data into the suitable way we want, in this case, will produce 14 output variables. In our case we only want to predict PM2.5, that is why we drop the other collumns from the dataframe.\n",
    "\n",
    "Credit for this code: https://machinelearningmastery.com/multivariate-time-series-forecasting-lstms-keras/"
   ]
  },
  {
   "cell_type": "code",
   "execution_count": 6,
   "id": "68094b1e",
   "metadata": {},
   "outputs": [],
   "source": [
    "# ensure all data is float\n",
    "values = values.astype('float32')\n",
    "\n",
    "# normalize features\n",
    "scaler = MinMaxScaler(feature_range=(0, 1))\n",
    "scaled = scaler.fit_transform(values)\n",
    "\n",
    "# frame as supervised learning\n",
    "reframed = series_to_supervised(scaled, 1, 1)\n",
    "\n",
    "# drop columns we don't want to predict\n",
    "# We drop these because we are only interested in predicting for a single variable (pollution).\n",
    "# If we don't drop, then we will be predicting for all the variables too!\n",
    "reframed.drop(reframed.columns[[14, 15, 16, 17, 18, 19, 20, 21, 22, 23, 24, 25]], axis=1, inplace=True)\n",
    "values = reframed.values"
   ]
  },
  {
   "cell_type": "markdown",
   "id": "8ee9522d",
   "metadata": {},
   "source": [
    "## View the data"
   ]
  },
  {
   "cell_type": "code",
   "execution_count": 7,
   "id": "44d39eda",
   "metadata": {},
   "outputs": [
    {
     "data": {
      "text/html": [
       "<div>\n",
       "<style scoped>\n",
       "    .dataframe tbody tr th:only-of-type {\n",
       "        vertical-align: middle;\n",
       "    }\n",
       "\n",
       "    .dataframe tbody tr th {\n",
       "        vertical-align: top;\n",
       "    }\n",
       "\n",
       "    .dataframe thead th {\n",
       "        text-align: right;\n",
       "    }\n",
       "</style>\n",
       "<table border=\"1\" class=\"dataframe\">\n",
       "  <thead>\n",
       "    <tr style=\"text-align: right;\">\n",
       "      <th></th>\n",
       "      <th>var1(t-1)</th>\n",
       "      <th>var2(t-1)</th>\n",
       "      <th>var3(t-1)</th>\n",
       "      <th>var4(t-1)</th>\n",
       "      <th>var5(t-1)</th>\n",
       "      <th>var6(t-1)</th>\n",
       "      <th>var7(t-1)</th>\n",
       "      <th>var8(t-1)</th>\n",
       "      <th>var9(t-1)</th>\n",
       "      <th>var10(t-1)</th>\n",
       "      <th>var11(t-1)</th>\n",
       "      <th>var12(t-1)</th>\n",
       "      <th>var13(t-1)</th>\n",
       "      <th>var1(t)</th>\n",
       "    </tr>\n",
       "  </thead>\n",
       "  <tbody>\n",
       "    <tr>\n",
       "      <th>1</th>\n",
       "      <td>0.018966</td>\n",
       "      <td>0.016509</td>\n",
       "      <td>0.017832</td>\n",
       "      <td>0.023121</td>\n",
       "      <td>0.007442</td>\n",
       "      <td>0.015058</td>\n",
       "      <td>0.380849</td>\n",
       "      <td>0.004532</td>\n",
       "      <td>0.487526</td>\n",
       "      <td>0.493486</td>\n",
       "      <td>0.546332</td>\n",
       "      <td>0.833146</td>\n",
       "      <td>0.549068</td>\n",
       "      <td>0.026136</td>\n",
       "    </tr>\n",
       "    <tr>\n",
       "      <th>2</th>\n",
       "      <td>0.026136</td>\n",
       "      <td>0.016882</td>\n",
       "      <td>0.069390</td>\n",
       "      <td>0.088378</td>\n",
       "      <td>0.006463</td>\n",
       "      <td>0.036362</td>\n",
       "      <td>0.334627</td>\n",
       "      <td>0.003827</td>\n",
       "      <td>0.455301</td>\n",
       "      <td>0.539821</td>\n",
       "      <td>0.503610</td>\n",
       "      <td>0.942542</td>\n",
       "      <td>0.561046</td>\n",
       "      <td>0.038245</td>\n",
       "    </tr>\n",
       "    <tr>\n",
       "      <th>3</th>\n",
       "      <td>0.038245</td>\n",
       "      <td>0.024513</td>\n",
       "      <td>0.104785</td>\n",
       "      <td>0.121924</td>\n",
       "      <td>0.008580</td>\n",
       "      <td>0.049843</td>\n",
       "      <td>0.225011</td>\n",
       "      <td>0.024270</td>\n",
       "      <td>0.373181</td>\n",
       "      <td>0.403761</td>\n",
       "      <td>0.495473</td>\n",
       "      <td>0.916471</td>\n",
       "      <td>0.562208</td>\n",
       "      <td>0.015315</td>\n",
       "    </tr>\n",
       "    <tr>\n",
       "      <th>4</th>\n",
       "      <td>0.015315</td>\n",
       "      <td>0.009721</td>\n",
       "      <td>0.035120</td>\n",
       "      <td>0.013445</td>\n",
       "      <td>0.005276</td>\n",
       "      <td>0.009682</td>\n",
       "      <td>0.431832</td>\n",
       "      <td>0.022155</td>\n",
       "      <td>0.505198</td>\n",
       "      <td>0.313120</td>\n",
       "      <td>0.492930</td>\n",
       "      <td>0.856865</td>\n",
       "      <td>0.545851</td>\n",
       "      <td>0.010145</td>\n",
       "    </tr>\n",
       "    <tr>\n",
       "      <th>5</th>\n",
       "      <td>0.010145</td>\n",
       "      <td>0.006823</td>\n",
       "      <td>0.022419</td>\n",
       "      <td>0.026773</td>\n",
       "      <td>0.006716</td>\n",
       "      <td>0.015604</td>\n",
       "      <td>0.408700</td>\n",
       "      <td>0.006143</td>\n",
       "      <td>0.279626</td>\n",
       "      <td>0.275397</td>\n",
       "      <td>0.513782</td>\n",
       "      <td>0.789183</td>\n",
       "      <td>0.537181</td>\n",
       "      <td>0.023049</td>\n",
       "    </tr>\n",
       "  </tbody>\n",
       "</table>\n",
       "</div>"
      ],
      "text/plain": [
       "   var1(t-1)  var2(t-1)  var3(t-1)  var4(t-1)  var5(t-1)  var6(t-1)  \\\n",
       "1   0.018966   0.016509   0.017832   0.023121   0.007442   0.015058   \n",
       "2   0.026136   0.016882   0.069390   0.088378   0.006463   0.036362   \n",
       "3   0.038245   0.024513   0.104785   0.121924   0.008580   0.049843   \n",
       "4   0.015315   0.009721   0.035120   0.013445   0.005276   0.009682   \n",
       "5   0.010145   0.006823   0.022419   0.026773   0.006716   0.015604   \n",
       "\n",
       "   var7(t-1)  var8(t-1)  var9(t-1)  var10(t-1)  var11(t-1)  var12(t-1)  \\\n",
       "1   0.380849   0.004532   0.487526    0.493486    0.546332    0.833146   \n",
       "2   0.334627   0.003827   0.455301    0.539821    0.503610    0.942542   \n",
       "3   0.225011   0.024270   0.373181    0.403761    0.495473    0.916471   \n",
       "4   0.431832   0.022155   0.505198    0.313120    0.492930    0.856865   \n",
       "5   0.408700   0.006143   0.279626    0.275397    0.513782    0.789183   \n",
       "\n",
       "   var13(t-1)   var1(t)  \n",
       "1    0.549068  0.026136  \n",
       "2    0.561046  0.038245  \n",
       "3    0.562208  0.015315  \n",
       "4    0.545851  0.010145  \n",
       "5    0.537181  0.023049  "
      ]
     },
     "execution_count": 7,
     "metadata": {},
     "output_type": "execute_result"
    }
   ],
   "source": [
    "reframed.head()"
   ]
  },
  {
   "cell_type": "markdown",
   "id": "f3e625c4",
   "metadata": {},
   "source": [
    "## Create X and Y variables"
   ]
  },
  {
   "cell_type": "code",
   "execution_count": 8,
   "id": "cf58ef07",
   "metadata": {},
   "outputs": [
    {
     "data": {
      "text/plain": [
       "(87645, 14)"
      ]
     },
     "execution_count": 8,
     "metadata": {},
     "output_type": "execute_result"
    }
   ],
   "source": [
    "values.shape"
   ]
  },
  {
   "cell_type": "code",
   "execution_count": 9,
   "id": "ca1e4b00",
   "metadata": {},
   "outputs": [],
   "source": [
    "X = values[:,:-1]"
   ]
  },
  {
   "cell_type": "code",
   "execution_count": 10,
   "id": "6788de1c",
   "metadata": {},
   "outputs": [],
   "source": [
    "Y = values[:,-1]"
   ]
  },
  {
   "cell_type": "markdown",
   "id": "c8d52993",
   "metadata": {},
   "source": [
    "## Check the shapes"
   ]
  },
  {
   "cell_type": "code",
   "execution_count": 11,
   "id": "b733065b",
   "metadata": {},
   "outputs": [
    {
     "data": {
      "text/plain": [
       "(87645, 13)"
      ]
     },
     "execution_count": 11,
     "metadata": {},
     "output_type": "execute_result"
    }
   ],
   "source": [
    "X.shape"
   ]
  },
  {
   "cell_type": "code",
   "execution_count": 12,
   "id": "37c2a082",
   "metadata": {},
   "outputs": [
    {
     "data": {
      "text/plain": [
       "(87645,)"
      ]
     },
     "execution_count": 12,
     "metadata": {},
     "output_type": "execute_result"
    }
   ],
   "source": [
    "Y.shape"
   ]
  },
  {
   "cell_type": "markdown",
   "id": "bd4541a1",
   "metadata": {},
   "source": [
    "## Reshaping\n",
    "\n",
    "reshape from [samples, timesteps] into [samples, subsequences, timesteps, features]"
   ]
  },
  {
   "cell_type": "code",
   "execution_count": 13,
   "id": "9e57a19a",
   "metadata": {},
   "outputs": [],
   "source": [
    "X = X.reshape(X.shape[0],1,1,X.shape[1])"
   ]
  },
  {
   "cell_type": "code",
   "execution_count": 14,
   "id": "d9f99572",
   "metadata": {},
   "outputs": [
    {
     "data": {
      "text/plain": [
       "(87645, 1, 1, 13)"
      ]
     },
     "execution_count": 14,
     "metadata": {},
     "output_type": "execute_result"
    }
   ],
   "source": [
    "X.shape"
   ]
  },
  {
   "cell_type": "markdown",
   "id": "9a1b9489",
   "metadata": {},
   "source": [
    "## Training, validation and testing split"
   ]
  },
  {
   "cell_type": "code",
   "execution_count": 15,
   "id": "754e3096",
   "metadata": {},
   "outputs": [],
   "source": [
    "X_train, X_test, Y_train, Y_test = train_test_split(X, Y, test_size=0.20, random_state=42)\n",
    "X_train, X_val, Y_train, Y_val = train_test_split(X_train, Y_train, test_size=0.20, random_state=42)"
   ]
  },
  {
   "cell_type": "markdown",
   "id": "36c7c079",
   "metadata": {},
   "source": [
    "## Check the shape"
   ]
  },
  {
   "cell_type": "code",
   "execution_count": 16,
   "id": "0f4a829a",
   "metadata": {},
   "outputs": [
    {
     "name": "stdout",
     "output_type": "stream",
     "text": [
      "X_train: (56092, 1, 1, 13)\n",
      "Y_train: (56092,)\n",
      "\n",
      "X_val: (14024, 1, 1, 13)\n",
      "Y_val: (14024,)\n",
      "\n",
      "X_test: (17529, 1, 1, 13)\n",
      "Y_test: (17529,)\n"
     ]
    }
   ],
   "source": [
    "print ('X_train:',X_train.shape)\n",
    "print ('Y_train:',Y_train.shape)\n",
    "print ()\n",
    "print ('X_val:',X_val.shape)\n",
    "print ('Y_val:',Y_val.shape)\n",
    "print ()\n",
    "print ('X_test:',X_test.shape)\n",
    "print ('Y_test:',Y_test.shape)"
   ]
  },
  {
   "cell_type": "markdown",
   "id": "fdb0fac1",
   "metadata": {},
   "source": [
    "## Define a model\n",
    "Credit for this code: https://machinelearningmastery.com/how-to-develop-lstm-models-for-time-series-forecasting/"
   ]
  },
  {
   "cell_type": "code",
   "execution_count": 22,
   "id": "a8120938",
   "metadata": {},
   "outputs": [],
   "source": [
    "from keras.layers import Bidirectional\n",
    "model = Sequential()\n",
    "model.add(TimeDistributed(Conv1D(filters=64, kernel_size=1, activation='relu'), input_shape=(None, 1, 13)))\n",
    "model.add(TimeDistributed(MaxPooling1D(pool_size=1)))\n",
    "model.add(TimeDistributed(Conv1D(filters=64, kernel_size=1, activation='relu')))\n",
    "model.add(TimeDistributed(MaxPooling1D(pool_size=1)))\n",
    "model.add(TimeDistributed(Flatten()))\n",
    "model.add(Bidirectional(LSTM(56, input_shape=(1, 13))))\n",
    "model.add(Dense(56, activation=\"relu\"))\n",
    "model.add(Dense(56, activation=\"relu\"))\n",
    "model.add(Dense(56, activation=\"relu\"))\n",
    "model.add(Dense(1, activation = 'sigmoid'))\n",
    "model.compile(loss='mse', optimizer='adam')"
   ]
  },
  {
   "cell_type": "markdown",
   "id": "9989b1c3",
   "metadata": {},
   "source": [
    "## Print summary"
   ]
  },
  {
   "cell_type": "code",
   "execution_count": 20,
   "id": "3bbad727",
   "metadata": {},
   "outputs": [
    {
     "name": "stdout",
     "output_type": "stream",
     "text": [
      "Model: \"sequential_2\"\n",
      "_________________________________________________________________\n",
      " Layer (type)                Output Shape              Param #   \n",
      "=================================================================\n",
      " time_distributed_10 (TimeDi  (None, None, 1, 64)      896       \n",
      " stributed)                                                      \n",
      "                                                                 \n",
      " time_distributed_11 (TimeDi  (None, None, 1, 64)      0         \n",
      " stributed)                                                      \n",
      "                                                                 \n",
      " time_distributed_12 (TimeDi  (None, None, 1, 64)      4160      \n",
      " stributed)                                                      \n",
      "                                                                 \n",
      " time_distributed_13 (TimeDi  (None, None, 1, 64)      0         \n",
      " stributed)                                                      \n",
      "                                                                 \n",
      " time_distributed_14 (TimeDi  (None, None, 64)         0         \n",
      " stributed)                                                      \n",
      "                                                                 \n",
      " bidirectional_4 (Bidirectio  (None, 112)              54208     \n",
      " nal)                                                            \n",
      "                                                                 \n",
      " dense_1 (Dense)             (None, 56)                6328      \n",
      "                                                                 \n",
      " dense_2 (Dense)             (None, 56)                3192      \n",
      "                                                                 \n",
      " dense_3 (Dense)             (None, 56)                3192      \n",
      "                                                                 \n",
      " dense_4 (Dense)             (None, 1)                 57        \n",
      "                                                                 \n",
      "=================================================================\n",
      "Total params: 72,033\n",
      "Trainable params: 72,033\n",
      "Non-trainable params: 0\n",
      "_________________________________________________________________\n"
     ]
    }
   ],
   "source": [
    "model.summary()"
   ]
  },
  {
   "cell_type": "markdown",
   "id": "5028cba3",
   "metadata": {},
   "source": [
    "## Training"
   ]
  },
  {
   "cell_type": "code",
   "execution_count": 21,
   "id": "1873ce48",
   "metadata": {},
   "outputs": [
    {
     "name": "stdout",
     "output_type": "stream",
     "text": [
      "Epoch 1/40\n",
      "1753/1753 [==============================] - 83s 42ms/step - loss: 0.0036 - val_loss: 0.0014\n",
      "Epoch 2/40\n",
      "1753/1753 [==============================] - 67s 38ms/step - loss: 0.0013 - val_loss: 0.0011\n",
      "Epoch 3/40\n",
      "1753/1753 [==============================] - 67s 38ms/step - loss: 0.0012 - val_loss: 0.0012\n",
      "Epoch 4/40\n",
      "1753/1753 [==============================] - 67s 38ms/step - loss: 0.0012 - val_loss: 0.0012\n",
      "Epoch 5/40\n",
      "1753/1753 [==============================] - 67s 38ms/step - loss: 0.0012 - val_loss: 0.0012\n",
      "Epoch 6/40\n",
      "1753/1753 [==============================] - 68s 39ms/step - loss: 0.0012 - val_loss: 0.0012\n",
      "Epoch 7/40\n",
      "1753/1753 [==============================] - 69s 39ms/step - loss: 0.0012 - val_loss: 0.0011\n",
      "Epoch 8/40\n",
      "1753/1753 [==============================] - 69s 39ms/step - loss: 0.0012 - val_loss: 0.0011\n",
      "Epoch 9/40\n",
      "1753/1753 [==============================] - 67s 38ms/step - loss: 0.0012 - val_loss: 0.0010\n",
      "Epoch 10/40\n",
      "1753/1753 [==============================] - 67s 38ms/step - loss: 0.0012 - val_loss: 0.0012\n",
      "Epoch 11/40\n",
      "1753/1753 [==============================] - 69s 39ms/step - loss: 0.0012 - val_loss: 0.0012\n",
      "Epoch 12/40\n",
      "1753/1753 [==============================] - 69s 39ms/step - loss: 0.0012 - val_loss: 0.0011\n",
      "Epoch 13/40\n",
      "1753/1753 [==============================] - 78s 45ms/step - loss: 0.0012 - val_loss: 0.0010\n",
      "Epoch 14/40\n",
      "1753/1753 [==============================] - 73s 42ms/step - loss: 0.0011 - val_loss: 0.0011\n",
      "Epoch 15/40\n",
      "1753/1753 [==============================] - 73s 42ms/step - loss: 0.0011 - val_loss: 0.0011\n",
      "Epoch 16/40\n",
      "1753/1753 [==============================] - 69s 40ms/step - loss: 0.0011 - val_loss: 0.0011\n",
      "Epoch 17/40\n",
      "1753/1753 [==============================] - 74s 42ms/step - loss: 0.0011 - val_loss: 0.0010\n",
      "Epoch 18/40\n",
      "1753/1753 [==============================] - 77s 44ms/step - loss: 0.0011 - val_loss: 0.0011\n",
      "Epoch 19/40\n",
      "1753/1753 [==============================] - 74s 42ms/step - loss: 0.0011 - val_loss: 0.0011\n",
      "Epoch 20/40\n",
      "1753/1753 [==============================] - 74s 42ms/step - loss: 0.0011 - val_loss: 0.0011\n",
      "Epoch 21/40\n",
      "1753/1753 [==============================] - 74s 42ms/step - loss: 0.0011 - val_loss: 0.0011\n",
      "Epoch 22/40\n",
      "1753/1753 [==============================] - 75s 43ms/step - loss: 0.0011 - val_loss: 0.0010\n",
      "Epoch 23/40\n",
      "1753/1753 [==============================] - 79s 45ms/step - loss: 0.0011 - val_loss: 0.0011\n",
      "Epoch 24/40\n",
      "1753/1753 [==============================] - 73s 42ms/step - loss: 0.0011 - val_loss: 0.0011\n",
      "Epoch 25/40\n",
      "1753/1753 [==============================] - 81s 46ms/step - loss: 0.0011 - val_loss: 0.0011\n",
      "Epoch 26/40\n",
      "1753/1753 [==============================] - 72s 41ms/step - loss: 0.0011 - val_loss: 0.0011\n",
      "Epoch 27/40\n",
      "1753/1753 [==============================] - 75s 43ms/step - loss: 0.0011 - val_loss: 0.0011\n",
      "Epoch 28/40\n",
      "1753/1753 [==============================] - 81s 46ms/step - loss: 0.0011 - val_loss: 0.0011\n",
      "Epoch 29/40\n",
      "1753/1753 [==============================] - 83s 47ms/step - loss: 0.0011 - val_loss: 0.0010\n",
      "Epoch 30/40\n",
      "1753/1753 [==============================] - 74s 42ms/step - loss: 0.0011 - val_loss: 0.0010\n",
      "Epoch 31/40\n",
      "1753/1753 [==============================] - 80s 46ms/step - loss: 0.0011 - val_loss: 0.0011\n",
      "Epoch 32/40\n",
      "1753/1753 [==============================] - 86s 49ms/step - loss: 0.0011 - val_loss: 0.0011\n",
      "Epoch 33/40\n",
      "1753/1753 [==============================] - 80s 46ms/step - loss: 0.0011 - val_loss: 0.0011\n",
      "Epoch 34/40\n",
      "1753/1753 [==============================] - 78s 44ms/step - loss: 0.0011 - val_loss: 0.0010\n",
      "Epoch 35/40\n",
      "1753/1753 [==============================] - 89s 51ms/step - loss: 0.0011 - val_loss: 0.0012\n",
      "Epoch 36/40\n",
      "1753/1753 [==============================] - 73s 41ms/step - loss: 0.0011 - val_loss: 0.0010\n",
      "Epoch 37/40\n",
      "1753/1753 [==============================] - 70s 40ms/step - loss: 0.0011 - val_loss: 0.0010\n",
      "Epoch 38/40\n",
      "1753/1753 [==============================] - 73s 42ms/step - loss: 0.0011 - val_loss: 0.0011\n",
      "Epoch 39/40\n",
      "1753/1753 [==============================] - 73s 42ms/step - loss: 0.0010 - val_loss: 0.0010\n",
      "Epoch 40/40\n",
      "1753/1753 [==============================] - 71s 40ms/step - loss: 0.0010 - val_loss: 0.0010\n"
     ]
    }
   ],
   "source": [
    "history = model.fit(X_train, Y_train, validation_data=(X_val, Y_val), epochs=40, batch_size=32, verbose=1)"
   ]
  },
  {
   "cell_type": "markdown",
   "id": "4ea2cf67",
   "metadata": {},
   "source": [
    "## Plot the performance"
   ]
  },
  {
   "cell_type": "code",
   "execution_count": null,
   "id": "70f24700",
   "metadata": {},
   "outputs": [],
   "source": [
    "plt.plot(history.history['loss'], label='train')\n",
    "plt.plot(history.history['val_loss'], label='validation')\n",
    "plt.legend()\n",
    "plt.show()"
   ]
  },
  {
   "cell_type": "markdown",
   "id": "a2cc8acd",
   "metadata": {},
   "source": [
    "## Predict"
   ]
  },
  {
   "cell_type": "code",
   "execution_count": 23,
   "id": "bf2a8a86",
   "metadata": {},
   "outputs": [
    {
     "name": "stdout",
     "output_type": "stream",
     "text": [
      "548/548 [==============================] - 6s 5ms/step\n"
     ]
    }
   ],
   "source": [
    "prediction = model.predict(X_test)"
   ]
  },
  {
   "cell_type": "code",
   "execution_count": 24,
   "id": "acd2a756",
   "metadata": {},
   "outputs": [
    {
     "data": {
      "text/plain": [
       "0.20375898"
      ]
     },
     "execution_count": 24,
     "metadata": {},
     "output_type": "execute_result"
    }
   ],
   "source": [
    "mean_squared_error(Y_test, prediction)"
   ]
  },
  {
   "cell_type": "code",
   "execution_count": null,
   "id": "acaae5cc",
   "metadata": {},
   "outputs": [],
   "source": [
    "from sklearn.metrics import mean_absolute_error\n",
    "mean_absolute_error(Y_test, prediction)"
   ]
  },
  {
   "cell_type": "code",
   "execution_count": 26,
   "id": "56103512",
   "metadata": {},
   "outputs": [
    {
     "data": {
      "text/plain": [
       "-52.58074048710729"
      ]
     },
     "execution_count": 26,
     "metadata": {},
     "output_type": "execute_result"
    }
   ],
   "source": [
    "from sklearn.metrics import r2_score\n",
    "r2_score(Y_test, prediction)"
   ]
  },
  {
   "cell_type": "markdown",
   "id": "da65206b",
   "metadata": {},
   "source": [
    "## Compare prediction and testing data"
   ]
  },
  {
   "cell_type": "code",
   "execution_count": null,
   "id": "f721486e",
   "metadata": {},
   "outputs": [],
   "source": [
    "plt.plot(Y_test[0:24], color='blue', label = 'Observed')\n",
    "plt.plot(prediction[0:24], color='red', label = 'Predicted')\n",
    "plt.ylabel('PM2.5', fontname=\"Times New Roman\", size=20,fontweight=\"bold\")\n",
    "plt.xlabel('Time(Hrs)', fontname=\"Times New Roman\", size=20,fontweight=\"bold\")\n",
    "plt.title('Secunda CNNBiLSTM', fontname=\"Times New Roman\", size=28,fontweight=\"bold\")\n",
    "legend_properties = {'weight':'bold'}\n",
    "plt.legend(prop=legend_properties)\n",
    "plt.show()"
   ]
  },
  {
   "cell_type": "code",
   "execution_count": null,
   "id": "e22ec422",
   "metadata": {},
   "outputs": [],
   "source": []
  }
 ],
 "metadata": {
  "kernelspec": {
   "display_name": "Python 3 (ipykernel)",
   "language": "python",
   "name": "python3"
  },
  "language_info": {
   "codemirror_mode": {
    "name": "ipython",
    "version": 3
   },
   "file_extension": ".py",
   "mimetype": "text/x-python",
   "name": "python",
   "nbconvert_exporter": "python",
   "pygments_lexer": "ipython3",
   "version": "3.9.7"
  }
 },
 "nbformat": 4,
 "nbformat_minor": 5
}
