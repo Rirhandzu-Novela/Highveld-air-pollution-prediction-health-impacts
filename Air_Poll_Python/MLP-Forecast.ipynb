{
 "cells": [
  {
   "cell_type": "markdown",
   "id": "196c63f2",
   "metadata": {},
   "source": [
    "# Import"
   ]
  },
  {
   "cell_type": "code",
   "execution_count": 1,
   "id": "8468f4ae",
   "metadata": {},
   "outputs": [],
   "source": [
    "import numpy as np\n",
    "from sklearn.model_selection import GridSearchCV\n",
    "from keras.preprocessing.text import Tokenizer\n",
    "from keras.models import Sequential\n",
    "from keras.layers import Dense\n",
    "import pandas as pd\n",
    "import matplotlib.pyplot as plt\n",
    "from sklearn.preprocessing import MinMaxScaler\n",
    "from sklearn.preprocessing import LabelEncoder\n",
    "from sklearn.model_selection import train_test_split\n",
    "from sklearn.metrics import mean_squared_error\n",
    "from sklearn.metrics import mean_absolute_error\n",
    "\n",
    "%matplotlib inline\n",
    "#%tensorflow_version 1.x\n",
    "#import tensorflow as tf\n",
    "#print(tf.__version__)\n"
   ]
  },
  {
   "cell_type": "markdown",
   "id": "0e491d36",
   "metadata": {},
   "source": [
    "## load dataset"
   ]
  },
  {
   "cell_type": "code",
   "execution_count": 2,
   "id": "51f8628e",
   "metadata": {},
   "outputs": [],
   "source": [
    "dataset = pd.read_csv('SecundaIM.csv', sep =';', header=0, index_col=0)\n",
    "values = dataset.values"
   ]
  },
  {
   "cell_type": "code",
   "execution_count": 3,
   "id": "ec628f50",
   "metadata": {},
   "outputs": [
    {
     "data": {
      "text/html": [
       "<div>\n",
       "<style scoped>\n",
       "    .dataframe tbody tr th:only-of-type {\n",
       "        vertical-align: middle;\n",
       "    }\n",
       "\n",
       "    .dataframe tbody tr th {\n",
       "        vertical-align: top;\n",
       "    }\n",
       "\n",
       "    .dataframe thead th {\n",
       "        text-align: right;\n",
       "    }\n",
       "</style>\n",
       "<table border=\"1\" class=\"dataframe\">\n",
       "  <thead>\n",
       "    <tr style=\"text-align: right;\">\n",
       "      <th></th>\n",
       "      <th>PM2.5</th>\n",
       "      <th>PM10</th>\n",
       "      <th>SO2</th>\n",
       "      <th>NO2</th>\n",
       "      <th>NO</th>\n",
       "      <th>NOx</th>\n",
       "      <th>O3</th>\n",
       "      <th>CO</th>\n",
       "      <th>Amb Wspeed</th>\n",
       "      <th>Amb WDirection</th>\n",
       "      <th>Temperature</th>\n",
       "      <th>Amb RelHum</th>\n",
       "      <th>Amb Pressure</th>\n",
       "      <th>Rain</th>\n",
       "    </tr>\n",
       "  </thead>\n",
       "  <tbody>\n",
       "    <tr>\n",
       "      <th>count</th>\n",
       "      <td>87647.000000</td>\n",
       "      <td>87647.000000</td>\n",
       "      <td>87647.000000</td>\n",
       "      <td>87647.000000</td>\n",
       "      <td>87647.000000</td>\n",
       "      <td>87647.000000</td>\n",
       "      <td>87647.000000</td>\n",
       "      <td>87647.000000</td>\n",
       "      <td>87647.000000</td>\n",
       "      <td>87647.000000</td>\n",
       "      <td>87647.000000</td>\n",
       "      <td>87647.000000</td>\n",
       "      <td>87647.000000</td>\n",
       "      <td>87647.000000</td>\n",
       "    </tr>\n",
       "    <tr>\n",
       "      <th>mean</th>\n",
       "      <td>29.171659</td>\n",
       "      <td>61.765095</td>\n",
       "      <td>7.242098</td>\n",
       "      <td>17.605830</td>\n",
       "      <td>9.686645</td>\n",
       "      <td>26.121403</td>\n",
       "      <td>29.554458</td>\n",
       "      <td>16.845333</td>\n",
       "      <td>1.881845</td>\n",
       "      <td>174.143041</td>\n",
       "      <td>15.839714</td>\n",
       "      <td>63.173814</td>\n",
       "      <td>848.373722</td>\n",
       "      <td>0.145777</td>\n",
       "    </tr>\n",
       "    <tr>\n",
       "      <th>std</th>\n",
       "      <td>45.125576</td>\n",
       "      <td>98.996429</td>\n",
       "      <td>9.881698</td>\n",
       "      <td>19.608876</td>\n",
       "      <td>16.521904</td>\n",
       "      <td>29.015767</td>\n",
       "      <td>24.132666</td>\n",
       "      <td>160.759570</td>\n",
       "      <td>1.387563</td>\n",
       "      <td>95.583791</td>\n",
       "      <td>7.438468</td>\n",
       "      <td>27.518155</td>\n",
       "      <td>11.924338</td>\n",
       "      <td>2.267876</td>\n",
       "    </tr>\n",
       "    <tr>\n",
       "      <th>min</th>\n",
       "      <td>0.000000</td>\n",
       "      <td>0.000000</td>\n",
       "      <td>0.000000</td>\n",
       "      <td>0.000000</td>\n",
       "      <td>0.000000</td>\n",
       "      <td>0.000000</td>\n",
       "      <td>0.000000</td>\n",
       "      <td>0.000000</td>\n",
       "      <td>0.000000</td>\n",
       "      <td>0.000000</td>\n",
       "      <td>-8.210000</td>\n",
       "      <td>0.000000</td>\n",
       "      <td>0.000000</td>\n",
       "      <td>0.000000</td>\n",
       "    </tr>\n",
       "    <tr>\n",
       "      <th>25%</th>\n",
       "      <td>8.525200</td>\n",
       "      <td>17.087900</td>\n",
       "      <td>2.005700</td>\n",
       "      <td>7.492000</td>\n",
       "      <td>2.433000</td>\n",
       "      <td>10.900000</td>\n",
       "      <td>13.522600</td>\n",
       "      <td>0.089000</td>\n",
       "      <td>0.830000</td>\n",
       "      <td>79.020000</td>\n",
       "      <td>12.200000</td>\n",
       "      <td>42.060000</td>\n",
       "      <td>845.580000</td>\n",
       "      <td>0.000000</td>\n",
       "    </tr>\n",
       "    <tr>\n",
       "      <th>50%</th>\n",
       "      <td>17.950000</td>\n",
       "      <td>37.304000</td>\n",
       "      <td>4.890000</td>\n",
       "      <td>13.717000</td>\n",
       "      <td>4.935000</td>\n",
       "      <td>19.317000</td>\n",
       "      <td>27.750124</td>\n",
       "      <td>0.233000</td>\n",
       "      <td>1.800000</td>\n",
       "      <td>175.316333</td>\n",
       "      <td>16.216102</td>\n",
       "      <td>63.986725</td>\n",
       "      <td>848.471099</td>\n",
       "      <td>0.000000</td>\n",
       "    </tr>\n",
       "    <tr>\n",
       "      <th>75%</th>\n",
       "      <td>31.456385</td>\n",
       "      <td>66.420114</td>\n",
       "      <td>7.737745</td>\n",
       "      <td>18.565700</td>\n",
       "      <td>9.878933</td>\n",
       "      <td>27.806900</td>\n",
       "      <td>37.361400</td>\n",
       "      <td>1.000000</td>\n",
       "      <td>2.440000</td>\n",
       "      <td>256.780000</td>\n",
       "      <td>20.220000</td>\n",
       "      <td>88.870000</td>\n",
       "      <td>851.240000</td>\n",
       "      <td>0.000000</td>\n",
       "    </tr>\n",
       "    <tr>\n",
       "      <th>max</th>\n",
       "      <td>1024.503000</td>\n",
       "      <td>4412.100000</td>\n",
       "      <td>306.293000</td>\n",
       "      <td>1009.120000</td>\n",
       "      <td>450.608000</td>\n",
       "      <td>490.957000</td>\n",
       "      <td>274.500000</td>\n",
       "      <td>5101.800000</td>\n",
       "      <td>11.950000</td>\n",
       "      <td>359.990000</td>\n",
       "      <td>40.360000</td>\n",
       "      <td>103.780000</td>\n",
       "      <td>879.000000</td>\n",
       "      <td>246.000000</td>\n",
       "    </tr>\n",
       "  </tbody>\n",
       "</table>\n",
       "</div>"
      ],
      "text/plain": [
       "              PM2.5          PM10           SO2           NO2            NO  \\\n",
       "count  87647.000000  87647.000000  87647.000000  87647.000000  87647.000000   \n",
       "mean      29.171659     61.765095      7.242098     17.605830      9.686645   \n",
       "std       45.125576     98.996429      9.881698     19.608876     16.521904   \n",
       "min        0.000000      0.000000      0.000000      0.000000      0.000000   \n",
       "25%        8.525200     17.087900      2.005700      7.492000      2.433000   \n",
       "50%       17.950000     37.304000      4.890000     13.717000      4.935000   \n",
       "75%       31.456385     66.420114      7.737745     18.565700      9.878933   \n",
       "max     1024.503000   4412.100000    306.293000   1009.120000    450.608000   \n",
       "\n",
       "                NOx            O3            CO    Amb Wspeed  Amb WDirection  \\\n",
       "count  87647.000000  87647.000000  87647.000000  87647.000000    87647.000000   \n",
       "mean      26.121403     29.554458     16.845333      1.881845      174.143041   \n",
       "std       29.015767     24.132666    160.759570      1.387563       95.583791   \n",
       "min        0.000000      0.000000      0.000000      0.000000        0.000000   \n",
       "25%       10.900000     13.522600      0.089000      0.830000       79.020000   \n",
       "50%       19.317000     27.750124      0.233000      1.800000      175.316333   \n",
       "75%       27.806900     37.361400      1.000000      2.440000      256.780000   \n",
       "max      490.957000    274.500000   5101.800000     11.950000      359.990000   \n",
       "\n",
       "        Temperature    Amb RelHum  Amb Pressure          Rain  \n",
       "count  87647.000000  87647.000000  87647.000000  87647.000000  \n",
       "mean      15.839714     63.173814    848.373722      0.145777  \n",
       "std        7.438468     27.518155     11.924338      2.267876  \n",
       "min       -8.210000      0.000000      0.000000      0.000000  \n",
       "25%       12.200000     42.060000    845.580000      0.000000  \n",
       "50%       16.216102     63.986725    848.471099      0.000000  \n",
       "75%       20.220000     88.870000    851.240000      0.000000  \n",
       "max       40.360000    103.780000    879.000000    246.000000  "
      ]
     },
     "execution_count": 3,
     "metadata": {},
     "output_type": "execute_result"
    }
   ],
   "source": [
    "dataset.describe()"
   ]
  },
  {
   "cell_type": "markdown",
   "id": "4ba64023",
   "metadata": {},
   "source": [
    "## Plot pm2.5"
   ]
  },
  {
   "cell_type": "code",
   "execution_count": 4,
   "id": "a5279d95",
   "metadata": {
    "scrolled": true
   },
   "outputs": [
    {
     "data": {
      "image/png": "[encoded data removed]",
      "text/plain": [
       "<Figure size 432x288 with 1 Axes>"
      ]
     },
     "metadata": {
      "needs_background": "light"
     },
     "output_type": "display_data"
    }
   ],
   "source": [
    "plt.plot(values[:,0])\n",
    "plt.ylabel(dataset.columns[0])\n",
    "plt.show()"
   ]
  },
  {
   "cell_type": "markdown",
   "id": "9c24073a",
   "metadata": {},
   "source": [
    "## Data preparation\n",
    "\n",
    "We need a way to prepare the data for whatever way we would like to formulate the problem.\n",
    "\n",
    "In this case we are formulating it such that we take in 1 time step input (14 variables) and output 1 time step output (1 variable). In other words we are trying to solve the following question: given the pollution and weather conditions of the previous hour, can we predict the PM2.5 level for the next hour.\n",
    "\n",
    "The single variable we are outputing is the PM2.5 level. Note we also use PM2.5 level in our input.\n",
    "\n",
    "Credit for this code: https://machinelearningmastery.com/convert-time-series-supervised-learning-problem-python/"
   ]
  },
  {
   "cell_type": "code",
   "execution_count": 5,
   "id": "dd5c2777",
   "metadata": {},
   "outputs": [],
   "source": [
    "def series_to_supervised(data, n_in=1, n_out=1, dropnan=True):\n",
    "    n_vars = 1 if type(data) is list else data.shape[1]\n",
    "    df = pd.DataFrame(data)\n",
    "    cols, names = list(), list()\n",
    "    # input sequence (t-n, ... t-1)\n",
    "    for i in range(n_in, 0, -1):\n",
    "        cols.append(df.shift(i))\n",
    "        names += [('var%d(t-%d)' % (j+1, i)) for j in range(n_vars)]\n",
    "    # forecast sequence (t, t+1, ... t+n)\n",
    "    for i in range(0, n_out):\n",
    "        cols.append(df.shift(-i))\n",
    "        if i == 0:\n",
    "            names += [('var%d(t)' % (j+1)) for j in range(n_vars)]\n",
    "        else:\n",
    "            names += [('var%d(t+%d)' % (j+1, i)) for j in range(n_vars)]\n",
    "    # put it all together\n",
    "    agg = pd.concat(cols, axis=1)\n",
    "    agg.columns = names\n",
    "    # drop rows with NaN values\n",
    "    if dropnan:\n",
    "        agg.dropna(inplace=True)\n",
    "    return agg"
   ]
  },
  {
   "cell_type": "markdown",
   "id": "8fbbb702",
   "metadata": {},
   "source": [
    "## Get column names"
   ]
  },
  {
   "cell_type": "code",
   "execution_count": 6,
   "id": "bbfc14ab",
   "metadata": {},
   "outputs": [
    {
     "data": {
      "text/plain": [
       "Index(['PM2.5', 'PM10', 'SO2', 'NO2', 'NO', 'NOx', 'O3', 'CO', 'Amb Wspeed',\n",
       "       'Amb WDirection', 'Temperature', 'Amb RelHum', 'Amb Pressure', 'Rain'],\n",
       "      dtype='object')"
      ]
     },
     "execution_count": 6,
     "metadata": {},
     "output_type": "execute_result"
    }
   ],
   "source": [
    "dataset.columns"
   ]
  },
  {
   "cell_type": "markdown",
   "id": "6b6cd649",
   "metadata": {},
   "source": [
    "##Actually perform the data preparation\n",
    "\n",
    "We scale the values between 0 and 1.\n",
    "\n",
    "The code which converts the data into the suitable way we want, in this case, will produce 14 output variables. In our case we only want to predict PM2.5, that is why we drop the other collumns from the dataframe.\n",
    "\n",
    "Credit for this code: https://machinelearningmastery.com/multivariate-time-series-forecasting-lstms-keras/"
   ]
  },
  {
   "cell_type": "code",
   "execution_count": 7,
   "id": "68094b1e",
   "metadata": {},
   "outputs": [],
   "source": [
    "# ensure all data is float\n",
    "values = values.astype('float32')\n",
    "\n",
    "# normalize features\n",
    "scaler = MinMaxScaler(feature_range=(0, 1))\n",
    "scaled = scaler.fit_transform(values)\n",
    "\n",
    "# frame as supervised learning\n",
    "reframed = series_to_supervised(scaled, 1, 1)\n",
    "\n",
    "# drop columns we don't want to predict\n",
    "# We drop these because we are only interested in predicting for a single variable (pollution).\n",
    "# If we don't drop, then we will be predicting for all the variables too!\n",
    "reframed.drop(reframed.columns[[15, 16, 17, 18, 19, 20, 21, 22, 23, 24, 25, 26, 27,]], axis=1, inplace=True)\n",
    "values = reframed.values"
   ]
  },
  {
   "cell_type": "markdown",
   "id": "52d5bbb8",
   "metadata": {},
   "source": [
    "## View the data"
   ]
  },
  {
   "cell_type": "code",
   "execution_count": 8,
   "id": "44d39eda",
   "metadata": {
    "scrolled": true
   },
   "outputs": [
    {
     "data": {
      "text/html": [
       "<div>\n",
       "<style scoped>\n",
       "    .dataframe tbody tr th:only-of-type {\n",
       "        vertical-align: middle;\n",
       "    }\n",
       "\n",
       "    .dataframe tbody tr th {\n",
       "        vertical-align: top;\n",
       "    }\n",
       "\n",
       "    .dataframe thead th {\n",
       "        text-align: right;\n",
       "    }\n",
       "</style>\n",
       "<table border=\"1\" class=\"dataframe\">\n",
       "  <thead>\n",
       "    <tr style=\"text-align: right;\">\n",
       "      <th></th>\n",
       "      <th>var1(t-1)</th>\n",
       "      <th>var2(t-1)</th>\n",
       "      <th>var3(t-1)</th>\n",
       "      <th>var4(t-1)</th>\n",
       "      <th>var5(t-1)</th>\n",
       "      <th>var6(t-1)</th>\n",
       "      <th>var7(t-1)</th>\n",
       "      <th>var8(t-1)</th>\n",
       "      <th>var9(t-1)</th>\n",
       "      <th>var10(t-1)</th>\n",
       "      <th>var11(t-1)</th>\n",
       "      <th>var12(t-1)</th>\n",
       "      <th>var13(t-1)</th>\n",
       "      <th>var14(t-1)</th>\n",
       "      <th>var1(t)</th>\n",
       "    </tr>\n",
       "  </thead>\n",
       "  <tbody>\n",
       "    <tr>\n",
       "      <th>1</th>\n",
       "      <td>0.009341</td>\n",
       "      <td>0.002724</td>\n",
       "      <td>0.011100</td>\n",
       "      <td>0.002253</td>\n",
       "      <td>0.002730</td>\n",
       "      <td>0.005174</td>\n",
       "      <td>0.068915</td>\n",
       "      <td>0.000008</td>\n",
       "      <td>0.091213</td>\n",
       "      <td>0.590294</td>\n",
       "      <td>0.473337</td>\n",
       "      <td>0.963577</td>\n",
       "      <td>0.964391</td>\n",
       "      <td>0.0</td>\n",
       "      <td>0.004773</td>\n",
       "    </tr>\n",
       "    <tr>\n",
       "      <th>2</th>\n",
       "      <td>0.004773</td>\n",
       "      <td>0.001281</td>\n",
       "      <td>0.011264</td>\n",
       "      <td>0.002089</td>\n",
       "      <td>0.002375</td>\n",
       "      <td>0.005479</td>\n",
       "      <td>0.083653</td>\n",
       "      <td>0.000006</td>\n",
       "      <td>0.133054</td>\n",
       "      <td>0.354899</td>\n",
       "      <td>0.460366</td>\n",
       "      <td>0.963577</td>\n",
       "      <td>0.964130</td>\n",
       "      <td>0.0</td>\n",
       "      <td>0.010864</td>\n",
       "    </tr>\n",
       "    <tr>\n",
       "      <th>3</th>\n",
       "      <td>0.010864</td>\n",
       "      <td>0.002736</td>\n",
       "      <td>0.010219</td>\n",
       "      <td>0.009678</td>\n",
       "      <td>0.003573</td>\n",
       "      <td>0.016519</td>\n",
       "      <td>0.110260</td>\n",
       "      <td>0.000008</td>\n",
       "      <td>0.251883</td>\n",
       "      <td>0.194311</td>\n",
       "      <td>0.457896</td>\n",
       "      <td>0.914916</td>\n",
       "      <td>0.962036</td>\n",
       "      <td>0.0</td>\n",
       "      <td>0.008960</td>\n",
       "    </tr>\n",
       "    <tr>\n",
       "      <th>4</th>\n",
       "      <td>0.008960</td>\n",
       "      <td>0.002235</td>\n",
       "      <td>0.014398</td>\n",
       "      <td>0.008230</td>\n",
       "      <td>0.003173</td>\n",
       "      <td>0.020939</td>\n",
       "      <td>0.075195</td>\n",
       "      <td>0.000006</td>\n",
       "      <td>0.264435</td>\n",
       "      <td>0.164366</td>\n",
       "      <td>0.464072</td>\n",
       "      <td>0.853536</td>\n",
       "      <td>0.960557</td>\n",
       "      <td>0.0</td>\n",
       "      <td>0.006618</td>\n",
       "    </tr>\n",
       "    <tr>\n",
       "      <th>5</th>\n",
       "      <td>0.006618</td>\n",
       "      <td>0.001772</td>\n",
       "      <td>0.012472</td>\n",
       "      <td>0.007440</td>\n",
       "      <td>0.003262</td>\n",
       "      <td>0.014299</td>\n",
       "      <td>0.095053</td>\n",
       "      <td>0.000004</td>\n",
       "      <td>0.188285</td>\n",
       "      <td>0.205617</td>\n",
       "      <td>0.478279</td>\n",
       "      <td>0.785604</td>\n",
       "      <td>0.959420</td>\n",
       "      <td>0.0</td>\n",
       "      <td>0.008882</td>\n",
       "    </tr>\n",
       "  </tbody>\n",
       "</table>\n",
       "</div>"
      ],
      "text/plain": [
       "   var1(t-1)  var2(t-1)  var3(t-1)  var4(t-1)  var5(t-1)  var6(t-1)  \\\n",
       "1   0.009341   0.002724   0.011100   0.002253   0.002730   0.005174   \n",
       "2   0.004773   0.001281   0.011264   0.002089   0.002375   0.005479   \n",
       "3   0.010864   0.002736   0.010219   0.009678   0.003573   0.016519   \n",
       "4   0.008960   0.002235   0.014398   0.008230   0.003173   0.020939   \n",
       "5   0.006618   0.001772   0.012472   0.007440   0.003262   0.014299   \n",
       "\n",
       "   var7(t-1)  var8(t-1)  var9(t-1)  var10(t-1)  var11(t-1)  var12(t-1)  \\\n",
       "1   0.068915   0.000008   0.091213    0.590294    0.473337    0.963577   \n",
       "2   0.083653   0.000006   0.133054    0.354899    0.460366    0.963577   \n",
       "3   0.110260   0.000008   0.251883    0.194311    0.457896    0.914916   \n",
       "4   0.075195   0.000006   0.264435    0.164366    0.464072    0.853536   \n",
       "5   0.095053   0.000004   0.188285    0.205617    0.478279    0.785604   \n",
       "\n",
       "   var13(t-1)  var14(t-1)   var1(t)  \n",
       "1    0.964391         0.0  0.004773  \n",
       "2    0.964130         0.0  0.010864  \n",
       "3    0.962036         0.0  0.008960  \n",
       "4    0.960557         0.0  0.006618  \n",
       "5    0.959420         0.0  0.008882  "
      ]
     },
     "execution_count": 8,
     "metadata": {},
     "output_type": "execute_result"
    }
   ],
   "source": [
    "reframed.head()"
   ]
  },
  {
   "cell_type": "code",
   "execution_count": 18,
   "id": "e0063085",
   "metadata": {},
   "outputs": [
    {
     "name": "stdout",
     "output_type": "stream",
     "text": [
      "(56092, 14) (56092,) (14024, 14) (14024,) (17530, 14) (17530,)\n"
     ]
    }
   ],
   "source": [
    "# split into train and test sets\n",
    "values = reframed.values\n",
    "train = values[:56092, :]\n",
    "test = values[:14024, :]\n",
    "val = values[:17530, :]\n",
    "# split into input and outputs\n",
    "train_X, train_Y = train[:, :-1], train[:, -1]\n",
    "test_X, test_Y = test[:, :-1], test[:, -1]\n",
    "val_X, val_Y = val[:, :-1], val[:, -1]\n",
    "print(train_X.shape, train_Y.shape, test_X.shape, test_Y.shape, val_X.shape, val_Y.shape)"
   ]
  },
  {
   "cell_type": "markdown",
   "id": "b5beac5d",
   "metadata": {},
   "source": [
    "## Define a model"
   ]
  },
  {
   "cell_type": "code",
   "execution_count": 19,
   "id": "a8120938",
   "metadata": {},
   "outputs": [],
   "source": [
    "model = Sequential()\n",
    "model.add(Dense(28, activation=\"relu\", input_dim = 14))\n",
    "model.add(Dense(1, activation = 'sigmoid'))\n",
    "model.compile(loss='mae', optimizer='adam',  metrics = ['accuracy'])"
   ]
  },
  {
   "cell_type": "markdown",
   "id": "3d5ccb9d",
   "metadata": {},
   "source": [
    "## Print summary"
   ]
  },
  {
   "cell_type": "code",
   "execution_count": 20,
   "id": "3bbad727",
   "metadata": {},
   "outputs": [
    {
     "name": "stdout",
     "output_type": "stream",
     "text": [
      "Model: \"sequential_2\"\n",
      "_________________________________________________________________\n",
      " Layer (type)                Output Shape              Param #   \n",
      "=================================================================\n",
      " dense_4 (Dense)             (None, 28)                420       \n",
      "                                                                 \n",
      " dense_5 (Dense)             (None, 1)                 29        \n",
      "                                                                 \n",
      "=================================================================\n",
      "Total params: 449\n",
      "Trainable params: 449\n",
      "Non-trainable params: 0\n",
      "_________________________________________________________________\n"
     ]
    }
   ],
   "source": [
    "model.summary()"
   ]
  },
  {
   "cell_type": "markdown",
   "id": "00530d58",
   "metadata": {},
   "source": [
    "## Training"
   ]
  },
  {
   "cell_type": "code",
   "execution_count": 21,
   "id": "1873ce48",
   "metadata": {},
   "outputs": [
    {
     "name": "stdout",
     "output_type": "stream",
     "text": [
      "Epoch 1/30\n",
      "4007/4007 [==============================] - 11s 3ms/step - loss: 0.0269 - accuracy: 2.4959e-04 - val_loss: 0.0195 - val_accuracy: 1.1409e-04\n",
      "Epoch 2/30\n",
      "4007/4007 [==============================] - 10s 2ms/step - loss: 0.0150 - accuracy: 2.4959e-04 - val_loss: 0.0177 - val_accuracy: 1.1409e-04\n",
      "Epoch 3/30\n",
      "4007/4007 [==============================] - 10s 2ms/step - loss: 0.0135 - accuracy: 2.4959e-04 - val_loss: 0.0161 - val_accuracy: 1.1409e-04\n",
      "Epoch 4/30\n",
      "4007/4007 [==============================] - 10s 2ms/step - loss: 0.0122 - accuracy: 2.4959e-04 - val_loss: 0.0153 - val_accuracy: 1.1409e-04\n",
      "Epoch 5/30\n",
      "4007/4007 [==============================] - 10s 2ms/step - loss: 0.0115 - accuracy: 2.4959e-04 - val_loss: 0.0147 - val_accuracy: 1.1409e-04\n",
      "Epoch 6/30\n",
      "4007/4007 [==============================] - 10s 3ms/step - loss: 0.0112 - accuracy: 2.4959e-04 - val_loss: 0.0146 - val_accuracy: 1.1409e-04\n",
      "Epoch 7/30\n",
      "4007/4007 [==============================] - 10s 2ms/step - loss: 0.0111 - accuracy: 2.4959e-04 - val_loss: 0.0146 - val_accuracy: 1.1409e-04\n",
      "Epoch 8/30\n",
      "4007/4007 [==============================] - 10s 2ms/step - loss: 0.0111 - accuracy: 2.4959e-04 - val_loss: 0.0146 - val_accuracy: 1.1409e-04\n",
      "Epoch 9/30\n",
      "4007/4007 [==============================] - 10s 2ms/step - loss: 0.0111 - accuracy: 2.4959e-04 - val_loss: 0.0145 - val_accuracy: 1.1409e-04\n",
      "Epoch 10/30\n",
      "4007/4007 [==============================] - 11s 3ms/step - loss: 0.0110 - accuracy: 2.4959e-04 - val_loss: 0.0145 - val_accuracy: 1.1409e-04\n",
      "Epoch 11/30\n",
      "4007/4007 [==============================] - 11s 3ms/step - loss: 0.0110 - accuracy: 2.4959e-04 - val_loss: 0.0145 - val_accuracy: 1.1409e-04\n",
      "Epoch 12/30\n",
      "4007/4007 [==============================] - 10s 2ms/step - loss: 0.0110 - accuracy: 2.4959e-04 - val_loss: 0.0145 - val_accuracy: 1.1409e-04\n",
      "Epoch 13/30\n",
      "4007/4007 [==============================] - 10s 2ms/step - loss: 0.0110 - accuracy: 2.4959e-04 - val_loss: 0.0144 - val_accuracy: 1.1409e-04\n",
      "Epoch 14/30\n",
      "4007/4007 [==============================] - 10s 2ms/step - loss: 0.0110 - accuracy: 2.4959e-04 - val_loss: 0.0144 - val_accuracy: 1.1409e-04\n",
      "Epoch 15/30\n",
      "4007/4007 [==============================] - 10s 2ms/step - loss: 0.0110 - accuracy: 2.4959e-04 - val_loss: 0.0146 - val_accuracy: 1.1409e-04\n",
      "Epoch 16/30\n",
      "4007/4007 [==============================] - 10s 2ms/step - loss: 0.0110 - accuracy: 2.4959e-04 - val_loss: 0.0144 - val_accuracy: 1.1409e-04\n",
      "Epoch 17/30\n",
      "4007/4007 [==============================] - 10s 2ms/step - loss: 0.0110 - accuracy: 2.4959e-04 - val_loss: 0.0146 - val_accuracy: 1.1409e-04\n",
      "Epoch 18/30\n",
      "4007/4007 [==============================] - 10s 2ms/step - loss: 0.0110 - accuracy: 2.4959e-04 - val_loss: 0.0145 - val_accuracy: 1.1409e-04\n",
      "Epoch 19/30\n",
      "4007/4007 [==============================] - 10s 2ms/step - loss: 0.0110 - accuracy: 2.4959e-04 - val_loss: 0.0145 - val_accuracy: 1.1409e-04\n",
      "Epoch 20/30\n",
      "4007/4007 [==============================] - 10s 2ms/step - loss: 0.0109 - accuracy: 2.4959e-04 - val_loss: 0.0147 - val_accuracy: 1.1409e-04\n",
      "Epoch 21/30\n",
      "4007/4007 [==============================] - 10s 2ms/step - loss: 0.0109 - accuracy: 2.4959e-04 - val_loss: 0.0147 - val_accuracy: 1.1409e-04\n",
      "Epoch 22/30\n",
      "4007/4007 [==============================] - 10s 2ms/step - loss: 0.0109 - accuracy: 2.4959e-04 - val_loss: 0.0145 - val_accuracy: 1.1409e-04\n",
      "Epoch 23/30\n",
      "4007/4007 [==============================] - 10s 3ms/step - loss: 0.0109 - accuracy: 2.4959e-04 - val_loss: 0.0144 - val_accuracy: 1.1409e-04\n",
      "Epoch 24/30\n",
      "4007/4007 [==============================] - 10s 2ms/step - loss: 0.0109 - accuracy: 2.4959e-04 - val_loss: 0.0147 - val_accuracy: 1.1409e-04\n",
      "Epoch 25/30\n",
      "4007/4007 [==============================] - 10s 2ms/step - loss: 0.0109 - accuracy: 2.4959e-04 - val_loss: 0.0144 - val_accuracy: 1.1409e-04\n",
      "Epoch 26/30\n",
      "4007/4007 [==============================] - 10s 2ms/step - loss: 0.0109 - accuracy: 2.4959e-04 - val_loss: 0.0144 - val_accuracy: 1.1409e-04\n",
      "Epoch 27/30\n",
      "4007/4007 [==============================] - 10s 3ms/step - loss: 0.0109 - accuracy: 2.4959e-04 - val_loss: 0.0144 - val_accuracy: 1.1409e-04\n",
      "Epoch 28/30\n",
      "4007/4007 [==============================] - 10s 2ms/step - loss: 0.0109 - accuracy: 2.4959e-04 - val_loss: 0.0144 - val_accuracy: 1.1409e-04\n",
      "Epoch 29/30\n",
      "4007/4007 [==============================] - 10s 3ms/step - loss: 0.0109 - accuracy: 2.4959e-04 - val_loss: 0.0144 - val_accuracy: 1.1409e-04\n",
      "Epoch 30/30\n",
      "4007/4007 [==============================] - 10s 3ms/step - loss: 0.0109 - accuracy: 2.4959e-04 - val_loss: 0.0145 - val_accuracy: 1.1409e-04\n"
     ]
    }
   ],
   "source": [
    "history = model.fit(train_X, train_Y, validation_data=(val_X, val_Y),  epochs=30, batch_size=14,  verbose=1)"
   ]
  },
  {
   "cell_type": "markdown",
   "id": "cd31c00a",
   "metadata": {},
   "source": [
    "## Plot the performance"
   ]
  },
  {
   "cell_type": "code",
   "execution_count": 22,
   "id": "70f24700",
   "metadata": {},
   "outputs": [
    {
     "data": {
      "image/png": "[encoded data removed]",
      "text/plain": [
       "<Figure size 432x288 with 1 Axes>"
      ]
     },
     "metadata": {
      "needs_background": "light"
     },
     "output_type": "display_data"
    }
   ],
   "source": [
    "plt.plot(history.history['loss'], label='train')\n",
    "plt.plot(history.history['val_loss'], label='validation')\n",
    "plt.legend()\n",
    "plt.show()"
   ]
  },
  {
   "cell_type": "markdown",
   "id": "d4ebb99d",
   "metadata": {},
   "source": [
    "## Predict"
   ]
  },
  {
   "cell_type": "code",
   "execution_count": 24,
   "id": "bf2a8a86",
   "metadata": {},
   "outputs": [
    {
     "name": "stdout",
     "output_type": "stream",
     "text": [
      "439/439 [==============================] - 1s 2ms/step\n"
     ]
    }
   ],
   "source": [
    "prediction = model.predict(test_X)"
   ]
  },
  {
   "cell_type": "code",
   "execution_count": 25,
   "id": "3ec48b4d",
   "metadata": {},
   "outputs": [
    {
     "name": "stdout",
     "output_type": "stream",
     "text": [
      "R2 Score:  0.5694310820834814\n"
     ]
    }
   ],
   "source": [
    "from sklearn.metrics import r2_score \n",
    "print('R2 Score: ', r2_score(test_Y, prediction))"
   ]
  },
  {
   "cell_type": "code",
   "execution_count": 26,
   "id": "acd2a756",
   "metadata": {},
   "outputs": [
    {
     "data": {
      "text/plain": [
       "0.0016333474"
      ]
     },
     "execution_count": 26,
     "metadata": {},
     "output_type": "execute_result"
    }
   ],
   "source": [
    "mean_squared_error(test_Y, prediction)"
   ]
  },
  {
   "cell_type": "code",
   "execution_count": 31,
   "id": "50e4c27c",
   "metadata": {},
   "outputs": [
    {
     "name": "stdout",
     "output_type": "stream",
     "text": [
      "Test RMSE: 0.040\n"
     ]
    }
   ],
   "source": [
    "# calculate RMSE\n",
    "from math import sqrt \n",
    "rmse = sqrt(mean_squared_error(test_Y, prediction))\n",
    "print('Test RMSE: %.3f' % rmse)"
   ]
  },
  {
   "cell_type": "code",
   "execution_count": 27,
   "id": "3d65b773",
   "metadata": {},
   "outputs": [
    {
     "data": {
      "text/plain": [
       "0.015330454"
      ]
     },
     "execution_count": 27,
     "metadata": {},
     "output_type": "execute_result"
    }
   ],
   "source": [
    "mean_absolute_error(test_Y, prediction)"
   ]
  },
  {
   "cell_type": "code",
   "execution_count": 28,
   "id": "6c45f6f0",
   "metadata": {},
   "outputs": [
    {
     "name": "stdout",
     "output_type": "stream",
     "text": [
      "accuracy testing = 5\n"
     ]
    }
   ],
   "source": [
    "print('accuracy testing = {}'.format(np.sum(prediction==test_Y)))"
   ]
  },
  {
   "cell_type": "markdown",
   "id": "f619fb06",
   "metadata": {},
   "source": [
    "## Compare prediction and testing data"
   ]
  },
  {
   "cell_type": "code",
   "execution_count": 30,
   "id": "f721486e",
   "metadata": {},
   "outputs": [
    {
     "data": {
      "image/png": "[encoded data removed]",
      "text/plain": [
       "<Figure size 432x288 with 1 Axes>"
      ]
     },
     "metadata": {
      "needs_background": "light"
     },
     "output_type": "display_data"
    }
   ],
   "source": [
    "plt.plot(test_Y[0:24], color='blue', label = 'Observed')\n",
    "plt.plot(prediction[0:24], color='red', label = 'Predicted')\n",
    "plt.ylabel('PM2.5', fontname=\"Times New Roman\", size=20,fontweight=\"bold\")\n",
    "plt.xlabel('Time(Hrs)', fontname=\"Times New Roman\", size=20,fontweight=\"bold\")\n",
    "plt.title('Secunda MLP', fontname=\"Times New Roman\", size=28,fontweight=\"bold\")\n",
    "legend_properties = {'weight':'bold'}\n",
    "plt.legend(prop=legend_properties)\n",
    "plt.show()"
   ]
  },
  {
   "cell_type": "code",
   "execution_count": 37,
   "id": "de0af42c",
   "metadata": {},
   "outputs": [],
   "source": [
    "# make a persistence forecast\n",
    "def persistence(last_ob, n_seq):\n",
    " return [last_ob for i in range(n_seq)]"
   ]
  },
  {
   "cell_type": "code",
   "execution_count": 38,
   "id": "f79128db",
   "metadata": {},
   "outputs": [],
   "source": [
    "# evaluate the persistence model\n",
    "def make_forecasts(train, test, n_lag, n_seq):\n",
    " forecasts = list()\n",
    " for i in range(len(test)):\n",
    "     X, y = test[i, 0:n_lag], test[i, n_lag:]\n",
    " # make forecast\n",
    " forecast = persistence(X[-1], n_seq)\n",
    " # store the forecast\n",
    " forecasts.append(forecast)\n",
    " return forecasts"
   ]
  },
  {
   "cell_type": "code",
   "execution_count": 39,
   "id": "e613eec1",
   "metadata": {},
   "outputs": [],
   "source": [
    "forecasts = make_forecasts(train, test, 1, 14024)"
   ]
  },
  {
   "cell_type": "code",
   "execution_count": 40,
   "id": "f528a595",
   "metadata": {},
   "outputs": [],
   "source": [
    "\n",
    "# evaluate the RMSE for each forecast time step\n",
    "def evaluate_forecasts(test, forecasts, n_lag, n_seq):\n",
    " for i in range(n_seq):\n",
    "     actual = test[:,(n_lag+i)]\n",
    " predicted = [forecast[i] for forecast in forecasts]\n",
    " rmse = sqrt(mean_squared_error(actual, predicted))\n",
    " print('t+%d RMSE: %f' % ((i+1), rmse))"
   ]
  },
  {
   "cell_type": "code",
   "execution_count": 43,
   "id": "610fe96a",
   "metadata": {},
   "outputs": [
    {
     "ename": "IndexError",
     "evalue": "index 15 is out of bounds for axis 1 with size 15",
     "output_type": "error",
     "traceback": [
      "\u001b[1;31m---------------------------------------------------------------------------\u001b[0m",
      "\u001b[1;31mIndexError\u001b[0m                                Traceback (most recent call last)",
      "\u001b[1;32m~\\AppData\\Local\\Temp/ipykernel_5276/304512897.py\u001b[0m in \u001b[0;36m<module>\u001b[1;34m\u001b[0m\n\u001b[1;32m----> 1\u001b[1;33m \u001b[0mevaluate_forecasts\u001b[0m\u001b[1;33m(\u001b[0m\u001b[0mtest\u001b[0m\u001b[1;33m,\u001b[0m \u001b[0mforecasts\u001b[0m\u001b[1;33m,\u001b[0m \u001b[1;36m1\u001b[0m\u001b[1;33m,\u001b[0m \u001b[1;36m14024\u001b[0m\u001b[1;33m)\u001b[0m\u001b[1;33m\u001b[0m\u001b[1;33m\u001b[0m\u001b[0m\n\u001b[0m",
      "\u001b[1;32m~\\AppData\\Local\\Temp/ipykernel_5276/87265748.py\u001b[0m in \u001b[0;36mevaluate_forecasts\u001b[1;34m(test, forecasts, n_lag, n_seq)\u001b[0m\n\u001b[0;32m      2\u001b[0m \u001b[1;32mdef\u001b[0m \u001b[0mevaluate_forecasts\u001b[0m\u001b[1;33m(\u001b[0m\u001b[0mtest\u001b[0m\u001b[1;33m,\u001b[0m \u001b[0mforecasts\u001b[0m\u001b[1;33m,\u001b[0m \u001b[0mn_lag\u001b[0m\u001b[1;33m,\u001b[0m \u001b[0mn_seq\u001b[0m\u001b[1;33m)\u001b[0m\u001b[1;33m:\u001b[0m\u001b[1;33m\u001b[0m\u001b[1;33m\u001b[0m\u001b[0m\n\u001b[0;32m      3\u001b[0m  \u001b[1;32mfor\u001b[0m \u001b[0mi\u001b[0m \u001b[1;32min\u001b[0m \u001b[0mrange\u001b[0m\u001b[1;33m(\u001b[0m\u001b[0mn_seq\u001b[0m\u001b[1;33m)\u001b[0m\u001b[1;33m:\u001b[0m\u001b[1;33m\u001b[0m\u001b[1;33m\u001b[0m\u001b[0m\n\u001b[1;32m----> 4\u001b[1;33m      \u001b[0mactual\u001b[0m \u001b[1;33m=\u001b[0m \u001b[0mtest\u001b[0m\u001b[1;33m[\u001b[0m\u001b[1;33m:\u001b[0m\u001b[1;33m,\u001b[0m\u001b[1;33m(\u001b[0m\u001b[0mn_lag\u001b[0m\u001b[1;33m+\u001b[0m\u001b[0mi\u001b[0m\u001b[1;33m)\u001b[0m\u001b[1;33m]\u001b[0m\u001b[1;33m\u001b[0m\u001b[1;33m\u001b[0m\u001b[0m\n\u001b[0m\u001b[0;32m      5\u001b[0m  \u001b[0mpredicted\u001b[0m \u001b[1;33m=\u001b[0m \u001b[1;33m[\u001b[0m\u001b[0mforecast\u001b[0m\u001b[1;33m[\u001b[0m\u001b[0mi\u001b[0m\u001b[1;33m]\u001b[0m \u001b[1;32mfor\u001b[0m \u001b[0mforecast\u001b[0m \u001b[1;32min\u001b[0m \u001b[0mforecasts\u001b[0m\u001b[1;33m]\u001b[0m\u001b[1;33m\u001b[0m\u001b[1;33m\u001b[0m\u001b[0m\n\u001b[0;32m      6\u001b[0m  \u001b[0mrmse\u001b[0m \u001b[1;33m=\u001b[0m \u001b[0msqrt\u001b[0m\u001b[1;33m(\u001b[0m\u001b[0mmean_squared_error\u001b[0m\u001b[1;33m(\u001b[0m\u001b[0mactual\u001b[0m\u001b[1;33m,\u001b[0m \u001b[0mpredicted\u001b[0m\u001b[1;33m)\u001b[0m\u001b[1;33m)\u001b[0m\u001b[1;33m\u001b[0m\u001b[1;33m\u001b[0m\u001b[0m\n",
      "\u001b[1;31mIndexError\u001b[0m: index 15 is out of bounds for axis 1 with size 15"
     ]
    }
   ],
   "source": [
    "evaluate_forecasts(test, forecasts, 1, 14024)"
   ]
  },
  {
   "cell_type": "code",
   "execution_count": 42,
   "id": "f237b787",
   "metadata": {},
   "outputs": [
    {
     "ename": "IndentationError",
     "evalue": "expected an indented block (Temp/ipykernel_5276/1052488247.py, line 7)",
     "output_type": "error",
     "traceback": [
      "\u001b[1;36m  File \u001b[1;32m\"C:\\Users\\REAL\\AppData\\Local\\Temp/ipykernel_5276/1052488247.py\"\u001b[1;36m, line \u001b[1;32m7\u001b[0m\n\u001b[1;33m    off_s = len(series) - n_test + i\u001b[0m\n\u001b[1;37m    ^\u001b[0m\n\u001b[1;31mIndentationError\u001b[0m\u001b[1;31m:\u001b[0m expected an indented block\n"
     ]
    }
   ],
   "source": [
    "\n",
    "# plot the forecasts in the context of the original dataset\n",
    "def plot_forecasts(reframed, forecasts, n_test):\n",
    " # plot the entire dataset in blue\n",
    " pyplot.plot(series.values)\n",
    " # plot the forecasts in red\n",
    " for i in range(len(forecasts)):\n",
    " off_s = len(series) - n_test + i\n",
    " off_e = off_s + len(forecasts[i])\n",
    " xaxis = [x for x in range(off_s, off_e)]\n",
    " pyplot.plot(xaxis, forecasts[i], color='red')\n",
    " # show the plot\n",
    " pyplot.show()"
   ]
  },
  {
   "cell_type": "code",
   "execution_count": null,
   "id": "dfc52a1b",
   "metadata": {},
   "outputs": [],
   "source": [
    "# plot forecasts\n",
    "plot_forecasts(series, forecasts, 12)"
   ]
  },
  {
   "cell_type": "code",
   "execution_count": null,
   "id": "8059a229",
   "metadata": {},
   "outputs": [],
   "source": [
    "# plot the forecasts in the context of the original dataset\n",
    "def plot_forecasts(reframed, forecasts, n_test):\n",
    " # plot the entire dataset in blue\n",
    " pyplot.plot(series.values)\n",
    " # plot the forecasts in red\n",
    " for i in range(len(forecasts)):\n",
    " off_s = len(series) - 12 + i - 1\n",
    " off_e = off_s + len(forecasts[i]) + 1\n",
    " xaxis = [x for x in range(off_s, off_e)]\n",
    " yaxis = [series.values[off_s]] + forecasts[i]\n",
    " pyplot.plot(xaxis, yaxis, color='red')\n",
    " # show the plot\n",
    " pyplot.show()"
   ]
  },
  {
   "cell_type": "code",
   "execution_count": null,
   "id": "55673d93",
   "metadata": {},
   "outputs": [],
   "source": [
    "# reshape input to be 3D [samples, timesteps, features]\n",
    "train_X = train_X.reshape((train_X.shape[0], 1, train_X.shape[1]))\n",
    "test_X = test_X.reshape((test_X.shape[0], 1, test_X.shape[1]))\n",
    "val_X = val_X.reshape((val_X.shape[0], 1, val_X.shape[1]))"
   ]
  }
 ],
 "metadata": {
  "kernelspec": {
   "display_name": "Python 3 (ipykernel)",
   "language": "python",
   "name": "python3"
  },
  "language_info": {
   "codemirror_mode": {
    "name": "ipython",
    "version": 3
   },
   "file_extension": ".py",
   "mimetype": "text/x-python",
   "name": "python",
   "nbconvert_exporter": "python",
   "pygments_lexer": "ipython3",
   "version": "3.9.7"
  }
 },
 "nbformat": 4,
 "nbformat_minor": 5
}
