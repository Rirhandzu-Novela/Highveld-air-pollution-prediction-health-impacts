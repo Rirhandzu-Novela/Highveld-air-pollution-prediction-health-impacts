{
 "cells": [
  {
   "cell_type": "markdown",
   "id": "196c63f2",
   "metadata": {},
   "source": [
    "# Import"
   ]
  },
  {
   "cell_type": "code",
   "execution_count": 1,
   "id": "8468f4ae",
   "metadata": {},
   "outputs": [],
   "source": [
    "import numpy as np\n",
    "import pandas as pd\n",
    "import matplotlib.pyplot as plt\n",
    "from math import sqrt\n",
    "from sklearn.preprocessing import MinMaxScaler\n",
    "from sklearn.model_selection import train_test_split\n",
    "from sklearn.metrics import r2_score\n",
    "from sklearn.metrics import mean_squared_error\n",
    "from sklearn.metrics import mean_absolute_error\n",
    "from sklearn import linear_model\n",
    "import statsmodels.api as sm\n",
    "\n",
    "%matplotlib inline\n",
    "#%tensorflow_version 1.x\n",
    "#import tensorflow as tf\n",
    "#print(tf.__version__)\n"
   ]
  },
  {
   "cell_type": "markdown",
   "id": "0e491d36",
   "metadata": {},
   "source": [
    "## load dataset"
   ]
  },
  {
   "cell_type": "code",
   "execution_count": 2,
   "id": "51f8628e",
   "metadata": {},
   "outputs": [],
   "source": [
    "dataset = pd.read_csv('SecundaIMO3.csv', sep =';', header=0, index_col=0)\n",
    "values = dataset.values"
   ]
  },
  {
   "cell_type": "markdown",
   "id": "4ba64023",
   "metadata": {},
   "source": [
    "## Plot pm2.5"
   ]
  },
  {
   "cell_type": "code",
   "execution_count": 3,
   "id": "a5279d95",
   "metadata": {
    "scrolled": true
   },
   "outputs": [
    {
     "data": {
      "image/png": "[encoded data removed]",
      "text/plain": [
       "<Figure size 432x288 with 1 Axes>"
      ]
     },
     "metadata": {
      "needs_background": "light"
     },
     "output_type": "display_data"
    }
   ],
   "source": [
    "plt.plot(values[:,0])\n",
    "plt.ylabel(dataset.columns[0])\n",
    "plt.show()"
   ]
  },
  {
   "cell_type": "markdown",
   "id": "9c24073a",
   "metadata": {},
   "source": [
    "## Data preparation\n",
    "\n",
    "We need a way to prepare the data for whatever way we would like to formulate the problem.\n",
    "\n",
    "In this case we are formulating it such that we take in 1 time step input (14 variables) and output 1 time step output (1 variable). In other words we are trying to solve the following question: given the pollution and weather conditions of the previous hour, can we predict the PM2.5 level for the next hour.\n",
    "\n",
    "The single variable we are outputing is the PM2.5 level. Note we also use PM2.5 level in our input.\n",
    "\n",
    "Credit for this code: https://machinelearningmastery.com/convert-time-series-supervised-learning-problem-python/"
   ]
  },
  {
   "cell_type": "code",
   "execution_count": 4,
   "id": "dd5c2777",
   "metadata": {},
   "outputs": [],
   "source": [
    "def series_to_supervised(data, n_in=1, n_out=1, dropnan=True):\n",
    "    n_vars = 1 if type(data) is list else data.shape[1]\n",
    "    df = pd.DataFrame(data)\n",
    "    cols, names = list(), list()\n",
    "    # input sequence (t-n, ... t-1)\n",
    "    for i in range(n_in, 0, -1):\n",
    "        cols.append(df.shift(i))\n",
    "        names += [('var%d(t-%d)' % (j+1, i)) for j in range(n_vars)]\n",
    "    # forecast sequence (t, t+1, ... t+n)\n",
    "    for i in range(0, n_out):\n",
    "        cols.append(df.shift(-i))\n",
    "        if i == 0:\n",
    "            names += [('var%d(t)' % (j+1)) for j in range(n_vars)]\n",
    "        else:\n",
    "            names += [('var%d(t+%d)' % (j+1, i)) for j in range(n_vars)]\n",
    "    # put it all together\n",
    "    agg = pd.concat(cols, axis=1)\n",
    "    agg.columns = names\n",
    "    # drop rows with NaN values\n",
    "    if dropnan:\n",
    "        agg.dropna(inplace=True)\n",
    "    return agg"
   ]
  },
  {
   "cell_type": "markdown",
   "id": "8fbbb702",
   "metadata": {},
   "source": [
    "## Get column names"
   ]
  },
  {
   "cell_type": "code",
   "execution_count": 5,
   "id": "bbfc14ab",
   "metadata": {},
   "outputs": [
    {
     "data": {
      "text/plain": [
       "Index(['O3', 'PM2.5', 'PM10', 'SO2', 'NO2', 'NO', 'NOx', 'CO', 'Amb Wspeed',\n",
       "       'Amb WDirection', 'Temperature', 'Amb RelHum', 'Amb Pressure', 'Rain'],\n",
       "      dtype='object')"
      ]
     },
     "execution_count": 5,
     "metadata": {},
     "output_type": "execute_result"
    }
   ],
   "source": [
    "dataset.columns"
   ]
  },
  {
   "cell_type": "markdown",
   "id": "6b6cd649",
   "metadata": {},
   "source": [
    "##Actually perform the data preparation\n",
    "\n",
    "We scale the values between 0 and 1.\n",
    "\n",
    "The code which converts the data into the suitable way we want, in this case, will produce 14 output variables. In our case we only want to predict PM2.5, that is why we drop the other collumns from the dataframe.\n",
    "\n",
    "Credit for this code: https://machinelearningmastery.com/multivariate-time-series-forecasting-lstms-keras/"
   ]
  },
  {
   "cell_type": "code",
   "execution_count": 6,
   "id": "68094b1e",
   "metadata": {},
   "outputs": [],
   "source": [
    "# ensure all data is float\n",
    "values = values.astype('float32')\n",
    "\n",
    "# normalize features\n",
    "scaler = MinMaxScaler(feature_range=(0, 1))\n",
    "scaled = scaler.fit_transform(values)\n",
    "\n",
    "# frame as supervised learning\n",
    "reframed = series_to_supervised(scaled, 1, 1)\n",
    "\n",
    "# drop columns we don't want to predict\n",
    "# We drop these because we are only interested in predicting for a single variable (pollution).\n",
    "# If we don't drop, then we will be predicting for all the variables too!\n",
    "reframed.drop(reframed.columns[[15, 16, 17, 18, 19, 20, 21, 22, 23, 24, 25, 26, 27,]], axis=1, inplace=True)\n",
    "values = reframed.values"
   ]
  },
  {
   "cell_type": "markdown",
   "id": "52d5bbb8",
   "metadata": {},
   "source": [
    "## View the data"
   ]
  },
  {
   "cell_type": "code",
   "execution_count": 7,
   "id": "44d39eda",
   "metadata": {
    "scrolled": true
   },
   "outputs": [
    {
     "data": {
      "text/html": [
       "<div>\n",
       "<style scoped>\n",
       "    .dataframe tbody tr th:only-of-type {\n",
       "        vertical-align: middle;\n",
       "    }\n",
       "\n",
       "    .dataframe tbody tr th {\n",
       "        vertical-align: top;\n",
       "    }\n",
       "\n",
       "    .dataframe thead th {\n",
       "        text-align: right;\n",
       "    }\n",
       "</style>\n",
       "<table border=\"1\" class=\"dataframe\">\n",
       "  <thead>\n",
       "    <tr style=\"text-align: right;\">\n",
       "      <th></th>\n",
       "      <th>var1(t-1)</th>\n",
       "      <th>var2(t-1)</th>\n",
       "      <th>var3(t-1)</th>\n",
       "      <th>var4(t-1)</th>\n",
       "      <th>var5(t-1)</th>\n",
       "      <th>var6(t-1)</th>\n",
       "      <th>var7(t-1)</th>\n",
       "      <th>var8(t-1)</th>\n",
       "      <th>var9(t-1)</th>\n",
       "      <th>var10(t-1)</th>\n",
       "      <th>var11(t-1)</th>\n",
       "      <th>var12(t-1)</th>\n",
       "      <th>var13(t-1)</th>\n",
       "      <th>var14(t-1)</th>\n",
       "      <th>var1(t)</th>\n",
       "    </tr>\n",
       "  </thead>\n",
       "  <tbody>\n",
       "    <tr>\n",
       "      <th>1</th>\n",
       "      <td>0.068915</td>\n",
       "      <td>0.009341</td>\n",
       "      <td>0.002724</td>\n",
       "      <td>0.011100</td>\n",
       "      <td>0.002253</td>\n",
       "      <td>0.002730</td>\n",
       "      <td>0.005174</td>\n",
       "      <td>0.000008</td>\n",
       "      <td>0.091213</td>\n",
       "      <td>0.590294</td>\n",
       "      <td>0.473337</td>\n",
       "      <td>0.963577</td>\n",
       "      <td>0.964391</td>\n",
       "      <td>0.0</td>\n",
       "      <td>0.083653</td>\n",
       "    </tr>\n",
       "    <tr>\n",
       "      <th>2</th>\n",
       "      <td>0.083653</td>\n",
       "      <td>0.004773</td>\n",
       "      <td>0.001281</td>\n",
       "      <td>0.011264</td>\n",
       "      <td>0.002089</td>\n",
       "      <td>0.002375</td>\n",
       "      <td>0.005479</td>\n",
       "      <td>0.000006</td>\n",
       "      <td>0.133054</td>\n",
       "      <td>0.354899</td>\n",
       "      <td>0.460366</td>\n",
       "      <td>0.963577</td>\n",
       "      <td>0.964130</td>\n",
       "      <td>0.0</td>\n",
       "      <td>0.110260</td>\n",
       "    </tr>\n",
       "    <tr>\n",
       "      <th>3</th>\n",
       "      <td>0.110260</td>\n",
       "      <td>0.010864</td>\n",
       "      <td>0.002736</td>\n",
       "      <td>0.010219</td>\n",
       "      <td>0.009678</td>\n",
       "      <td>0.003573</td>\n",
       "      <td>0.016519</td>\n",
       "      <td>0.000008</td>\n",
       "      <td>0.251883</td>\n",
       "      <td>0.194311</td>\n",
       "      <td>0.457896</td>\n",
       "      <td>0.914916</td>\n",
       "      <td>0.962036</td>\n",
       "      <td>0.0</td>\n",
       "      <td>0.075195</td>\n",
       "    </tr>\n",
       "    <tr>\n",
       "      <th>4</th>\n",
       "      <td>0.075195</td>\n",
       "      <td>0.008960</td>\n",
       "      <td>0.002235</td>\n",
       "      <td>0.014398</td>\n",
       "      <td>0.008230</td>\n",
       "      <td>0.003173</td>\n",
       "      <td>0.020939</td>\n",
       "      <td>0.000006</td>\n",
       "      <td>0.264435</td>\n",
       "      <td>0.164366</td>\n",
       "      <td>0.464072</td>\n",
       "      <td>0.853536</td>\n",
       "      <td>0.960557</td>\n",
       "      <td>0.0</td>\n",
       "      <td>0.095053</td>\n",
       "    </tr>\n",
       "    <tr>\n",
       "      <th>5</th>\n",
       "      <td>0.095053</td>\n",
       "      <td>0.006618</td>\n",
       "      <td>0.001772</td>\n",
       "      <td>0.012472</td>\n",
       "      <td>0.007440</td>\n",
       "      <td>0.003262</td>\n",
       "      <td>0.014299</td>\n",
       "      <td>0.000004</td>\n",
       "      <td>0.188285</td>\n",
       "      <td>0.205617</td>\n",
       "      <td>0.478279</td>\n",
       "      <td>0.785604</td>\n",
       "      <td>0.959420</td>\n",
       "      <td>0.0</td>\n",
       "      <td>0.109902</td>\n",
       "    </tr>\n",
       "  </tbody>\n",
       "</table>\n",
       "</div>"
      ],
      "text/plain": [
       "   var1(t-1)  var2(t-1)  var3(t-1)  var4(t-1)  var5(t-1)  var6(t-1)  \\\n",
       "1   0.068915   0.009341   0.002724   0.011100   0.002253   0.002730   \n",
       "2   0.083653   0.004773   0.001281   0.011264   0.002089   0.002375   \n",
       "3   0.110260   0.010864   0.002736   0.010219   0.009678   0.003573   \n",
       "4   0.075195   0.008960   0.002235   0.014398   0.008230   0.003173   \n",
       "5   0.095053   0.006618   0.001772   0.012472   0.007440   0.003262   \n",
       "\n",
       "   var7(t-1)  var8(t-1)  var9(t-1)  var10(t-1)  var11(t-1)  var12(t-1)  \\\n",
       "1   0.005174   0.000008   0.091213    0.590294    0.473337    0.963577   \n",
       "2   0.005479   0.000006   0.133054    0.354899    0.460366    0.963577   \n",
       "3   0.016519   0.000008   0.251883    0.194311    0.457896    0.914916   \n",
       "4   0.020939   0.000006   0.264435    0.164366    0.464072    0.853536   \n",
       "5   0.014299   0.000004   0.188285    0.205617    0.478279    0.785604   \n",
       "\n",
       "   var13(t-1)  var14(t-1)   var1(t)  \n",
       "1    0.964391         0.0  0.083653  \n",
       "2    0.964130         0.0  0.110260  \n",
       "3    0.962036         0.0  0.075195  \n",
       "4    0.960557         0.0  0.095053  \n",
       "5    0.959420         0.0  0.109902  "
      ]
     },
     "execution_count": 7,
     "metadata": {},
     "output_type": "execute_result"
    }
   ],
   "source": [
    "reframed.head()"
   ]
  },
  {
   "cell_type": "markdown",
   "id": "704a993d",
   "metadata": {},
   "source": [
    "## Create X and Y variables"
   ]
  },
  {
   "cell_type": "code",
   "execution_count": 8,
   "id": "cf58ef07",
   "metadata": {},
   "outputs": [
    {
     "data": {
      "text/plain": [
       "(87646, 15)"
      ]
     },
     "execution_count": 8,
     "metadata": {},
     "output_type": "execute_result"
    }
   ],
   "source": [
    "values.shape"
   ]
  },
  {
   "cell_type": "code",
   "execution_count": 9,
   "id": "ca1e4b00",
   "metadata": {},
   "outputs": [],
   "source": [
    "X = values[:,:-1]"
   ]
  },
  {
   "cell_type": "code",
   "execution_count": 10,
   "id": "6788de1c",
   "metadata": {},
   "outputs": [],
   "source": [
    "Y = values[:,-1]"
   ]
  },
  {
   "cell_type": "code",
   "execution_count": 11,
   "id": "b733065b",
   "metadata": {},
   "outputs": [
    {
     "data": {
      "text/plain": [
       "(87646, 14)"
      ]
     },
     "execution_count": 11,
     "metadata": {},
     "output_type": "execute_result"
    }
   ],
   "source": [
    "X.shape"
   ]
  },
  {
   "cell_type": "markdown",
   "id": "5c46a655",
   "metadata": {},
   "source": [
    "## Check the shapes"
   ]
  },
  {
   "cell_type": "code",
   "execution_count": 12,
   "id": "37c2a082",
   "metadata": {},
   "outputs": [
    {
     "data": {
      "text/plain": [
       "(87646,)"
      ]
     },
     "execution_count": 12,
     "metadata": {},
     "output_type": "execute_result"
    }
   ],
   "source": [
    "Y.shape"
   ]
  },
  {
   "cell_type": "markdown",
   "id": "33e67507",
   "metadata": {},
   "source": [
    "## Training, validation and testing split"
   ]
  },
  {
   "cell_type": "code",
   "execution_count": 13,
   "id": "754e3096",
   "metadata": {},
   "outputs": [],
   "source": [
    "X_train, X_test, Y_train, Y_test = train_test_split(X, Y, test_size=0.20, random_state=42)\n",
    "X_train, X_val, Y_train, Y_val = train_test_split(X_train, Y_train, test_size=0.20, random_state=42)"
   ]
  },
  {
   "cell_type": "markdown",
   "id": "6a0feae7",
   "metadata": {},
   "source": [
    "## Check the shape"
   ]
  },
  {
   "cell_type": "code",
   "execution_count": 14,
   "id": "0f4a829a",
   "metadata": {},
   "outputs": [
    {
     "name": "stdout",
     "output_type": "stream",
     "text": [
      "X_train: (56092, 14)\n",
      "Y_train: (56092,)\n",
      "\n",
      "X_val: (14024, 14)\n",
      "Y_val: (14024,)\n",
      "\n",
      "X_test: (17530, 14)\n",
      "Y_test: (17530,)\n"
     ]
    }
   ],
   "source": [
    "print ('X_train:',X_train.shape)\n",
    "print ('Y_train:',Y_train.shape)\n",
    "print ()\n",
    "print ('X_val:',X_val.shape)\n",
    "print ('Y_val:',Y_val.shape)\n",
    "print ()\n",
    "print ('X_test:',X_test.shape)\n",
    "print ('Y_test:',Y_test.shape)"
   ]
  },
  {
   "cell_type": "markdown",
   "id": "b5beac5d",
   "metadata": {},
   "source": [
    "## Define a model"
   ]
  },
  {
   "cell_type": "code",
   "execution_count": 15,
   "id": "a8120938",
   "metadata": {},
   "outputs": [
    {
     "data": {
      "text/html": [
       "<style>#sk-container-id-1 {color: black;background-color: white;}#sk-container-id-1 pre{padding: 0;}#sk-container-id-1 div.sk-toggleable {background-color: white;}#sk-container-id-1 label.sk-toggleable__label {cursor: pointer;display: block;width: 100%;margin-bottom: 0;padding: 0.3em;box-sizing: border-box;text-align: center;}#sk-container-id-1 label.sk-toggleable__label-arrow:before {content: \"▸\";float: left;margin-right: 0.25em;color: #696969;}#sk-container-id-1 label.sk-toggleable__label-arrow:hover:before {color: black;}#sk-container-id-1 div.sk-estimator:hover label.sk-toggleable__label-arrow:before {color: black;}#sk-container-id-1 div.sk-toggleable__content {max-height: 0;max-width: 0;overflow: hidden;text-align: left;background-color: #f0f8ff;}#sk-container-id-1 div.sk-toggleable__content pre {margin: 0.2em;color: black;border-radius: 0.25em;background-color: #f0f8ff;}#sk-container-id-1 input.sk-toggleable__control:checked~div.sk-toggleable__content {max-height: 200px;max-width: 100%;overflow: auto;}#sk-container-id-1 input.sk-toggleable__control:checked~label.sk-toggleable__label-arrow:before {content: \"▾\";}#sk-container-id-1 div.sk-estimator input.sk-toggleable__control:checked~label.sk-toggleable__label {background-color: #d4ebff;}#sk-container-id-1 div.sk-label input.sk-toggleable__control:checked~label.sk-toggleable__label {background-color: #d4ebff;}#sk-container-id-1 input.sk-hidden--visually {border: 0;clip: rect(1px 1px 1px 1px);clip: rect(1px, 1px, 1px, 1px);height: 1px;margin: -1px;overflow: hidden;padding: 0;position: absolute;width: 1px;}#sk-container-id-1 div.sk-estimator {font-family: monospace;background-color: #f0f8ff;border: 1px dotted black;border-radius: 0.25em;box-sizing: border-box;margin-bottom: 0.5em;}#sk-container-id-1 div.sk-estimator:hover {background-color: #d4ebff;}#sk-container-id-1 div.sk-parallel-item::after {content: \"\";width: 100%;border-bottom: 1px solid gray;flex-grow: 1;}#sk-container-id-1 div.sk-label:hover label.sk-toggleable__label {background-color: #d4ebff;}#sk-container-id-1 div.sk-serial::before {content: \"\";position: absolute;border-left: 1px solid gray;box-sizing: border-box;top: 0;bottom: 0;left: 50%;z-index: 0;}#sk-container-id-1 div.sk-serial {display: flex;flex-direction: column;align-items: center;background-color: white;padding-right: 0.2em;padding-left: 0.2em;position: relative;}#sk-container-id-1 div.sk-item {position: relative;z-index: 1;}#sk-container-id-1 div.sk-parallel {display: flex;align-items: stretch;justify-content: center;background-color: white;position: relative;}#sk-container-id-1 div.sk-item::before, #sk-container-id-1 div.sk-parallel-item::before {content: \"\";position: absolute;border-left: 1px solid gray;box-sizing: border-box;top: 0;bottom: 0;left: 50%;z-index: -1;}#sk-container-id-1 div.sk-parallel-item {display: flex;flex-direction: column;z-index: 1;position: relative;background-color: white;}#sk-container-id-1 div.sk-parallel-item:first-child::after {align-self: flex-end;width: 50%;}#sk-container-id-1 div.sk-parallel-item:last-child::after {align-self: flex-start;width: 50%;}#sk-container-id-1 div.sk-parallel-item:only-child::after {width: 0;}#sk-container-id-1 div.sk-dashed-wrapped {border: 1px dashed gray;margin: 0 0.4em 0.5em 0.4em;box-sizing: border-box;padding-bottom: 0.4em;background-color: white;}#sk-container-id-1 div.sk-label label {font-family: monospace;font-weight: bold;display: inline-block;line-height: 1.2em;}#sk-container-id-1 div.sk-label-container {text-align: center;}#sk-container-id-1 div.sk-container {/* jupyter's `normalize.less` sets `[hidden] { display: none; }` but bootstrap.min.css set `[hidden] { display: none !important; }` so we also need the `!important` here to be able to override the default hidden behavior on the sphinx rendered scikit-learn.org. See: https://github.com/scikit-learn/scikit-learn/issues/21755 */display: inline-block !important;position: relative;}#sk-container-id-1 div.sk-text-repr-fallback {display: none;}</style><div id=\"sk-container-id-1\" class=\"sk-top-container\"><div class=\"sk-text-repr-fallback\"><pre>LinearRegression()</pre><b>In a Jupyter environment, please rerun this cell to show the HTML representation or trust the notebook. <br />On GitHub, the HTML representation is unable to render, please try loading this page with nbviewer.org.</b></div><div class=\"sk-container\" hidden><div class=\"sk-item\"><div class=\"sk-estimator sk-toggleable\"><input class=\"sk-toggleable__control sk-hidden--visually\" id=\"sk-estimator-id-1\" type=\"checkbox\" checked><label for=\"sk-estimator-id-1\" class=\"sk-toggleable__label sk-toggleable__label-arrow\">LinearRegression</label><div class=\"sk-toggleable__content\"><pre>LinearRegression()</pre></div></div></div></div></div>"
      ],
      "text/plain": [
       "LinearRegression()"
      ]
     },
     "execution_count": 15,
     "metadata": {},
     "output_type": "execute_result"
    }
   ],
   "source": [
    "regr = linear_model.LinearRegression()\n",
    "regr.fit(X_train, Y_train )"
   ]
  },
  {
   "cell_type": "markdown",
   "id": "3d5ccb9d",
   "metadata": {},
   "source": [
    "## Print summary"
   ]
  },
  {
   "cell_type": "code",
   "execution_count": 16,
   "id": "3bbad727",
   "metadata": {},
   "outputs": [
    {
     "name": "stdout",
     "output_type": "stream",
     "text": [
      "Intercept: \n",
      " -0.032398388\n",
      "Coefficients: \n",
      " [ 0.8720599  -0.01972028 -0.03868127  0.01817536 -0.08407652  0.03820742\n",
      "  0.00774749 -0.00111623  0.00367552  0.00518398  0.01276985  0.00149758\n",
      "  0.03811879 -0.00835446]\n"
     ]
    }
   ],
   "source": [
    "print('Intercept: \\n', regr.intercept_)\n",
    "print('Coefficients: \\n', regr.coef_)"
   ]
  },
  {
   "cell_type": "markdown",
   "id": "d4ebb99d",
   "metadata": {},
   "source": [
    "## Predict"
   ]
  },
  {
   "cell_type": "code",
   "execution_count": 17,
   "id": "bf2a8a86",
   "metadata": {},
   "outputs": [],
   "source": [
    "X_test = sm.add_constant(X_test)"
   ]
  },
  {
   "cell_type": "code",
   "execution_count": 18,
   "id": "0a70b61b",
   "metadata": {},
   "outputs": [],
   "source": [
    "model = sm.OLS(Y_test,  X_test).fit()"
   ]
  },
  {
   "cell_type": "code",
   "execution_count": 19,
   "id": "fc3b17be",
   "metadata": {},
   "outputs": [],
   "source": [
    "prediction = model.predict(X_test)"
   ]
  },
  {
   "cell_type": "code",
   "execution_count": 20,
   "id": "130cfec0",
   "metadata": {},
   "outputs": [
    {
     "data": {
      "text/plain": [
       "0.02317194693075402"
      ]
     },
     "execution_count": 20,
     "metadata": {},
     "output_type": "execute_result"
    }
   ],
   "source": [
    "mean_absolute_error(Y_test, prediction)"
   ]
  },
  {
   "cell_type": "code",
   "execution_count": 21,
   "id": "acd2a756",
   "metadata": {
    "scrolled": true
   },
   "outputs": [
    {
     "data": {
      "text/plain": [
       "0.0016545953295454714"
      ]
     },
     "execution_count": 21,
     "metadata": {},
     "output_type": "execute_result"
    }
   ],
   "source": [
    "mean_squared_error(Y_test, prediction)"
   ]
  },
  {
   "cell_type": "code",
   "execution_count": 22,
   "id": "3d65b773",
   "metadata": {
    "scrolled": true
   },
   "outputs": [
    {
     "name": "stdout",
     "output_type": "stream",
     "text": [
      "0.040676717290674666\n"
     ]
    }
   ],
   "source": [
    "rmse = sqrt(mean_squared_error(Y_test, prediction))\n",
    "print(rmse)"
   ]
  },
  {
   "cell_type": "code",
   "execution_count": 23,
   "id": "0081c15d",
   "metadata": {},
   "outputs": [
    {
     "data": {
      "text/plain": [
       "0.7761575924208304"
      ]
     },
     "execution_count": 23,
     "metadata": {},
     "output_type": "execute_result"
    }
   ],
   "source": [
    "r2_score(Y_test, prediction)"
   ]
  },
  {
   "cell_type": "code",
   "execution_count": 24,
   "id": "6c45f6f0",
   "metadata": {},
   "outputs": [
    {
     "name": "stdout",
     "output_type": "stream",
     "text": [
      "accuracy testing = 0\n"
     ]
    }
   ],
   "source": [
    "print('accuracy testing = {}'.format(np.sum(prediction == Y_test)))"
   ]
  },
  {
   "cell_type": "code",
   "execution_count": 25,
   "id": "0ff36a48",
   "metadata": {},
   "outputs": [
    {
     "name": "stdout",
     "output_type": "stream",
     "text": [
      "                            OLS Regression Results                            \n",
      "==============================================================================\n",
      "Dep. Variable:                      y   R-squared:                       0.776\n",
      "Model:                            OLS   Adj. R-squared:                  0.776\n",
      "Method:                 Least Squares   F-statistic:                     4338.\n",
      "Date:                Tue, 18 Jul 2023   Prob (F-statistic):               0.00\n",
      "Time:                        18:43:44   Log-Likelihood:                 31259.\n",
      "No. Observations:               17530   AIC:                        -6.249e+04\n",
      "Df Residuals:                   17515   BIC:                        -6.237e+04\n",
      "Df Model:                          14                                         \n",
      "Covariance Type:            nonrobust                                         \n",
      "==============================================================================\n",
      "                 coef    std err          t      P>|t|      [0.025      0.975]\n",
      "------------------------------------------------------------------------------\n",
      "const         -0.0292      0.026     -1.127      0.260      -0.080       0.022\n",
      "x1             0.8671      0.004    219.974      0.000       0.859       0.875\n",
      "x2            -0.0581      0.013     -4.573      0.000      -0.083      -0.033\n",
      "x3             0.0143      0.023      0.616      0.538      -0.031       0.060\n",
      "x4             0.0273      0.010      2.626      0.009       0.007       0.048\n",
      "x5            -0.1691      0.033     -5.091      0.000      -0.234      -0.104\n",
      "x6             0.0306      0.021      1.479      0.139      -0.010       0.071\n",
      "x7             0.0336      0.018      1.823      0.068      -0.003       0.070\n",
      "x8             0.0047      0.009      0.501      0.617      -0.014       0.023\n",
      "x9             0.0049      0.003      1.613      0.107      -0.001       0.011\n",
      "x10            0.0067      0.001      5.302      0.000       0.004       0.009\n",
      "x11            0.0146      0.003      5.828      0.000       0.010       0.020\n",
      "x12            0.0031      0.001      2.178      0.029       0.000       0.006\n",
      "x13            0.0328      0.027      1.220      0.222      -0.020       0.085\n",
      "x14           -0.0365      0.033     -1.122      0.262      -0.100       0.027\n",
      "==============================================================================\n",
      "Omnibus:                     4496.581   Durbin-Watson:                   2.009\n",
      "Prob(Omnibus):                  0.000   Jarque-Bera (JB):           165711.075\n",
      "Skew:                           0.532   Prob(JB):                         0.00\n",
      "Kurtosis:                      18.025   Cond. No.                         222.\n",
      "==============================================================================\n",
      "\n",
      "Notes:\n",
      "[1] Standard Errors assume that the covariance matrix of the errors is correctly specified.\n"
     ]
    }
   ],
   "source": [
    "print_model = model.summary()\n",
    "print(print_model)"
   ]
  },
  {
   "cell_type": "markdown",
   "id": "f619fb06",
   "metadata": {},
   "source": [
    "## Compare prediction and testing data"
   ]
  },
  {
   "cell_type": "code",
   "execution_count": 26,
   "id": "f721486e",
   "metadata": {},
   "outputs": [
    {
     "data": {
      "image/png": "[encoded data removed]",
      "text/plain": [
       "<Figure size 432x288 with 1 Axes>"
      ]
     },
     "metadata": {
      "needs_background": "light"
     },
     "output_type": "display_data"
    }
   ],
   "source": [
    "plt.plot(Y_test[0:48], color='blue', label = 'Observed')\n",
    "plt.plot(prediction[0:48], color='red', label = 'Predicted')\n",
    "plt.ylabel('O3', fontname=\"Times New Roman\", size=20,fontweight=\"bold\")\n",
    "plt.xlabel('Time(Hrs)', fontname=\"Times New Roman\", size=20,fontweight=\"bold\")\n",
    "plt.title('Secunda MLR', fontname=\"Times New Roman\", size=28,fontweight=\"bold\")\n",
    "legend_properties = {'weight':'bold'}\n",
    "plt.legend(prop=legend_properties)\n",
    "plt.show()"
   ]
  },
  {
   "cell_type": "code",
   "execution_count": null,
   "id": "9d2aa54d",
   "metadata": {},
   "outputs": [],
   "source": []
  },
  {
   "cell_type": "code",
   "execution_count": null,
   "id": "62c50eac",
   "metadata": {
    "scrolled": true
   },
   "outputs": [],
   "source": [
    "mean_absolute_error(Y_test[1:6], prediction[1:6])"
   ]
  },
  {
   "cell_type": "code",
   "execution_count": null,
   "id": "14cc5803",
   "metadata": {},
   "outputs": [],
   "source": [
    "mean_absolute_error(Y_test[1:12], prediction[1:12])"
   ]
  },
  {
   "cell_type": "code",
   "execution_count": null,
   "id": "64569380",
   "metadata": {},
   "outputs": [],
   "source": [
    "mean_absolute_error(Y_test[1:18], prediction[1:18])"
   ]
  },
  {
   "cell_type": "code",
   "execution_count": null,
   "id": "9a3dd655",
   "metadata": {},
   "outputs": [],
   "source": [
    "mean_absolute_error(Y_test[1:24], prediction[1:24])"
   ]
  },
  {
   "cell_type": "code",
   "execution_count": null,
   "id": "1bb821f8",
   "metadata": {},
   "outputs": [],
   "source": [
    "mean_absolute_error(Y_test[1:36], prediction[1:36])"
   ]
  },
  {
   "cell_type": "code",
   "execution_count": null,
   "id": "227a3ad3",
   "metadata": {},
   "outputs": [],
   "source": [
    "mean_absolute_error(Y_test[1:48], prediction[1:48])"
   ]
  },
  {
   "cell_type": "code",
   "execution_count": null,
   "id": "efd17291",
   "metadata": {},
   "outputs": [],
   "source": []
  },
  {
   "cell_type": "code",
   "execution_count": null,
   "id": "ff4dc94c",
   "metadata": {},
   "outputs": [],
   "source": [
    "rmse = sqrt(mean_squared_error(Y_test[1:6], prediction[1:6]))\n",
    "print(rmse)"
   ]
  },
  {
   "cell_type": "code",
   "execution_count": null,
   "id": "4f5fd075",
   "metadata": {},
   "outputs": [],
   "source": [
    "rmse = sqrt(mean_squared_error(Y_test[1:12], prediction[1:12]))\n",
    "print(rmse)"
   ]
  },
  {
   "cell_type": "code",
   "execution_count": null,
   "id": "f5b087ca",
   "metadata": {},
   "outputs": [],
   "source": [
    "rmse = sqrt(mean_squared_error(Y_test[1:18], prediction[1:18]))\n",
    "print(rmse)"
   ]
  },
  {
   "cell_type": "code",
   "execution_count": null,
   "id": "39acd99f",
   "metadata": {},
   "outputs": [],
   "source": [
    "rmse = sqrt(mean_squared_error(Y_test[1:24], prediction[1:24]))\n",
    "print(rmse)"
   ]
  },
  {
   "cell_type": "code",
   "execution_count": null,
   "id": "37c5ba04",
   "metadata": {},
   "outputs": [],
   "source": [
    "rmse = sqrt(mean_squared_error(Y_test[1:36], prediction[1:36]))\n",
    "print(rmse)"
   ]
  },
  {
   "cell_type": "code",
   "execution_count": null,
   "id": "05878aac",
   "metadata": {},
   "outputs": [],
   "source": [
    "rmse = sqrt(mean_squared_error(Y_test[1:48], prediction[1:48]))\n",
    "print(rmse)"
   ]
  },
  {
   "cell_type": "code",
   "execution_count": null,
   "id": "44958832",
   "metadata": {},
   "outputs": [],
   "source": []
  },
  {
   "cell_type": "code",
   "execution_count": null,
   "id": "e77d53fd",
   "metadata": {},
   "outputs": [],
   "source": []
  }
 ],
 "metadata": {
  "kernelspec": {
   "display_name": "Python 3 (ipykernel)",
   "language": "python",
   "name": "python3"
  },
  "language_info": {
   "codemirror_mode": {
    "name": "ipython",
    "version": 3
   },
   "file_extension": ".py",
   "mimetype": "text/x-python",
   "name": "python",
   "nbconvert_exporter": "python",
   "pygments_lexer": "ipython3",
   "version": "3.9.7"
  }
 },
 "nbformat": 4,
 "nbformat_minor": 5
}
