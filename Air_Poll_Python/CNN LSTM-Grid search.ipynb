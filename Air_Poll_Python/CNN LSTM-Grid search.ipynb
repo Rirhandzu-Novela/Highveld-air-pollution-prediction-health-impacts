{
 "cells": [
  {
   "cell_type": "code",
   "execution_count": 1,
   "id": "18d3daff",
   "metadata": {},
   "outputs": [
    {
     "name": "stdout",
     "output_type": "stream",
     "text": [
      "2.9.1\n"
     ]
    }
   ],
   "source": [
    "import numpy as np\n",
    "import pandas as pd\n",
    "from math import sqrt\n",
    "import matplotlib.pyplot as plt\n",
    "from keras.models import Sequential\n",
    "from keras.layers import Dense\n",
    "from keras.layers import LSTM\n",
    "from keras.layers import Flatten\n",
    "from keras.layers import TimeDistributed\n",
    "from keras.layers.convolutional import Conv1D\n",
    "from keras.layers.convolutional import MaxPooling1D\n",
    "from sklearn.metrics import r2_score\n",
    "from sklearn.preprocessing import MinMaxScaler\n",
    "from sklearn.model_selection import train_test_split\n",
    "from sklearn.metrics import mean_squared_error\n",
    "from sklearn.metrics import mean_absolute_error\n",
    "from scikeras.wrappers import KerasRegressor\n",
    "from sklearn.model_selection import GridSearchCV\n",
    "\n",
    "%matplotlib inline\n",
    "#%tensorflow_version 1.x\n",
    "import tensorflow as tf\n",
    "print(tf.__version__)\n"
   ]
  },
  {
   "cell_type": "code",
   "execution_count": 2,
   "id": "8bc2e601",
   "metadata": {},
   "outputs": [],
   "source": [
    "dataset = pd.read_csv('eMalahleniCNN.csv', sep =';', header=0, index_col=0)\n",
    "values = dataset.values"
   ]
  },
  {
   "cell_type": "code",
   "execution_count": 3,
   "id": "2e83f1e0",
   "metadata": {},
   "outputs": [],
   "source": [
    "def series_to_supervised(data, n_in=1, n_out=1, dropnan=True):\n",
    "    n_vars = 1 if type(data) is list else data.shape[1]\n",
    "    df = pd.DataFrame(data)\n",
    "    cols, names = list(), list()\n",
    "    # input sequence (t-n, ... t-1)\n",
    "    for i in range(n_in, 0, -1):\n",
    "        cols.append(df.shift(i))\n",
    "        names += [('var%d(t-%d)' % (j+1, i)) for j in range(n_vars)]\n",
    "    # forecast sequence (t, t+1, ... t+n)\n",
    "    for i in range(0, n_out):\n",
    "        cols.append(df.shift(-i))\n",
    "        if i == 0:\n",
    "            names += [('var%d(t)' % (j+1)) for j in range(n_vars)]\n",
    "        else:\n",
    "            names += [('var%d(t+%d)' % (j+1, i)) for j in range(n_vars)]\n",
    "    # put it all together\n",
    "    agg = pd.concat(cols, axis=1)\n",
    "    agg.columns = names\n",
    "    # drop rows with NaN values\n",
    "    if dropnan:\n",
    "        agg.dropna(inplace=True)\n",
    "    return agg"
   ]
  },
  {
   "cell_type": "code",
   "execution_count": 4,
   "id": "a8d2b8e1",
   "metadata": {},
   "outputs": [
    {
     "data": {
      "text/plain": [
       "Index(['pm2.5', 'pm10', 'no2', 'no', 'nox', 'co', 'ws', 'Epm2.5', 'Epm10',\n",
       "       'Hpm2.5', 'Hpm10', 'Mpm2.5', 'Mpm10', 'Spm2.5', 'Mo3', 'Spm10', 'Sno2',\n",
       "       'Sno', 'Snox', 'So3', 'Sco'],\n",
       "      dtype='object')"
      ]
     },
     "execution_count": 4,
     "metadata": {},
     "output_type": "execute_result"
    }
   ],
   "source": [
    "dataset.columns"
   ]
  },
  {
   "cell_type": "code",
   "execution_count": 5,
   "id": "150eb6e0",
   "metadata": {},
   "outputs": [],
   "source": [
    "# ensure all data is float\n",
    "values = values.astype('float32')\n",
    "\n",
    "# normalize features\n",
    "scaler = MinMaxScaler(feature_range=(0, 1))\n",
    "scaled = scaler.fit_transform(values)\n",
    "\n",
    "# frame as supervised learning\n",
    "reframed = series_to_supervised(scaled, 1, 1)\n",
    "\n",
    "# drop columns we don't want to predict\n",
    "# We drop these because we are only interested in predicting for a single variable (pollution).\n",
    "# If we don't drop, then we will be predicting for all the variables too!\n",
    "reframed.drop(reframed.columns[[22, 23, 24, 25, 26, 27, 28, 29, 30, 31, 32, 33, 34, 35, 36, 37, 38, 39, 40, 41]], axis=1, inplace=True)\n",
    "values = reframed.values"
   ]
  },
  {
   "cell_type": "code",
   "execution_count": 6,
   "id": "2d2bfe39",
   "metadata": {},
   "outputs": [
    {
     "data": {
      "text/html": [
       "<div>\n",
       "<style scoped>\n",
       "    .dataframe tbody tr th:only-of-type {\n",
       "        vertical-align: middle;\n",
       "    }\n",
       "\n",
       "    .dataframe tbody tr th {\n",
       "        vertical-align: top;\n",
       "    }\n",
       "\n",
       "    .dataframe thead th {\n",
       "        text-align: right;\n",
       "    }\n",
       "</style>\n",
       "<table border=\"1\" class=\"dataframe\">\n",
       "  <thead>\n",
       "    <tr style=\"text-align: right;\">\n",
       "      <th></th>\n",
       "      <th>var1(t-1)</th>\n",
       "      <th>var2(t-1)</th>\n",
       "      <th>var3(t-1)</th>\n",
       "      <th>var4(t-1)</th>\n",
       "      <th>var5(t-1)</th>\n",
       "      <th>var6(t-1)</th>\n",
       "      <th>var7(t-1)</th>\n",
       "      <th>var8(t-1)</th>\n",
       "      <th>var9(t-1)</th>\n",
       "      <th>var10(t-1)</th>\n",
       "      <th>...</th>\n",
       "      <th>var13(t-1)</th>\n",
       "      <th>var14(t-1)</th>\n",
       "      <th>var15(t-1)</th>\n",
       "      <th>var16(t-1)</th>\n",
       "      <th>var17(t-1)</th>\n",
       "      <th>var18(t-1)</th>\n",
       "      <th>var19(t-1)</th>\n",
       "      <th>var20(t-1)</th>\n",
       "      <th>var21(t-1)</th>\n",
       "      <th>var1(t)</th>\n",
       "    </tr>\n",
       "  </thead>\n",
       "  <tbody>\n",
       "    <tr>\n",
       "      <th>1</th>\n",
       "      <td>0.018966</td>\n",
       "      <td>0.016509</td>\n",
       "      <td>0.023121</td>\n",
       "      <td>0.007442</td>\n",
       "      <td>0.015058</td>\n",
       "      <td>0.004532</td>\n",
       "      <td>0.487526</td>\n",
       "      <td>0.022731</td>\n",
       "      <td>0.019660</td>\n",
       "      <td>0.034597</td>\n",
       "      <td>...</td>\n",
       "      <td>0.041381</td>\n",
       "      <td>0.011986</td>\n",
       "      <td>0.148473</td>\n",
       "      <td>0.006100</td>\n",
       "      <td>0.092911</td>\n",
       "      <td>0.004285</td>\n",
       "      <td>0.008461</td>\n",
       "      <td>0.112376</td>\n",
       "      <td>0.002042</td>\n",
       "      <td>0.026136</td>\n",
       "    </tr>\n",
       "    <tr>\n",
       "      <th>2</th>\n",
       "      <td>0.026136</td>\n",
       "      <td>0.016882</td>\n",
       "      <td>0.088378</td>\n",
       "      <td>0.006463</td>\n",
       "      <td>0.036362</td>\n",
       "      <td>0.003827</td>\n",
       "      <td>0.455301</td>\n",
       "      <td>0.032196</td>\n",
       "      <td>0.029914</td>\n",
       "      <td>0.034597</td>\n",
       "      <td>...</td>\n",
       "      <td>0.041383</td>\n",
       "      <td>0.006124</td>\n",
       "      <td>0.148473</td>\n",
       "      <td>0.002865</td>\n",
       "      <td>0.092911</td>\n",
       "      <td>0.003727</td>\n",
       "      <td>0.008961</td>\n",
       "      <td>0.112376</td>\n",
       "      <td>0.001518</td>\n",
       "      <td>0.038245</td>\n",
       "    </tr>\n",
       "    <tr>\n",
       "      <th>3</th>\n",
       "      <td>0.038245</td>\n",
       "      <td>0.024513</td>\n",
       "      <td>0.121924</td>\n",
       "      <td>0.008580</td>\n",
       "      <td>0.049843</td>\n",
       "      <td>0.024270</td>\n",
       "      <td>0.373181</td>\n",
       "      <td>0.027696</td>\n",
       "      <td>0.023829</td>\n",
       "      <td>0.034597</td>\n",
       "      <td>...</td>\n",
       "      <td>0.041384</td>\n",
       "      <td>0.013940</td>\n",
       "      <td>0.148473</td>\n",
       "      <td>0.006125</td>\n",
       "      <td>0.092911</td>\n",
       "      <td>0.005609</td>\n",
       "      <td>0.027036</td>\n",
       "      <td>0.112376</td>\n",
       "      <td>0.002042</td>\n",
       "      <td>0.015315</td>\n",
       "    </tr>\n",
       "    <tr>\n",
       "      <th>4</th>\n",
       "      <td>0.015315</td>\n",
       "      <td>0.009721</td>\n",
       "      <td>0.013445</td>\n",
       "      <td>0.005276</td>\n",
       "      <td>0.009682</td>\n",
       "      <td>0.022155</td>\n",
       "      <td>0.505198</td>\n",
       "      <td>0.108746</td>\n",
       "      <td>0.108117</td>\n",
       "      <td>0.034598</td>\n",
       "      <td>...</td>\n",
       "      <td>0.041386</td>\n",
       "      <td>0.011498</td>\n",
       "      <td>0.148473</td>\n",
       "      <td>0.005003</td>\n",
       "      <td>0.092911</td>\n",
       "      <td>0.004982</td>\n",
       "      <td>0.034272</td>\n",
       "      <td>0.112376</td>\n",
       "      <td>0.001518</td>\n",
       "      <td>0.010145</td>\n",
       "    </tr>\n",
       "    <tr>\n",
       "      <th>5</th>\n",
       "      <td>0.010145</td>\n",
       "      <td>0.006823</td>\n",
       "      <td>0.026773</td>\n",
       "      <td>0.006716</td>\n",
       "      <td>0.015604</td>\n",
       "      <td>0.006143</td>\n",
       "      <td>0.279626</td>\n",
       "      <td>0.086102</td>\n",
       "      <td>0.090864</td>\n",
       "      <td>0.034598</td>\n",
       "      <td>...</td>\n",
       "      <td>0.041388</td>\n",
       "      <td>0.008492</td>\n",
       "      <td>0.148473</td>\n",
       "      <td>0.003967</td>\n",
       "      <td>0.092911</td>\n",
       "      <td>0.005121</td>\n",
       "      <td>0.023401</td>\n",
       "      <td>0.112376</td>\n",
       "      <td>0.000995</td>\n",
       "      <td>0.023049</td>\n",
       "    </tr>\n",
       "  </tbody>\n",
       "</table>\n",
       "<p>5 rows × 22 columns</p>\n",
       "</div>"
      ],
      "text/plain": [
       "   var1(t-1)  var2(t-1)  var3(t-1)  var4(t-1)  var5(t-1)  var6(t-1)  \\\n",
       "1   0.018966   0.016509   0.023121   0.007442   0.015058   0.004532   \n",
       "2   0.026136   0.016882   0.088378   0.006463   0.036362   0.003827   \n",
       "3   0.038245   0.024513   0.121924   0.008580   0.049843   0.024270   \n",
       "4   0.015315   0.009721   0.013445   0.005276   0.009682   0.022155   \n",
       "5   0.010145   0.006823   0.026773   0.006716   0.015604   0.006143   \n",
       "\n",
       "   var7(t-1)  var8(t-1)  var9(t-1)  var10(t-1)  ...  var13(t-1)  var14(t-1)  \\\n",
       "1   0.487526   0.022731   0.019660    0.034597  ...    0.041381    0.011986   \n",
       "2   0.455301   0.032196   0.029914    0.034597  ...    0.041383    0.006124   \n",
       "3   0.373181   0.027696   0.023829    0.034597  ...    0.041384    0.013940   \n",
       "4   0.505198   0.108746   0.108117    0.034598  ...    0.041386    0.011498   \n",
       "5   0.279626   0.086102   0.090864    0.034598  ...    0.041388    0.008492   \n",
       "\n",
       "   var15(t-1)  var16(t-1)  var17(t-1)  var18(t-1)  var19(t-1)  var20(t-1)  \\\n",
       "1    0.148473    0.006100    0.092911    0.004285    0.008461    0.112376   \n",
       "2    0.148473    0.002865    0.092911    0.003727    0.008961    0.112376   \n",
       "3    0.148473    0.006125    0.092911    0.005609    0.027036    0.112376   \n",
       "4    0.148473    0.005003    0.092911    0.004982    0.034272    0.112376   \n",
       "5    0.148473    0.003967    0.092911    0.005121    0.023401    0.112376   \n",
       "\n",
       "   var21(t-1)   var1(t)  \n",
       "1    0.002042  0.026136  \n",
       "2    0.001518  0.038245  \n",
       "3    0.002042  0.015315  \n",
       "4    0.001518  0.010145  \n",
       "5    0.000995  0.023049  \n",
       "\n",
       "[5 rows x 22 columns]"
      ]
     },
     "execution_count": 6,
     "metadata": {},
     "output_type": "execute_result"
    }
   ],
   "source": [
    "reframed.head()"
   ]
  },
  {
   "cell_type": "code",
   "execution_count": 7,
   "id": "8d36c263",
   "metadata": {},
   "outputs": [
    {
     "data": {
      "text/plain": [
       "(87645, 22)"
      ]
     },
     "execution_count": 7,
     "metadata": {},
     "output_type": "execute_result"
    }
   ],
   "source": [
    "values.shape"
   ]
  },
  {
   "cell_type": "code",
   "execution_count": 8,
   "id": "d653536c",
   "metadata": {},
   "outputs": [],
   "source": [
    "X = values[:,:-1]"
   ]
  },
  {
   "cell_type": "code",
   "execution_count": 9,
   "id": "ac92e525",
   "metadata": {},
   "outputs": [],
   "source": [
    "Y = values[:,-1]"
   ]
  },
  {
   "cell_type": "code",
   "execution_count": 10,
   "id": "b63ae4a1",
   "metadata": {},
   "outputs": [
    {
     "data": {
      "text/plain": [
       "(87645, 21)"
      ]
     },
     "execution_count": 10,
     "metadata": {},
     "output_type": "execute_result"
    }
   ],
   "source": [
    "X.shape"
   ]
  },
  {
   "cell_type": "code",
   "execution_count": 11,
   "id": "4e905a8e",
   "metadata": {},
   "outputs": [
    {
     "data": {
      "text/plain": [
       "(87645,)"
      ]
     },
     "execution_count": 11,
     "metadata": {},
     "output_type": "execute_result"
    }
   ],
   "source": [
    "Y.shape"
   ]
  },
  {
   "cell_type": "code",
   "execution_count": 12,
   "id": "bb5b19cb",
   "metadata": {},
   "outputs": [],
   "source": [
    "\n",
    "X = X.reshape(X.shape[0],1,1,X.shape[1])"
   ]
  },
  {
   "cell_type": "code",
   "execution_count": 13,
   "id": "971f9f7b",
   "metadata": {},
   "outputs": [
    {
     "data": {
      "text/plain": [
       "(87645, 1, 1, 21)"
      ]
     },
     "execution_count": 13,
     "metadata": {},
     "output_type": "execute_result"
    }
   ],
   "source": [
    "X.shape"
   ]
  },
  {
   "cell_type": "code",
   "execution_count": 14,
   "id": "ff2409af",
   "metadata": {},
   "outputs": [],
   "source": [
    "X_train, X_test, Y_train, Y_test = train_test_split(X, Y, test_size=0.20, random_state=42)\n",
    "X_train, X_val, Y_train, Y_val = train_test_split(X_train, Y_train, test_size=0.20, random_state=42)"
   ]
  },
  {
   "cell_type": "code",
   "execution_count": 15,
   "id": "508e2f19",
   "metadata": {},
   "outputs": [
    {
     "name": "stdout",
     "output_type": "stream",
     "text": [
      "X_train: (56092, 1, 1, 21)\n",
      "Y_train: (56092,)\n",
      "\n",
      "X_val: (14024, 1, 1, 21)\n",
      "Y_val: (14024,)\n",
      "\n",
      "X_test: (17529, 1, 1, 21)\n",
      "Y_test: (17529,)\n"
     ]
    }
   ],
   "source": [
    "print ('X_train:',X_train.shape)\n",
    "print ('Y_train:',Y_train.shape)\n",
    "print ()\n",
    "print ('X_val:',X_val.shape)\n",
    "print ('Y_val:',Y_val.shape)\n",
    "print ()\n",
    "print ('X_test:',X_test.shape)\n",
    "print ('Y_test:',Y_test.shape)"
   ]
  },
  {
   "cell_type": "markdown",
   "id": "0e8ac989",
   "metadata": {},
   "source": [
    "# CNN-LSTM EPOCHS"
   ]
  },
  {
   "cell_type": "code",
   "execution_count": 16,
   "id": "6279297b",
   "metadata": {},
   "outputs": [],
   "source": [
    "# Define the function to create the CNN-LSTM model\n",
    "def create_model():\n",
    "    model = Sequential()\n",
    "    model.add(TimeDistributed(Conv1D(filters=256, kernel_size=1, activation='relu'), input_shape=(None, 1, 21)))\n",
    "    model.add(TimeDistributed(MaxPooling1D(pool_size=1)))\n",
    "    model.add(TimeDistributed(Conv1D(filters=256, kernel_size=1, activation='relu')))\n",
    "    model.add(TimeDistributed(MaxPooling1D(pool_size=1)))\n",
    "    model.add(TimeDistributed(Conv1D(filters=256, kernel_size=1, activation='relu')))\n",
    "    model.add(TimeDistributed(MaxPooling1D(pool_size=1)))\n",
    "    model.add(TimeDistributed(Flatten()))\n",
    "    model.add(LSTM(56, input_shape=(1, 21)))\n",
    "    model.add(Dense(56, activation='relu'))\n",
    "    model.add(Dense(56, activation='relu'))\n",
    "    model.add(Dense(56, activation='relu'))\n",
    "    model.add(Dense(1, activation = 'sigmoid'))  \n",
    "    model.compile(optimizer='adam', loss='mse')\n",
    "    return model"
   ]
  },
  {
   "cell_type": "code",
   "execution_count": 17,
   "id": "8bd61a68",
   "metadata": {},
   "outputs": [],
   "source": [
    "model = KerasRegressor(model=create_model, loss=\"mse\", batch_size=16, verbose=0)\n",
    "# define the grid search parameters\n",
    "epochs = [20, 30, 40, 50, 60]\n",
    "param_grid = dict( epochs=epochs)\n",
    "grid = GridSearchCV(estimator=model, param_grid=param_grid, n_jobs=-1, cv=3)\n",
    "grid_result = grid.fit(X_train, Y_train)"
   ]
  },
  {
   "cell_type": "code",
   "execution_count": 18,
   "id": "6d58fa65",
   "metadata": {},
   "outputs": [
    {
     "name": "stdout",
     "output_type": "stream",
     "text": [
      "Best: 0.694068 using {'epochs': 40}\n",
      "0.665761 (0.015991) with: {'epochs': 20}\n",
      "0.688460 (0.020046) with: {'epochs': 30}\n",
      "0.694068 (0.006228) with: {'epochs': 40}\n",
      "0.672719 (0.002726) with: {'epochs': 50}\n",
      "0.667877 (0.009815) with: {'epochs': 60}\n"
     ]
    }
   ],
   "source": [
    "# summarize results\n",
    "print(\"Best: %f using %s\" % (grid_result.best_score_, grid_result.best_params_))\n",
    "means = grid_result.cv_results_['mean_test_score']\n",
    "stds = grid_result.cv_results_['std_test_score']\n",
    "params = grid_result.cv_results_['params']\n",
    "for mean, stdev, param in zip(means, stds, params):\n",
    "    print(\"%f (%f) with: %r\" % (mean, stdev, param))"
   ]
  },
  {
   "cell_type": "code",
   "execution_count": null,
   "id": "2fcb044a",
   "metadata": {},
   "outputs": [],
   "source": []
  },
  {
   "cell_type": "markdown",
   "id": "83dd0ad5",
   "metadata": {},
   "source": [
    "# CNN LSTM FILTERS"
   ]
  },
  {
   "cell_type": "code",
   "execution_count": 21,
   "id": "d848709b",
   "metadata": {},
   "outputs": [],
   "source": [
    "# Define the function to create the CNN-LSTM model\n",
    "def create_model(filters):\n",
    "    model = Sequential()\n",
    "    model.add(TimeDistributed(Conv1D(filters=filters, kernel_size=1, activation='relu'), input_shape=(None, 1, 21)))\n",
    "    model.add(TimeDistributed(MaxPooling1D(pool_size=1)))\n",
    "    model.add(TimeDistributed(Conv1D(filters=filters, kernel_size=1, activation='relu')))\n",
    "    model.add(TimeDistributed(MaxPooling1D(pool_size=1)))\n",
    "    model.add(TimeDistributed(Conv1D(filters=filters, kernel_size=1, activation='relu')))\n",
    "    model.add(TimeDistributed(MaxPooling1D(pool_size=1)))\n",
    "    model.add(TimeDistributed(Flatten()))\n",
    "    model.add(LSTM(56, input_shape=(1, 21)))\n",
    "    model.add(Dense(56, activation='relu'))\n",
    "    model.add(Dense(56, activation='relu'))\n",
    "    model.add(Dense(56, activation='relu'))\n",
    "    model.add(Dense(1, activation = 'sigmoid'))  \n",
    "    model.compile(optimizer='adam', loss='mse')\n",
    "    return model"
   ]
  },
  {
   "cell_type": "code",
   "execution_count": 22,
   "id": "58eac664",
   "metadata": {},
   "outputs": [],
   "source": [
    "model = KerasRegressor(model=create_model, loss=\"mse\", epochs=40, batch_size=16, verbose=0)\n",
    "# define the grid search parameters\n",
    "filters = [32, 64, 128, 256]\n",
    "param_grid = dict(model__filters=filters)\n",
    "grid = GridSearchCV(estimator=model, param_grid=param_grid, n_jobs=-1, cv=3)\n",
    "grid_result = grid.fit(X_train, Y_train)"
   ]
  },
  {
   "cell_type": "code",
   "execution_count": 23,
   "id": "40e2e96a",
   "metadata": {},
   "outputs": [
    {
     "name": "stdout",
     "output_type": "stream",
     "text": [
      "Best: 0.687946 using {'model__filters': 64}\n",
      "0.685496 (0.009867) with: {'model__filters': 32}\n",
      "0.687946 (0.005790) with: {'model__filters': 64}\n",
      "0.677468 (0.013312) with: {'model__filters': 128}\n",
      "0.673452 (0.019163) with: {'model__filters': 256}\n"
     ]
    }
   ],
   "source": [
    "# summarize results\n",
    "print(\"Best: %f using %s\" % (grid_result.best_score_, grid_result.best_params_))\n",
    "means = grid_result.cv_results_['mean_test_score']\n",
    "stds = grid_result.cv_results_['std_test_score']\n",
    "params = grid_result.cv_results_['params']\n",
    "for mean, stdev, param in zip(means, stds, params):\n",
    "    print(\"%f (%f) with: %r\" % (mean, stdev, param))"
   ]
  },
  {
   "cell_type": "markdown",
   "id": "29e319ad",
   "metadata": {},
   "source": [
    "# CNN LSTM NEURONS"
   ]
  },
  {
   "cell_type": "code",
   "execution_count": 24,
   "id": "ddda63d0",
   "metadata": {},
   "outputs": [],
   "source": [
    "# Define the function to create the CNN-LSTM model\n",
    "def create_model(neurons):\n",
    "    model = Sequential()\n",
    "    model.add(TimeDistributed(Conv1D(filters=64, kernel_size=1, activation='relu'), input_shape=(None, 1, 21)))\n",
    "    model.add(TimeDistributed(MaxPooling1D(pool_size=1)))\n",
    "    model.add(TimeDistributed(Conv1D(filters=64, kernel_size=1, activation='relu')))\n",
    "    model.add(TimeDistributed(MaxPooling1D(pool_size=1)))\n",
    "    model.add(TimeDistributed(Conv1D(filters=64, kernel_size=1, activation='relu')))\n",
    "    model.add(TimeDistributed(MaxPooling1D(pool_size=1)))\n",
    "    model.add(TimeDistributed(Flatten()))\n",
    "    model.add(LSTM(neurons, input_shape=(1, 21)))\n",
    "    model.add(Dense(neurons, activation='relu'))\n",
    "    model.add(Dense(neurons, activation='relu'))\n",
    "    model.add(Dense(neurons, activation='relu'))\n",
    "    model.add(Dense(1, activation = 'sigmoid'))  \n",
    "    model.compile(optimizer='adam', loss='mse')\n",
    "    return model"
   ]
  },
  {
   "cell_type": "code",
   "execution_count": 25,
   "id": "7e230f4c",
   "metadata": {},
   "outputs": [],
   "source": [
    "model = KerasRegressor(model=create_model, loss=\"mse\", epochs=40, batch_size=16, verbose=0)\n",
    "# define the grid search parameters\n",
    "neurons = [28, 56, 112, 224, 448]\n",
    "param_grid = dict(model__neurons=neurons)\n",
    "grid = GridSearchCV(estimator=model, param_grid=param_grid, n_jobs=-1, cv=3)\n",
    "grid_result = grid.fit(X_train, Y_train)"
   ]
  },
  {
   "cell_type": "code",
   "execution_count": 26,
   "id": "6abe2783",
   "metadata": {},
   "outputs": [
    {
     "name": "stdout",
     "output_type": "stream",
     "text": [
      "Best: 0.679812 using {'model__neurons': 56}\n",
      "0.678345 (0.012911) with: {'model__neurons': 28}\n",
      "0.679812 (0.013951) with: {'model__neurons': 56}\n",
      "0.223899 (0.670912) with: {'model__neurons': 112}\n",
      "-0.276707 (0.675447) with: {'model__neurons': 224}\n",
      "-0.758792 (0.024754) with: {'model__neurons': 448}\n"
     ]
    }
   ],
   "source": [
    "# summarize results\n",
    "print(\"Best: %f using %s\" % (grid_result.best_score_, grid_result.best_params_))\n",
    "means = grid_result.cv_results_['mean_test_score']\n",
    "stds = grid_result.cv_results_['std_test_score']\n",
    "params = grid_result.cv_results_['params']\n",
    "for mean, stdev, param in zip(means, stds, params):\n",
    "    print(\"%f (%f) with: %r\" % (mean, stdev, param))"
   ]
  },
  {
   "cell_type": "markdown",
   "id": "a0be1c4f",
   "metadata": {},
   "source": [
    "# CNN LSTM BATCH SIZE"
   ]
  },
  {
   "cell_type": "code",
   "execution_count": 27,
   "id": "2c3b0b82",
   "metadata": {},
   "outputs": [],
   "source": [
    "# Define the function to create the CNN-LSTM model\n",
    "def create_model():\n",
    "    model = Sequential()\n",
    "    model.add(TimeDistributed(Conv1D(filters=64, kernel_size=1, activation='relu'), input_shape=(None, 1, 21)))\n",
    "    model.add(TimeDistributed(MaxPooling1D(pool_size=1)))\n",
    "    model.add(TimeDistributed(Conv1D(filters=64, kernel_size=1, activation='relu')))\n",
    "    model.add(TimeDistributed(MaxPooling1D(pool_size=1)))\n",
    "    model.add(TimeDistributed(Conv1D(filters=64, kernel_size=1, activation='relu')))\n",
    "    model.add(TimeDistributed(MaxPooling1D(pool_size=1)))\n",
    "    model.add(TimeDistributed(Flatten()))\n",
    "    model.add(LSTM(56, input_shape=(1, 21)))\n",
    "    model.add(Dense(56, activation='relu'))\n",
    "    model.add(Dense(56, activation='relu'))\n",
    "    model.add(Dense(56, activation='relu'))\n",
    "    model.add(Dense(1, activation = 'sigmoid'))  \n",
    "    model.compile(optimizer='adam', loss='mse')\n",
    "    return model"
   ]
  },
  {
   "cell_type": "code",
   "execution_count": 28,
   "id": "7b90e9c4",
   "metadata": {},
   "outputs": [],
   "source": [
    "model = KerasRegressor(model=create_model, loss=\"mse\", epochs=40, verbose=0)\n",
    "# define the grid search parameters\n",
    "batch_size = [16, 32, 64,128, 256]\n",
    "param_grid = dict( batch_size=batch_size)\n",
    "grid = GridSearchCV(estimator=model, param_grid=param_grid, n_jobs=-1, cv=3)\n",
    "grid_result = grid.fit(X_train, Y_train)"
   ]
  },
  {
   "cell_type": "code",
   "execution_count": 29,
   "id": "1515150a",
   "metadata": {},
   "outputs": [
    {
     "name": "stdout",
     "output_type": "stream",
     "text": [
      "Best: 0.689898 using {'batch_size': 256}\n",
      "0.684880 (0.004156) with: {'batch_size': 16}\n",
      "0.688970 (0.006966) with: {'batch_size': 32}\n",
      "0.684239 (0.015562) with: {'batch_size': 64}\n",
      "0.680238 (0.007914) with: {'batch_size': 128}\n",
      "0.689898 (0.008497) with: {'batch_size': 256}\n"
     ]
    }
   ],
   "source": [
    "# summarize results\n",
    "print(\"Best: %f using %s\" % (grid_result.best_score_, grid_result.best_params_))\n",
    "means = grid_result.cv_results_['mean_test_score']\n",
    "stds = grid_result.cv_results_['std_test_score']\n",
    "params = grid_result.cv_results_['params']\n",
    "for mean, stdev, param in zip(means, stds, params):\n",
    "    print(\"%f (%f) with: %r\" % (mean, stdev, param))"
   ]
  },
  {
   "cell_type": "code",
   "execution_count": null,
   "id": "98615881",
   "metadata": {},
   "outputs": [],
   "source": []
  },
  {
   "cell_type": "code",
   "execution_count": null,
   "id": "235af338",
   "metadata": {},
   "outputs": [],
   "source": [
    "def create_model( hidden_layers = 1):\n",
    "  # Initialize the constructor\n",
    "  model = Sequential()\n",
    "  # Add an input layer\n",
    "  model.add(TimeDistributed(Conv1D(filters=64, kernel_size=1, activation='relu'), input_shape=(None, 1, 13)))\n",
    "  model.add(TimeDistributed(MaxPooling1D(pool_size=1)))\n",
    "\n",
    "  for i in range(hidden_layers):\n",
    "      # Add one hidden layer\n",
    "      model.add(TimeDistributed(Conv1D(filters=64, kernel_size=1, activation='relu')))\n",
    "      model.add(TimeDistributed(MaxPooling1D(pool_size=1)))\n",
    "      model.add(TimeDistributed(Flatten()))\n",
    "      model.add(LSTM(28, input_shape=(1, 13)))\n",
    "      model.add(Dense(28, activation='relu'))\n",
    "        \n",
    "  # Add an output layer \n",
    "  model.add(Dense(1, activation = 'sigmoid'))\n",
    "  #compile model\n",
    "  model.compile(loss='mse', optimizer='adam')\n",
    "  return model"
   ]
  },
  {
   "cell_type": "code",
   "execution_count": null,
   "id": "a1649016",
   "metadata": {},
   "outputs": [],
   "source": [
    "model = KerasRegressor(model=create_model, loss=\"mse\", hidden_layers=1, epochs=40, batch_size=32, verbose=0)\n",
    "# define the grid search parameters\n",
    "hidden_layers = [1, 2, 3, 4]\n",
    "param_grid = dict(hidden_layers=hidden_layers)\n",
    "grid = GridSearchCV(estimator=model, param_grid=param_grid, n_jobs=-1, cv=3)\n",
    "grid_result = grid.fit(X_train, Y_train)"
   ]
  },
  {
   "cell_type": "code",
   "execution_count": null,
   "id": "4f8abf85",
   "metadata": {},
   "outputs": [],
   "source": [
    "# summarize results\n",
    "print(\"Best: %f using %s\" % (grid_result.best_score_, grid_result.best_params_))\n",
    "means = grid_result.cv_results_['mean_test_score']\n",
    "stds = grid_result.cv_results_['std_test_score']\n",
    "params = grid_result.cv_results_['params']\n",
    "for mean, stdev, param in zip(means, stds, params):\n",
    "    print(\"%f (%f) with: %r\" % (mean, stdev, param))"
   ]
  },
  {
   "cell_type": "code",
   "execution_count": null,
   "id": "3d6a6393",
   "metadata": {},
   "outputs": [],
   "source": []
  }
 ],
 "metadata": {
  "kernelspec": {
   "display_name": "Python 3 (ipykernel)",
   "language": "python",
   "name": "python3"
  },
  "language_info": {
   "codemirror_mode": {
    "name": "ipython",
    "version": 3
   },
   "file_extension": ".py",
   "mimetype": "text/x-python",
   "name": "python",
   "nbconvert_exporter": "python",
   "pygments_lexer": "ipython3",
   "version": "3.9.7"
  }
 },
 "nbformat": 4,
 "nbformat_minor": 5
}
