{
 "cells": [
  {
   "cell_type": "code",
   "execution_count": null,
   "id": "b2d9193f-3d4d-45b6-bccb-0b5472cca9c0",
   "metadata": {},
   "outputs": [],
   "source": [
    "import pandas as pd\n",
    "import numpy as np\n",
    "import matplotlib.pyplot as plt\n",
    "import statsmodels.api as sm\n",
    "from sklearn.preprocessing import StandardScaler\n",
    "from sklearn.linear_model import LogisticRegression\n",
    "from sklearn.neighbors import NearestNeighbors\n",
    "from causalml.inference.tf import DragonNet"
   ]
  },
  {
   "cell_type": "code",
   "execution_count": null,
   "id": "9d7c33e3-a8fa-429a-94fc-5b5adfa686a9",
   "metadata": {},
   "outputs": [],
   "source": [
    "# Load dataset\n",
    "df = pd.read_csv(\"C:/Users/User/Documents/GitHub/Health-impacts-of-air-pollution/MortData/GertPollMort30.csv\", sep=';', header=0, index_col=0, parse_dates=True)\n"
   ]
  },
  {
   "cell_type": "code",
   "execution_count": null,
   "id": "df7b8775-c3cf-4ca3-ac8c-17b3b8f313f8",
   "metadata": {},
   "outputs": [],
   "source": [
    "# Drop rows with missing mortality data\n",
    "df_clean = df.dropna(subset=['death_count'])"
   ]
  },
  {
   "cell_type": "code",
   "execution_count": null,
   "id": "1d47eb02-9788-4670-98fa-5332a042fe07",
   "metadata": {},
   "outputs": [],
   "source": [
    "# Define treatment: Days when PM2.5 > 40 & PM10 > 75\n",
    "#df_clean['treatment'] = np.where((df_clean['pm2.5'] > 40) & (df_clean['pm10'] > 75), 1, 0)\n",
    "df_clean['treatment'] = np.where((df_clean['pm2.5'] > 40), 1, 0)"
   ]
  },
  {
   "cell_type": "code",
   "execution_count": null,
   "id": "ad89987c-f954-4dac-91d0-01d42feb8605",
   "metadata": {},
   "outputs": [],
   "source": [
    "# Define features for propensity score matching\n",
    "covariates = ['pm2.5', 'pm10', 'so2', 'no2', 'no', 'nox', 'o3', 'co', 'ws', 'wd', 'temp', 'relHum']"
   ]
  },
  {
   "cell_type": "code",
   "execution_count": null,
   "id": "4fff1017-dddf-45fc-bc61-dd8183abc2ee",
   "metadata": {},
   "outputs": [],
   "source": [
    "# Fit Propensity Score Model (Logistic Regression)\n",
    "ps_model = LogisticRegression(solver='liblinear')\n",
    "df_clean = df_clean.dropna(subset=covariates)  # Drop missing values in covariates\n",
    "ps_model.fit(df_clean[covariates], df_clean['treatment'])"
   ]
  },
  {
   "cell_type": "code",
   "execution_count": null,
   "id": "2f81b430-ca42-4bcd-9375-b601eca61729",
   "metadata": {},
   "outputs": [],
   "source": [
    "# Generate Propensity Scores\n",
    "df_clean['propensity_score'] = ps_model.predict_proba(df_clean[covariates])[:, 1]"
   ]
  },
  {
   "cell_type": "code",
   "execution_count": null,
   "id": "be4806ff-da00-4dc4-a72b-7a753f46f05b",
   "metadata": {},
   "outputs": [],
   "source": [
    "# 1:1 Nearest Neighbor Matching\n",
    "nn = NearestNeighbors(n_neighbors=1, metric='euclidean')\n",
    "control_group = df_clean[df_clean['treatment'] == 0][['propensity_score']]\n",
    "treated_group = df_clean[df_clean['treatment'] == 1][['propensity_score']]\n",
    "nn.fit(control_group)\n",
    "distances, indices = nn.kneighbors(treated_group)"
   ]
  },
  {
   "cell_type": "code",
   "execution_count": null,
   "id": "df52550b-336e-4ea8-9b02-b622ace3d5b7",
   "metadata": {},
   "outputs": [],
   "source": [
    "# Create matched dataset\n",
    "matched_control_indices = control_group.iloc[indices.flatten()].index\n",
    "matched_data = pd.concat([df_clean.loc[matched_control_indices], df_clean[df_clean['treatment'] == 1]])"
   ]
  },
  {
   "cell_type": "code",
   "execution_count": null,
   "id": "38619f6e-0a58-4c9c-aaeb-d4fe7e117011",
   "metadata": {},
   "outputs": [],
   "source": [
    "#  DragonNet (Deep Learning Causal Model)**\n",
    "  \n",
    "# Prepare data for DragonNet\n",
    "X_dragon = matched_data[covariates].astype(np.float32)\n",
    "treatment_dragon = matched_data['treatment'].astype(np.float32)\n",
    "y_dragon = matched_data['death_count'].astype(np.float32)\n"
   ]
  },
  {
   "cell_type": "code",
   "execution_count": null,
   "id": "1ebf95c7-486c-47a1-a0cd-21e62a406d80",
   "metadata": {},
   "outputs": [],
   "source": [
    "# Standardize features\n",
    "scaler = StandardScaler()\n",
    "X_dragon_scaled = scaler.fit_transform(X_dragon)\n"
   ]
  },
  {
   "cell_type": "code",
   "execution_count": null,
   "id": "dc4c6de9-b58c-4e9c-950a-f8e1b4bb0a25",
   "metadata": {},
   "outputs": [],
   "source": [
    "# Train DragonNet\n",
    "dragonnet = DragonNet()\n",
    "dragonnet.fit(X_dragon_scaled, treatment_dragon, y_dragon)"
   ]
  },
  {
   "cell_type": "code",
   "execution_count": null,
   "id": "f06c0bb1-9917-4dcb-889d-e495b6c9c86c",
   "metadata": {},
   "outputs": [],
   "source": [
    "# Predict treatment effects\n",
    "treatment_effects_dragon = dragonnet.predict(X_dragon_scaled)\n",
    "#ate_dragon = treatment_effects_dragon[:, 2].mean()\n",
    "#print(f\"\\n🔹 DragonNet Estimated ATE: {ate_dragon}\")"
   ]
  },
  {
   "cell_type": "code",
   "execution_count": null,
   "id": "f3e9b564-401f-4df3-bf41-9a40e9350f20",
   "metadata": {},
   "outputs": [],
   "source": [
    "#Here, you are calling .mean() directly on the entire treatment_effects array, which includes both columns. This can be misleading.\n",
    "# To get the actual ATE as 𝜇1−𝜇0  , you need to subtract the two columns:\n",
    "mu0 = treatment_effects_dragon[:, 0]\n",
    "mu1 = treatment_effects_dragon[:, 1]\n",
    "ite = mu1 - mu0  # Individual Treatment Effect for each sample\n",
    "ate = ite.mean()\n",
    "print(\"Average Treatment Effect (ATE):\", ate)\n",
    "# Otherwise, treatment_effects.mean() lumps together  𝜇1−𝜇0, which is not the difference."
   ]
  },
  {
   "cell_type": "code",
   "execution_count": null,
   "id": "c9dc55c5-9b62-4221-91e4-2e634cb65a32",
   "metadata": {},
   "outputs": [],
   "source": [
    "# 🔹 **Step 5: Visualizations**\n",
    "# Plot mortality trends for treated vs. control groups\n",
    "df_clean = df_clean.reset_index().rename(columns={'index': 'date'})\n",
    "mortality_trend = df_clean.groupby(['date', 'treatment'])['death_count'].mean().unstack()"
   ]
  },
  {
   "cell_type": "code",
   "execution_count": null,
   "id": "8dbf2547-db73-40d9-bd55-1185b6d971cb",
   "metadata": {},
   "outputs": [],
   "source": [
    "plt.figure(figsize=(12, 6))\n",
    "plt.plot(mortality_trend.index, mortality_trend[0], label=\"Control (Low PM2.5)\", color='blue')\n",
    "plt.plot(mortality_trend.index, mortality_trend[1], label=\"Treated (High PM2.5)\", color='red', linestyle=\"dashed\")\n",
    "plt.xlabel(\"Date\")\n",
    "plt.ylabel(\"Average Cardiovascular Mortality\")\n",
    "plt.title(\"Cardiovascular Mortality Trends: Low vs. High PM2.5 Days\")\n",
    "plt.legend()\n",
    "plt.show()"
   ]
  },
  {
   "cell_type": "code",
   "execution_count": null,
   "id": "dcaa74fd-a505-4bba-a49c-db41e77598cc",
   "metadata": {},
   "outputs": [],
   "source": [
    "# Plot histogram of treatment effects\n",
    "plt.hist(ite, bins=30, alpha=0.7, color='blue')\n",
    "plt.title('Casual Effects at Gert Sibande', fontname=\"Times New Roman\", size=28,fontweight=\"bold\")\n",
    "plt.xlabel('Cardiopulmonary casual Effect', fontname=\"Times New Roman\", size=20,fontweight=\"bold\")\n",
    "plt.ylabel('Frequency', fontname=\"Times New Roman\", size=20,fontweight=\"bold\")\n",
    "legend_properties = {'weight':'bold'}\n",
    "plt.legend(prop=legend_properties)\n",
    "plt.show()"
   ]
  },
  {
   "cell_type": "code",
   "execution_count": null,
   "id": "45f17b41-fb71-40dd-80dd-466f951d6ba8",
   "metadata": {},
   "outputs": [],
   "source": []
  },
  {
   "cell_type": "code",
   "execution_count": null,
   "id": "16f7bf86-babc-48d2-baa6-b4f46f7ad180",
   "metadata": {},
   "outputs": [],
   "source": []
  },
  {
   "cell_type": "code",
   "execution_count": null,
   "id": "88889c38-0345-468c-b77e-592dd21a0f18",
   "metadata": {},
   "outputs": [],
   "source": []
  }
 ],
 "metadata": {
  "kernelspec": {
   "display_name": "Python 3 (ipykernel)",
   "language": "python",
   "name": "python3"
  },
  "language_info": {
   "codemirror_mode": {
    "name": "ipython",
    "version": 3
   },
   "file_extension": ".py",
   "mimetype": "text/x-python",
   "name": "python",
   "nbconvert_exporter": "python",
   "pygments_lexer": "ipython3",
   "version": "3.12.9"
  }
 },
 "nbformat": 4,
 "nbformat_minor": 5
}
